{
 "cells": [
  {
   "cell_type": "code",
   "execution_count": 1,
   "metadata": {},
   "outputs": [],
   "source": [
    "# Return an array containing the numbers from 1 to N, where N is the parametered value. \n",
    "# N will never be less than 1 (in C#, N might be less then 1).\n",
    "\n",
    "# C# ONLY: If N is smaller then or equal to 0, throw an ArgumentOutOfRangeException!\n",
    "# Replace certain values however if any of the following conditions are met:\n",
    "\n",
    "# If the value is a multiple of 3: use the value 'Fizz' instead\n",
    "# If the value is a multiple of 5: use the value 'Buzz' instead\n",
    "# If the value is a multiple of 3 & 5: use the value 'FizzBuzz' instead\n",
    "# C# method calling example:\n",
    "\n",
    "# string[] result = FizzBuzz.GetFizzBuzzArray(3); // => [ \"1\", \"2\", \"Fizz\" ]"
   ]
  },
  {
   "cell_type": "code",
   "execution_count": 3,
   "metadata": {},
   "outputs": [],
   "source": [
    "def fizzbuzz(n):\n",
    "    res = []\n",
    "    for step in range(1,n+1):\n",
    "        if step%3==0 and step%5==0:\n",
    "            res.append('FizzBuzz')\n",
    "        elif step%3==0:\n",
    "            res.append('Fizz')\n",
    "        elif step%5==0:\n",
    "            res.append('Buzz')\n",
    "        else:\n",
    "            res.append(step)\n",
    "    return res"
   ]
  },
  {
   "cell_type": "code",
   "execution_count": null,
   "metadata": {},
   "outputs": [],
   "source": []
  }
 ],
 "metadata": {
  "kernelspec": {
   "display_name": "Python 3",
   "language": "python",
   "name": "python3"
  },
  "language_info": {
   "codemirror_mode": {
    "name": "ipython",
    "version": 3
   },
   "file_extension": ".py",
   "mimetype": "text/x-python",
   "name": "python",
   "nbconvert_exporter": "python",
   "pygments_lexer": "ipython3",
   "version": "3.7.3"
  }
 },
 "nbformat": 4,
 "nbformat_minor": 2
}
