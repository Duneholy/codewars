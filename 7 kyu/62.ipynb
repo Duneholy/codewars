{
 "cells": [
  {
   "cell_type": "code",
   "execution_count": 1,
   "metadata": {},
   "outputs": [],
   "source": [
    "#Complete the function circleArea so that it will return the area of a circle with the given radius. \n",
    "#Round the returned number to two decimal places (except for Haskell). \n",
    "#If the radius is not positive or not a number, return false.\n",
    "\n",
    "#Example:\n",
    "\n",
    "#circleArea(-1485.86)     #returns false\n",
    "#circleArea(0)            #returns false\n",
    "#circleArea(43.2673)      #returns 5881.25\n",
    "#circleArea(68)           #returns 14526.72\n",
    "#circleArea(\"number\")     #returns false"
   ]
  },
  {
   "cell_type": "code",
   "execution_count": 17,
   "metadata": {},
   "outputs": [],
   "source": [
    "import math\n",
    "def circleArea(r):\n",
    "    return round(math.pi*(r**2),2) if not isinstance(r,str) and r>=0 else False"
   ]
  },
  {
   "cell_type": "code",
   "execution_count": 21,
   "metadata": {},
   "outputs": [
    {
     "name": "stdout",
     "output_type": "stream",
     "text": [
      "3.14\n"
     ]
    }
   ],
   "source": [
    "print (circleArea(1))"
   ]
  }
 ],
 "metadata": {
  "kernelspec": {
   "display_name": "Python 3",
   "language": "python",
   "name": "python3"
  },
  "language_info": {
   "codemirror_mode": {
    "name": "ipython",
    "version": 3
   },
   "file_extension": ".py",
   "mimetype": "text/x-python",
   "name": "python",
   "nbconvert_exporter": "python",
   "pygments_lexer": "ipython3",
   "version": "3.7.3"
  }
 },
 "nbformat": 4,
 "nbformat_minor": 2
}
