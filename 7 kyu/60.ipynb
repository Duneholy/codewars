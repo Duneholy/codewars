{
 "cells": [
  {
   "cell_type": "code",
   "execution_count": 1,
   "metadata": {},
   "outputs": [],
   "source": [
    "#An anagram is the result of rearranging the letters of a word to produce a new word (see wikipedia).\n",
    "\n",
    "#Note: anagrams are case insensitive\n",
    "\n",
    "#Complete the function to return true if the two arguments given are anagrams of theeach other;\n",
    "#Examples\n",
    "#\"foefet\" is an anagram of \"toffee\"\n",
    "\n",
    "#\"Buckethead\" is an anagram of \"DeathCubeK\""
   ]
  },
  {
   "cell_type": "code",
   "execution_count": 2,
   "metadata": {},
   "outputs": [],
   "source": [
    "# write the function is_anagram\n",
    "def is_anagram(test, original):\n",
    "    return sorted(test.lower())==sorted(original.lower())"
   ]
  },
  {
   "cell_type": "code",
   "execution_count": null,
   "metadata": {},
   "outputs": [],
   "source": []
  }
 ],
 "metadata": {
  "kernelspec": {
   "display_name": "Python 3",
   "language": "python",
   "name": "python3"
  },
  "language_info": {
   "codemirror_mode": {
    "name": "ipython",
    "version": 3
   },
   "file_extension": ".py",
   "mimetype": "text/x-python",
   "name": "python",
   "nbconvert_exporter": "python",
   "pygments_lexer": "ipython3",
   "version": "3.7.3"
  }
 },
 "nbformat": 4,
 "nbformat_minor": 2
}
