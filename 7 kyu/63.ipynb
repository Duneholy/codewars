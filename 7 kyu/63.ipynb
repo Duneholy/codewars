{
 "cells": [
  {
   "cell_type": "code",
   "execution_count": null,
   "metadata": {},
   "outputs": [],
   "source": [
    "#In honor of my grandfather's memory we will write a function using his formula!\n",
    "\n",
    "#Take a list of ages when each of your great-grandparent died.\n",
    "#Multiply each number by itself.\n",
    "#Add them all together.\n",
    "#Take the square root of the result.\n",
    "#Divide by two.\n",
    "#Example\n",
    "#predict_age(65, 60, 75, 55, 60, 63, 64, 45) == 86"
   ]
  },
  {
   "cell_type": "code",
   "execution_count": 2,
   "metadata": {},
   "outputs": [],
   "source": [
    "import math\n",
    "def predict_age(age_1, age_2, age_3, age_4, age_5, age_6, age_7, age_8):\n",
    "    return int((math.sqrt(age_1**2+age_2**2+age_3**2+age_4**2+age_5**2+age_6**2\n",
    "    +age_7**2+age_8**2))/2)"
   ]
  },
  {
   "cell_type": "code",
   "execution_count": 3,
   "metadata": {},
   "outputs": [],
   "source": [
    "def predict_age(*ages):\n",
    "    return sum(a*a for a in ages)**.5//2\n",
    "#а что так можно было менять функцию на кв? будем знать"
   ]
  },
  {
   "cell_type": "code",
   "execution_count": null,
   "metadata": {},
   "outputs": [],
   "source": []
  }
 ],
 "metadata": {
  "kernelspec": {
   "display_name": "Python 3",
   "language": "python",
   "name": "python3"
  },
  "language_info": {
   "codemirror_mode": {
    "name": "ipython",
    "version": 3
   },
   "file_extension": ".py",
   "mimetype": "text/x-python",
   "name": "python",
   "nbconvert_exporter": "python",
   "pygments_lexer": "ipython3",
   "version": "3.7.3"
  }
 },
 "nbformat": 4,
 "nbformat_minor": 2
}
