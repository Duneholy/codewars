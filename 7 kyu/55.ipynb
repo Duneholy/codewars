{
 "cells": [
  {
   "cell_type": "code",
   "execution_count": null,
   "metadata": {},
   "outputs": [],
   "source": [
    "#We want to generate a function that computes the series starting \n",
    "#from 0 and ending until the given number following the sequence:\n",
    "\n",
    "#0 1 3 6 10 15 21 28 36 45 55 ....\n",
    "\n",
    "#which is created by\n",
    "\n",
    "#0, 0+1, 0+1+2, 0+1+2+3, 0+1+2+3+4, 0+1+2+3+4+5, 0+1+2+3+4+5+6, 0+1+2+3+4+5+6+7 etc..\n",
    "#Example:\n",
    "\n",
    "#Input:\n",
    "#> 6\n",
    "#Output:\n",
    "#0+1+2+3+4+5+6 = 21\n",
    "\n",
    "#Input:\n",
    "#> -15\n",
    "#Output:\n",
    "#-15<0\n",
    "\n",
    "#Input:\n",
    "#> 0\n",
    "#Output:\n",
    "#0=0"
   ]
  },
  {
   "cell_type": "code",
   "execution_count": 1,
   "metadata": {},
   "outputs": [],
   "source": [
    "def show_sequence(n):\n",
    "    if n == 0:\n",
    "        return '0=0'\n",
    "    elif n<0:\n",
    "        return str(n)+'<0'\n",
    "    else:\n",
    "        return '+'.join(str(i) for i in range(0,n+1))+' = '+str(sum(i for i in range(0,n+1)))"
   ]
  },
  {
   "cell_type": "code",
   "execution_count": 2,
   "metadata": {},
   "outputs": [
    {
     "data": {
      "text/plain": [
       "'0+1+2+3+4+5+6+7 = 28'"
      ]
     },
     "execution_count": 2,
     "metadata": {},
     "output_type": "execute_result"
    }
   ],
   "source": [
    "show_sequence(7)"
   ]
  },
  {
   "cell_type": "code",
   "execution_count": null,
   "metadata": {},
   "outputs": [],
   "source": []
  }
 ],
 "metadata": {
  "kernelspec": {
   "display_name": "Python 3",
   "language": "python",
   "name": "python3"
  },
  "language_info": {
   "codemirror_mode": {
    "name": "ipython",
    "version": 3
   },
   "file_extension": ".py",
   "mimetype": "text/x-python",
   "name": "python",
   "nbconvert_exporter": "python",
   "pygments_lexer": "ipython3",
   "version": "3.7.3"
  }
 },
 "nbformat": 4,
 "nbformat_minor": 2
}
