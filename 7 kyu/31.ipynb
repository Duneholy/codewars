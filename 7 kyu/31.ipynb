{
 "cells": [
  {
   "cell_type": "code",
   "execution_count": null,
   "metadata": {},
   "outputs": [],
   "source": [
    "#Your task is to make function, which returns the sum of a sequence of integers.\n",
    "\n",
    "#The sequence is defined by 3 non-negative values: begin, end, step.\n",
    "\n",
    "#If begin value is greater than the end, function should returns 0\n",
    "\n",
    "#Examples\n",
    "\n",
    "#sequenceSum(2,2,2) === 2\n",
    "#sequenceSum(2,6,2) === 12 // 2 + 4 + 6\n",
    "#sequenceSum(1,5,1) === 15 // 1 + 2 + 3 + 4 + 5\n",
    "#sequenceSum(1,5,3) === 5 // 1 + 4"
   ]
  },
  {
   "cell_type": "code",
   "execution_count": 35,
   "metadata": {},
   "outputs": [
    {
     "name": "stdout",
     "output_type": "stream",
     "text": [
      "-5\n"
     ]
    }
   ],
   "source": [
    "begin_number =-1\n",
    "end_number = -5\n",
    "step = -3\n",
    "print (sum (i for i in range (begin_number, end_number, step)))\n",
    "#решл так"
   ]
  },
  {
   "cell_type": "code",
   "execution_count": 33,
   "metadata": {},
   "outputs": [
    {
     "name": "stdout",
     "output_type": "stream",
     "text": [
      "-1\n",
      "-4\n"
     ]
    }
   ],
   "source": [
    "for i in range (begin_number, end_number, step):\n",
    "    print (i)"
   ]
  },
  {
   "cell_type": "code",
   "execution_count": 30,
   "metadata": {},
   "outputs": [
    {
     "data": {
      "text/plain": [
       "2"
      ]
     },
     "execution_count": 30,
     "metadata": {},
     "output_type": "execute_result"
    }
   ],
   "source": [
    "sum(range(begin_number, end_number+1, step))\n",
    "#решение с кв, можно выводить прост сумму в рейндже, без цикла"
   ]
  },
  {
   "cell_type": "code",
   "execution_count": null,
   "metadata": {},
   "outputs": [],
   "source": []
  }
 ],
 "metadata": {
  "kernelspec": {
   "display_name": "Python 3",
   "language": "python",
   "name": "python3"
  },
  "language_info": {
   "codemirror_mode": {
    "name": "ipython",
    "version": 3
   },
   "file_extension": ".py",
   "mimetype": "text/x-python",
   "name": "python",
   "nbconvert_exporter": "python",
   "pygments_lexer": "ipython3",
   "version": "3.7.3"
  }
 },
 "nbformat": 4,
 "nbformat_minor": 2
}
