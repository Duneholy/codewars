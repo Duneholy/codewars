{
 "cells": [
  {
   "cell_type": "code",
   "execution_count": 1,
   "metadata": {},
   "outputs": [],
   "source": [
    "#Given two integers a and b, which can be positive or negative, find the sum of all the numbers between \n",
    "#including them too and return it. If the two numbers are equal return a or b.\n",
    "#get_sum(1, 0) == 1   // 1 + 0 = 1\n",
    "#get_sum(1, 2) == 3   // 1 + 2 = 3\n",
    "#get_sum(0, 1) == 1   // 0 + 1 = 1\n",
    "#get_sum(1, 1) == 1   // 1 Since both are same\n",
    "#get_sum(-1, 0) == -1 // -1 + 0 = -1\n",
    "#get_sum(-1, 2) == 2  // -1 + 0 + 1 + 2 = 2"
   ]
  },
  {
   "cell_type": "code",
   "execution_count": 94,
   "metadata": {},
   "outputs": [
    {
     "name": "stdout",
     "output_type": "stream",
     "text": [
      "1\n"
     ]
    }
   ],
   "source": [
    "a = 1\n",
    "b = 0\n",
    "print (sum (i for i in range (a,b+1))) if a<b else print(sum (i for i in range (b,a+1)))"
   ]
  },
  {
   "cell_type": "code",
   "execution_count": 91,
   "metadata": {},
   "outputs": [
    {
     "name": "stdout",
     "output_type": "stream",
     "text": [
      "-1\n",
      "0\n",
      "1\n",
      "2\n"
     ]
    }
   ],
   "source": [
    "for i in range (a,b+1):\n",
    "    print (i)"
   ]
  },
  {
   "cell_type": "code",
   "execution_count": null,
   "metadata": {},
   "outputs": [],
   "source": []
  }
 ],
 "metadata": {
  "kernelspec": {
   "display_name": "Python 3",
   "language": "python",
   "name": "python3"
  },
  "language_info": {
   "codemirror_mode": {
    "name": "ipython",
    "version": 3
   },
   "file_extension": ".py",
   "mimetype": "text/x-python",
   "name": "python",
   "nbconvert_exporter": "python",
   "pygments_lexer": "ipython3",
   "version": "3.7.3"
  }
 },
 "nbformat": 4,
 "nbformat_minor": 2
}
