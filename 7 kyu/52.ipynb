{
 "cells": [
  {
   "cell_type": "code",
   "execution_count": 1,
   "metadata": {},
   "outputs": [],
   "source": [
    "#Friedrich Gauss busy for a good long time, while he teaching arithmetic to his mates, \n",
    "#assigned him the problem of adding up all the whole numbers from 1 through a given number n.\n",
    "\n",
    "#Your task is to help the young Carl Friedrich to solve this problem as quickly as you can; \n",
    "#so, he can astonish his teacher and rescue his recreation interval.\n",
    "\n",
    "#Here's, an example:\n",
    "\n",
    "#f(n=100) // returns 5050 "
   ]
  },
  {
   "cell_type": "code",
   "execution_count": 2,
   "metadata": {},
   "outputs": [],
   "source": [
    "def f(n):\n",
    "    if isinstance(n, int) and n>0:\n",
    "        res = 0\n",
    "        for i in range (0,n+1):\n",
    "            res += i\n",
    "        return res\n",
    "    else:\n",
    "        return None"
   ]
  },
  {
   "cell_type": "code",
   "execution_count": 3,
   "metadata": {},
   "outputs": [],
   "source": [
    "def f(n):\n",
    "    return sum(range(n+1))"
   ]
  },
  {
   "cell_type": "code",
   "execution_count": null,
   "metadata": {},
   "outputs": [],
   "source": []
  }
 ],
 "metadata": {
  "kernelspec": {
   "display_name": "Python 3",
   "language": "python",
   "name": "python3"
  },
  "language_info": {
   "codemirror_mode": {
    "name": "ipython",
    "version": 3
   },
   "file_extension": ".py",
   "mimetype": "text/x-python",
   "name": "python",
   "nbconvert_exporter": "python",
   "pygments_lexer": "ipython3",
   "version": "3.7.3"
  }
 },
 "nbformat": 4,
 "nbformat_minor": 2
}
