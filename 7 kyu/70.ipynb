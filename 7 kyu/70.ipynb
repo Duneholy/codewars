{
 "cells": [
  {
   "cell_type": "code",
   "execution_count": 1,
   "metadata": {},
   "outputs": [],
   "source": [
    "# We want to know the index of the vowels in a given word, for example, there are two vowels \n",
    "# in the word super (the second and fourth letters).\n",
    "\n",
    "# So given a string \"super\", we should return a list of [2, 4].\n",
    "\n",
    "# Some examples:\n",
    "# Mmmm  => []\n",
    "# Super => [2,4]\n",
    "# Apple => [1,5]\n",
    "# YoMama -> [1,2,4,6]"
   ]
  },
  {
   "cell_type": "code",
   "execution_count": 17,
   "metadata": {},
   "outputs": [],
   "source": [
    "def vowel_indices(word):\n",
    "    res = []\n",
    "    w = 'aeiouyAEIOUY'\n",
    "    for a,b in enumerate([i for i in word]):\n",
    "        if b in w:\n",
    "            res.append(a+1)\n",
    "    return res"
   ]
  },
  {
   "cell_type": "code",
   "execution_count": 18,
   "metadata": {},
   "outputs": [
    {
     "name": "stdout",
     "output_type": "stream",
     "text": [
      "[2, 4]\n"
     ]
    }
   ],
   "source": [
    "print (vowel_indices(\"super\"))"
   ]
  }
 ],
 "metadata": {
  "kernelspec": {
   "display_name": "Python 3",
   "language": "python",
   "name": "python3"
  },
  "language_info": {
   "codemirror_mode": {
    "name": "ipython",
    "version": 3
   },
   "file_extension": ".py",
   "mimetype": "text/x-python",
   "name": "python",
   "nbconvert_exporter": "python",
   "pygments_lexer": "ipython3",
   "version": "3.7.3"
  }
 },
 "nbformat": 4,
 "nbformat_minor": 2
}
