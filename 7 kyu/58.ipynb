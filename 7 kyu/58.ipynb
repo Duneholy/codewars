{
 "cells": [
  {
   "cell_type": "code",
   "execution_count": 1,
   "metadata": {},
   "outputs": [],
   "source": [
    "#Complete the function power_of_two/powerOfTwo (or equivalent, depending on your language) \n",
    "#that determines if a given non-negative integer is a power of two. From the corresponding Wikipedia entry:\n",
    "\n",
    "#a power of two is a number of the form 2n where n is an integer, \n",
    "#i.e. the result of exponentiation with number two as the base and integer n as the exponent.\n",
    "\n",
    "#You may assume the input is always valid.\n",
    "\n",
    "#Examples\n",
    "#power_of_two(1024) ==> True\n",
    "#power_of_two(4096) ==> True\n",
    "#power_of_two(333)  ==> False\n",
    "#Beware of certain edge cases - for example, 1 is a power of 2 since 2^0 = 1 and 0 is not a power of 2."
   ]
  },
  {
   "cell_type": "code",
   "execution_count": 133,
   "metadata": {},
   "outputs": [
    {
     "name": "stdout",
     "output_type": "stream",
     "text": [
      "False\n"
     ]
    }
   ],
   "source": [
    "def power_of_two(x):\n",
    "    y = 1\n",
    "    while 2**y<x:\n",
    "        y += 1\n",
    "    return 2**y==x if x!=1 else True\n",
    "print (power_of_two(242))"
   ]
  },
  {
   "cell_type": "code",
   "execution_count": null,
   "metadata": {},
   "outputs": [],
   "source": [
    "def power_of_two(x):\n",
    "    return x != 0 and ((x & (x - 1)) == 0) #на кв все решения с помощью оператора &"
   ]
  }
 ],
 "metadata": {
  "kernelspec": {
   "display_name": "Python 3",
   "language": "python",
   "name": "python3"
  },
  "language_info": {
   "codemirror_mode": {
    "name": "ipython",
    "version": 3
   },
   "file_extension": ".py",
   "mimetype": "text/x-python",
   "name": "python",
   "nbconvert_exporter": "python",
   "pygments_lexer": "ipython3",
   "version": "3.7.3"
  }
 },
 "nbformat": 4,
 "nbformat_minor": 2
}
