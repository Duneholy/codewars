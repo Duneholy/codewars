{
 "cells": [
  {
   "cell_type": "code",
   "execution_count": null,
   "metadata": {},
   "outputs": [],
   "source": [
    "#https://www.codewars.com/kata/parts-of-a-list/train/python"
   ]
  },
  {
   "cell_type": "code",
   "execution_count": 29,
   "metadata": {},
   "outputs": [],
   "source": [
    "arr = [\"I\", \"wish\", \"I\", \"hadn't\", \"come\"]"
   ]
  },
  {
   "cell_type": "code",
   "execution_count": 33,
   "metadata": {},
   "outputs": [
    {
     "data": {
      "text/plain": [
       "['I', \"wish I hadn't come\"]"
      ]
     },
     "execution_count": 33,
     "metadata": {},
     "output_type": "execute_result"
    }
   ],
   "source": [
    "res1 = []\n",
    "res1 += (' '.join(arr[0:1])+' , '+' '.join(arr[1:])).split(' , ')\n",
    "res1"
   ]
  },
  {
   "cell_type": "code",
   "execution_count": 34,
   "metadata": {},
   "outputs": [
    {
     "data": {
      "text/plain": [
       "['I wish', \"I hadn't come\"]"
      ]
     },
     "execution_count": 34,
     "metadata": {},
     "output_type": "execute_result"
    }
   ],
   "source": [
    "res2 = []\n",
    "res2 += (' '.join(arr[0:2])+' , '+' '.join(arr[2:])).split(' , ')\n",
    "res2"
   ]
  },
  {
   "cell_type": "code",
   "execution_count": 42,
   "metadata": {},
   "outputs": [
    {
     "data": {
      "text/plain": [
       "[('I', \"wish I hadn't come\"),\n",
       " ('I wish', \"I hadn't come\"),\n",
       " ('I wish I', \"hadn't come\"),\n",
       " (\"I wish I hadn't\", 'come')]"
      ]
     },
     "execution_count": 42,
     "metadata": {},
     "output_type": "execute_result"
    }
   ],
   "source": [
    "arr = [\"I\", \"wish\", \"I\", \"hadn't\", \"come\"]\n",
    "res = []\n",
    "index = 1\n",
    "while index < len(arr):\n",
    "    res.append(tuple((' '.join(arr[0:index])+','+' '.join(arr[index:])).split(',')))\n",
    "    index += 1\n",
    "res"
   ]
  },
  {
   "cell_type": "code",
   "execution_count": null,
   "metadata": {},
   "outputs": [],
   "source": [
    "#готово"
   ]
  },
  {
   "cell_type": "code",
   "execution_count": 43,
   "metadata": {},
   "outputs": [],
   "source": [
    "def partlist(arr):\n",
    "    return [(' '.join(arr[:i]), ' '.join(arr[i:])) for i in range(1, len(arr))]\n",
    "#решение с кв - то же самое, но в 1 строку и вместо моего индекса используется i in range 1, len(arr), что короче и проще"
   ]
  },
  {
   "cell_type": "code",
   "execution_count": null,
   "metadata": {},
   "outputs": [],
   "source": []
  }
 ],
 "metadata": {
  "kernelspec": {
   "display_name": "Python 3",
   "language": "python",
   "name": "python3"
  },
  "language_info": {
   "codemirror_mode": {
    "name": "ipython",
    "version": 3
   },
   "file_extension": ".py",
   "mimetype": "text/x-python",
   "name": "python",
   "nbconvert_exporter": "python",
   "pygments_lexer": "ipython3",
   "version": "3.7.3"
  }
 },
 "nbformat": 4,
 "nbformat_minor": 2
}
