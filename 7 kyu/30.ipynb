{
 "cells": [
  {
   "cell_type": "code",
   "execution_count": 1,
   "metadata": {},
   "outputs": [],
   "source": [
    "#You are given an odd-length array of integers, in which all of them are the same, except for one single number.\n",
    "#Complete the method which accepts such an array, and returns that single different number.\n",
    "#test.assert_equals(stray([1, 1, 1, 1, 1, 1, 2]), 2)\n",
    "#test.assert_equals(stray([2, 3, 2, 2, 2]), 3)\n",
    "#test.assert_equals(stray([3, 2, 2, 2, 2]), 3)"
   ]
  },
  {
   "cell_type": "code",
   "execution_count": 13,
   "metadata": {},
   "outputs": [
    {
     "name": "stdout",
     "output_type": "stream",
     "text": [
      "3\n"
     ]
    }
   ],
   "source": [
    "arr = [3, 2, 2, 2, 2]\n",
    "arr.sort()\n",
    "for i in arr:\n",
    "    if arr[1] != i:\n",
    "        print (arr[0])\n",
    "        break\n",
    "    else:\n",
    "        arr.sort(reverse=True)\n",
    "        print (arr[0])\n",
    "        break"
   ]
  },
  {
   "cell_type": "code",
   "execution_count": 15,
   "metadata": {},
   "outputs": [
    {
     "name": "stdout",
     "output_type": "stream",
     "text": [
      "3\n"
     ]
    }
   ],
   "source": [
    "#мое решение через две сортировки, но на кв вариант проще:\n",
    "arr = [3, 2, 2, 2, 2]\n",
    "for x in arr:\n",
    "    if arr.count(x) == 1:\n",
    "        print (x)\n",
    "#посчитать все x в списке и вывести тот, который был только один раз"
   ]
  },
  {
   "cell_type": "code",
   "execution_count": null,
   "metadata": {},
   "outputs": [],
   "source": []
  }
 ],
 "metadata": {
  "kernelspec": {
   "display_name": "Python 3",
   "language": "python",
   "name": "python3"
  },
  "language_info": {
   "codemirror_mode": {
    "name": "ipython",
    "version": 3
   },
   "file_extension": ".py",
   "mimetype": "text/x-python",
   "name": "python",
   "nbconvert_exporter": "python",
   "pygments_lexer": "ipython3",
   "version": "3.7.3"
  }
 },
 "nbformat": 4,
 "nbformat_minor": 2
}
