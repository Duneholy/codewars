{
 "cells": [
  {
   "cell_type": "code",
   "execution_count": 1,
   "metadata": {},
   "outputs": [],
   "source": [
    "#This program tests the life of an evaporator containing a gas.\n",
    "\n",
    "#We know the content of the evaporator (content in ml), the percentage of foam or gas lost every day (evap_per_day) \n",
    "#and the threshold (threshold) in percentage beyond which the evaporator is no longer useful. \n",
    "#All numbers are strictly positive.\n",
    "\n",
    "#The program reports the nth day (as an integer) on which the evaporator will be out of use.\n",
    "\n",
    "#Note : Content is in fact not necessary in the body of the function \"evaporator\", you can use it or not use it, \n",
    "#as you wish. Some people might prefer to reason with content, some other with percentages only. \n",
    "#It's up to you but you must keep it as a parameter because the tests have it as an argument."
   ]
  },
  {
   "cell_type": "code",
   "execution_count": 4,
   "metadata": {},
   "outputs": [
    {
     "data": {
      "text/plain": [
       "22"
      ]
     },
     "execution_count": 4,
     "metadata": {},
     "output_type": "execute_result"
    }
   ],
   "source": [
    "content = 10\n",
    "evap_per_day = 10\n",
    "threshold = 10\n",
    "current = content\n",
    "cycles = 0\n",
    "while current >= content * threshold / 100.0:\n",
    "    current = current * (1-evap_per_day/100.0)\n",
    "    cycles += 1\n",
    "cycles"
   ]
  }
 ],
 "metadata": {
  "kernelspec": {
   "display_name": "Python 3",
   "language": "python",
   "name": "python3"
  },
  "language_info": {
   "codemirror_mode": {
    "name": "ipython",
    "version": 3
   },
   "file_extension": ".py",
   "mimetype": "text/x-python",
   "name": "python",
   "nbconvert_exporter": "python",
   "pygments_lexer": "ipython3",
   "version": "3.7.3"
  }
 },
 "nbformat": 4,
 "nbformat_minor": 2
}
