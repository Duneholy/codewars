{
 "cells": [
  {
   "cell_type": "code",
   "execution_count": 54,
   "metadata": {},
   "outputs": [
    {
     "data": {
      "text/plain": [
       "633.383710450354"
      ]
     },
     "execution_count": 54,
     "metadata": {},
     "output_type": "execute_result"
    }
   ],
   "source": [
    "card = 500\n",
    "ticket = 15\n",
    "perc = 0.9\n",
    "tms = 1\n",
    "for i in range (42):\n",
    "    card+=(ticket*perc)*(perc**(tms-1))\n",
    "    tms += 1\n",
    "card"
   ]
  },
  {
   "cell_type": "code",
   "execution_count": 55,
   "metadata": {},
   "outputs": [
    {
     "data": {
      "text/plain": [
       "630"
      ]
     },
     "execution_count": 55,
     "metadata": {},
     "output_type": "execute_result"
    }
   ],
   "source": [
    "ticket*42"
   ]
  },
  {
   "cell_type": "code",
   "execution_count": null,
   "metadata": {},
   "outputs": [],
   "source": [
    "import math \n",
    "\n",
    "def movie(card, ticket, perc):\n",
    " num = 0\n",
    " priceA = 0\n",
    " priceB = card\n",
    " \n",
    " while math.ceil(priceB) >= priceA:\n",
    "  num    += 1\n",
    "  priceA += ticket\n",
    "  priceB += ticket * (perc ** num)\n",
    "  \n",
    " return num"
   ]
  }
 ],
 "metadata": {
  "kernelspec": {
   "display_name": "Python 3",
   "language": "python",
   "name": "python3"
  },
  "language_info": {
   "codemirror_mode": {
    "name": "ipython",
    "version": 3
   },
   "file_extension": ".py",
   "mimetype": "text/x-python",
   "name": "python",
   "nbconvert_exporter": "python",
   "pygments_lexer": "ipython3",
   "version": "3.7.3"
  }
 },
 "nbformat": 4,
 "nbformat_minor": 2
}
