{
 "cells": [
  {
   "cell_type": "code",
   "execution_count": 2,
   "metadata": {},
   "outputs": [],
   "source": [
    "#Create a function named divisors/Divisors that takes an integer n > 1 and returns an array \n",
    "#with all of the integer's divisors(except for 1 and the number itself), from smallest to largest. \n",
    "#If the number is prime return the string '(integer) is prime' \n",
    "\n",
    "#Example:\n",
    "#divisors(12); #should return [2,3,4,6]\n",
    "#divisors(25); #should return [5]\n",
    "#divisors(13); #should return \"13 is prime\""
   ]
  },
  {
   "cell_type": "code",
   "execution_count": 20,
   "metadata": {},
   "outputs": [
    {
     "name": "stdout",
     "output_type": "stream",
     "text": [
      "13 is prime\n"
     ]
    }
   ],
   "source": [
    "#думаю надо просто делить число на 2 и если без остатка, 2+1 итд\n",
    "integer = 13\n",
    "delitel = 2\n",
    "res = []\n",
    "while delitel < integer:\n",
    "    if integer%delitel == 0:\n",
    "        res.append (delitel)\n",
    "        delitel += 1\n",
    "    else:\n",
    "        delitel +=1\n",
    "print (str(integer)+' is prime') if res == [] else print (res)\n",
    "#решил с помощью доп переменной и цикла"
   ]
  },
  {
   "cell_type": "code",
   "execution_count": 30,
   "metadata": {},
   "outputs": [
    {
     "name": "stdout",
     "output_type": "stream",
     "text": [
      "13 is prime\n"
     ]
    }
   ],
   "source": [
    "num = 13\n",
    "res = [a for a in range(2,num) if num%a == 0]\n",
    "if len(res) == 0:\n",
    "    print (str(num) + \" is prime\")\n",
    "else:\n",
    "    print (res)"
   ]
  },
  {
   "cell_type": "code",
   "execution_count": 38,
   "metadata": {},
   "outputs": [],
   "source": [
    "#решение с кв, вывод такой же как у меня, а вот список res делался по другому:\n",
    "#a for a in range (2,num) if num%a == 0, смысл тот же, только не аппендом, а рейндж из чисел сделали"
   ]
  },
  {
   "cell_type": "code",
   "execution_count": null,
   "metadata": {},
   "outputs": [],
   "source": []
  }
 ],
 "metadata": {
  "kernelspec": {
   "display_name": "Python 3",
   "language": "python",
   "name": "python3"
  },
  "language_info": {
   "codemirror_mode": {
    "name": "ipython",
    "version": 3
   },
   "file_extension": ".py",
   "mimetype": "text/x-python",
   "name": "python",
   "nbconvert_exporter": "python",
   "pygments_lexer": "ipython3",
   "version": "3.7.3"
  }
 },
 "nbformat": 4,
 "nbformat_minor": 2
}
