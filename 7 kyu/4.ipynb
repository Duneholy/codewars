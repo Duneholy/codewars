{
 "cells": [
  {
   "cell_type": "code",
   "execution_count": 1,
   "metadata": {},
   "outputs": [],
   "source": [
    "#In this little assignment you are given a string of space separated numbers, \n",
    "#and have to return the highest and lowest number.\n",
    "#Example:\n",
    "#high_and_low(\"1 2 3 4 5\")  # return \"5 1\"\n",
    "#high_and_low(\"1 2 -3 4 5\") # return \"5 -3\"\n",
    "#high_and_low(\"1 9 3 4 -5\") # return \"9 -5\""
   ]
  },
  {
   "cell_type": "code",
   "execution_count": 23,
   "metadata": {},
   "outputs": [
    {
     "name": "stdout",
     "output_type": "stream",
     "text": [
      "542 -214\n"
     ]
    }
   ],
   "source": [
    "numbers = \"4 5 29 54 4 0 -214 542 -64 1 -3 6 -6\"\n",
    "res = numbers.split(\" \")\n",
    "res = list(map(int, res))\n",
    "print (str(max(res))+' '+str(min(res)))\n",
    "#решил, изменив первоначальный список"
   ]
  },
  {
   "cell_type": "code",
   "execution_count": 27,
   "metadata": {},
   "outputs": [],
   "source": [
    "n = map(int, numbers.split(' '))\n",
    "#можно было залить вторую строку в третью - решение с кв"
   ]
  },
  {
   "cell_type": "code",
   "execution_count": null,
   "metadata": {},
   "outputs": [],
   "source": []
  }
 ],
 "metadata": {
  "kernelspec": {
   "display_name": "Python 3",
   "language": "python",
   "name": "python3"
  },
  "language_info": {
   "codemirror_mode": {
    "name": "ipython",
    "version": 3
   },
   "file_extension": ".py",
   "mimetype": "text/x-python",
   "name": "python",
   "nbconvert_exporter": "python",
   "pygments_lexer": "ipython3",
   "version": "3.7.3"
  }
 },
 "nbformat": 4,
 "nbformat_minor": 2
}
