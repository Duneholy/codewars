{
 "cells": [
  {
   "cell_type": "code",
   "execution_count": 1,
   "metadata": {},
   "outputs": [],
   "source": [
    "#Let us begin with an example:\n",
    "\n",
    "#Take a number: 56789. Rotate left, you get 67895.\n",
    "\n",
    "#Keep the first digit in place and rotate left the other digits: 68957.\n",
    "\n",
    "#Keep the first two digits in place and rotate the other ones: 68579.\n",
    "\n",
    "#Keep the first three digits and rotate left the rest: 68597. \n",
    "#Now it is over since keeping the first four it remains only one digit which rotated is itself.\n",
    "\n",
    "#You have the following sequence of numbers:\n",
    "\n",
    "#56789 -> 67895 -> 68957 -> 68579 -> 68597\n",
    "\n",
    "#and you must return the greatest: 68957."
   ]
  },
  {
   "cell_type": "code",
   "execution_count": 93,
   "metadata": {},
   "outputs": [],
   "source": [
    "n = 56789\n",
    "def max_rot(n):\n",
    "    s, arr = str(n), [n]\n",
    "# создается список arr с первым элементом n, который дан в условии\n",
    "# s = стринг от n\n",
    "    for i in range(len(s)):\n",
    "#для i в рейдже длины s - т.е. пять раз\n",
    "        s = s[:i] + s[i+1:] + s[i]\n",
    "# s теперь собирается из трех частей:\n",
    "# ''+6789+5 = 67895\n",
    "#след цикл - 67895 разбираем на = 6+895+7 = 68957\n",
    "        arr.append(int(s))\n",
    "    return max(arr)"
   ]
  },
  {
   "cell_type": "code",
   "execution_count": 92,
   "metadata": {},
   "outputs": [],
   "source": [
    "def max_rot(n):\n",
    "    num = str(n)\n",
    "    rot = [ ]\n",
    "    if len(num) <= 2 or None:\n",
    "        return n \n",
    "    if len(num) > 2:\n",
    "        rot.append(num)\n",
    "        num = num[1:] + num[0]\n",
    "        rot.append(num)\n",
    "        num = num[0] + num[2:] + num[1]\n",
    "        rot.append(num)\n",
    "    if len(num) >= 4:\n",
    "        num = num[0:2] + num[3:] + num[2] \n",
    "        rot.append(num)\n",
    "    if len(num) >= 5:\n",
    "        num = num[0:3] + num[4:] + num[3]\n",
    "        rot.append(num)\n",
    "        num = num[0:4] + num[5:] + num[4] \n",
    "        rot.append(num)\n",
    "    if len(num) >= 7: \n",
    "        num = num[0:5] + num[6:] + num[5]\n",
    "        rot.append(num)\n",
    "    convert_r_input = [int(x) for x in rot]\n",
    "    \n",
    "    return max(convert_r_input)"
   ]
  },
  {
   "cell_type": "code",
   "execution_count": null,
   "metadata": {},
   "outputs": [],
   "source": []
  }
 ],
 "metadata": {
  "kernelspec": {
   "display_name": "Python 3",
   "language": "python",
   "name": "python3"
  },
  "language_info": {
   "codemirror_mode": {
    "name": "ipython",
    "version": 3
   },
   "file_extension": ".py",
   "mimetype": "text/x-python",
   "name": "python",
   "nbconvert_exporter": "python",
   "pygments_lexer": "ipython3",
   "version": "3.7.3"
  }
 },
 "nbformat": 4,
 "nbformat_minor": 2
}
