{
 "cells": [
  {
   "cell_type": "code",
   "execution_count": null,
   "metadata": {},
   "outputs": [],
   "source": [
    "#Write a method palindrome_chain_length which takes a positive number and returns the number of special steps \n",
    "#needed to obtain a palindrome. The special step is: \"reverse the digits, and add to the original number\". \n",
    "#If the resulting number is not a palindrome, repeat the procedure with the sum until the resulting number \n",
    "#is a palindrome.\n",
    "\n",
    "#If the input number is already a palindrome, the number of steps is 0.\n",
    "\n",
    "#Input will always be a positive integer.\n",
    "\n",
    "#For example, start with 87:\n",
    "\n",
    "#87 + 78 = 165; 165 + 561 = 726; 726 + 627 = 1353; 1353 + 3531 = 4884\n",
    "\n",
    "#4884 is a palindrome and we needed 4 steps to obtain it, so palindrome_chain_length(87) == 4"
   ]
  },
  {
   "cell_type": "code",
   "execution_count": 12,
   "metadata": {},
   "outputs": [
    {
     "data": {
      "text/plain": [
       "4"
      ]
     },
     "execution_count": 12,
     "metadata": {},
     "output_type": "execute_result"
    }
   ],
   "source": [
    "n = 87\n",
    "res = n\n",
    "cycles = 0\n",
    "while str(res) != str(res)[::-1]:\n",
    "    res += int(str(res)[::-1])\n",
    "    cycles += 1\n",
    "cycles"
   ]
  },
  {
   "cell_type": "code",
   "execution_count": null,
   "metadata": {},
   "outputs": [],
   "source": []
  }
 ],
 "metadata": {
  "kernelspec": {
   "display_name": "Python 3",
   "language": "python",
   "name": "python3"
  },
  "language_info": {
   "codemirror_mode": {
    "name": "ipython",
    "version": 3
   },
   "file_extension": ".py",
   "mimetype": "text/x-python",
   "name": "python",
   "nbconvert_exporter": "python",
   "pygments_lexer": "ipython3",
   "version": "3.7.3"
  }
 },
 "nbformat": 4,
 "nbformat_minor": 2
}
