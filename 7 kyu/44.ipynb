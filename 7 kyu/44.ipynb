{
 "cells": [
  {
   "cell_type": "code",
   "execution_count": 1,
   "metadata": {},
   "outputs": [],
   "source": [
    "#Triangular numbers are so called because of the equilateral triangular shape that they occupy when laid out as dots. \n",
    "\n",
    "#1st (1)   2nd (3)    3rd (6)\n",
    "#*          **        ***\n",
    "#           *         **\n",
    "#                     *\n",
    "#You need to return the nth triangular number. You should return 0 for out of range values:\n",
    "\n",
    "#  triangular(0)==0,\n",
    "#  triangular(2)==3,\n",
    "#  triangular(3)==6,\n",
    "#  triangular(-10)==0"
   ]
  },
  {
   "cell_type": "code",
   "execution_count": 2,
   "metadata": {},
   "outputs": [],
   "source": [
    "#1 = 1\n",
    "#2 = 3\n",
    "#3 = 6\n",
    "#4 = 10\n",
    "#5 = 15\n",
    "#6 = 21"
   ]
  },
  {
   "cell_type": "code",
   "execution_count": 22,
   "metadata": {},
   "outputs": [
    {
     "data": {
      "text/plain": [
       "171"
      ]
     },
     "execution_count": 22,
     "metadata": {},
     "output_type": "execute_result"
    }
   ],
   "source": [
    "n = 18\n",
    "cycle = 0\n",
    "x = 0\n",
    "while cycle!=n:\n",
    "    x += cycle+1\n",
    "    cycle += 1\n",
    "x"
   ]
  },
  {
   "cell_type": "code",
   "execution_count": 23,
   "metadata": {},
   "outputs": [
    {
     "name": "stdout",
     "output_type": "stream",
     "text": [
      "60.5\n",
      "6.5\n",
      "5.5\n",
      "9.5\n"
     ]
    }
   ],
   "source": [
    "print (7260/120)\n",
    "print (78/12)\n",
    "print (55/10)\n",
    "print (171/18)"
   ]
  },
  {
   "cell_type": "code",
   "execution_count": 26,
   "metadata": {},
   "outputs": [
    {
     "data": {
      "text/plain": [
       "171.0"
      ]
     },
     "execution_count": 26,
     "metadata": {},
     "output_type": "execute_result"
    }
   ],
   "source": [
    "18*(18/2)+18/2"
   ]
  },
  {
   "cell_type": "code",
   "execution_count": 25,
   "metadata": {},
   "outputs": [
    {
     "data": {
      "text/plain": [
       "9"
      ]
     },
     "execution_count": 25,
     "metadata": {},
     "output_type": "execute_result"
    }
   ],
   "source": [
    "171-162"
   ]
  },
  {
   "cell_type": "code",
   "execution_count": 37,
   "metadata": {},
   "outputs": [
    {
     "data": {
      "text/plain": [
       "21.0"
      ]
     },
     "execution_count": 37,
     "metadata": {},
     "output_type": "execute_result"
    }
   ],
   "source": [
    "n = 6\n",
    "n**2/2+n/2"
   ]
  },
  {
   "cell_type": "code",
   "execution_count": null,
   "metadata": {},
   "outputs": [],
   "source": [
    "#первая программа громоздкая и пришлось решать математически"
   ]
  }
 ],
 "metadata": {
  "kernelspec": {
   "display_name": "Python 3",
   "language": "python",
   "name": "python3"
  },
  "language_info": {
   "codemirror_mode": {
    "name": "ipython",
    "version": 3
   },
   "file_extension": ".py",
   "mimetype": "text/x-python",
   "name": "python",
   "nbconvert_exporter": "python",
   "pygments_lexer": "ipython3",
   "version": "3.7.3"
  }
 },
 "nbformat": 4,
 "nbformat_minor": 2
}
