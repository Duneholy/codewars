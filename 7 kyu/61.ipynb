{
 "cells": [
  {
   "cell_type": "code",
   "execution_count": 1,
   "metadata": {},
   "outputs": [],
   "source": [
    "#Complete the function so that it returns the number of seconds that have elapsed between the start \n",
    "#and end times given.\n",
    "\n",
    "#Tips:\n",
    "#The start/end times are given as datetime(Python\n",
    "#The start time will always be before the end time.\n",
    "\n",
    "#Test.describe(\"Basic tests\")\n",
    "#start = datetime(2013, 1, 1, 0, 0, 1)\n",
    "#end = datetime(2013, 1, 1, 0, 0, 2)\n",
    "#end2 = datetime(2013, 1, 1, 0, 0, 20)\n",
    "\n",
    "#Test.assert_equals(elapsed_seconds(start, end), 1)\n",
    "#Test.assert_equals(elapsed_seconds(end, end2), 18)"
   ]
  },
  {
   "cell_type": "code",
   "execution_count": 15,
   "metadata": {},
   "outputs": [],
   "source": [
    "from datetime import datetime\n",
    "def elapsed_seconds(start, end):\n",
    "    from datetime import datetime\n",
    "    delta = end - start\n",
    "    return delta.seconds\n",
    "#все просто, работа с модулем datetime"
   ]
  },
  {
   "cell_type": "code",
   "execution_count": 16,
   "metadata": {},
   "outputs": [
    {
     "name": "stdout",
     "output_type": "stream",
     "text": [
      "1\n"
     ]
    }
   ],
   "source": [
    "start = datetime(2013, 1, 1, 0, 0, 1)\n",
    "end = datetime(2013, 1, 1, 0, 0, 2)\n",
    "print (elapsed_seconds(start, end))"
   ]
  },
  {
   "cell_type": "code",
   "execution_count": null,
   "metadata": {},
   "outputs": [],
   "source": []
  }
 ],
 "metadata": {
  "kernelspec": {
   "display_name": "Python 3",
   "language": "python",
   "name": "python3"
  },
  "language_info": {
   "codemirror_mode": {
    "name": "ipython",
    "version": 3
   },
   "file_extension": ".py",
   "mimetype": "text/x-python",
   "name": "python",
   "nbconvert_exporter": "python",
   "pygments_lexer": "ipython3",
   "version": "3.7.3"
  }
 },
 "nbformat": 4,
 "nbformat_minor": 2
}
