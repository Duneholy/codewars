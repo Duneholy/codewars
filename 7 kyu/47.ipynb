{
 "cells": [
  {
   "cell_type": "code",
   "execution_count": 1,
   "metadata": {},
   "outputs": [],
   "source": [
    "#Given an Array and an Example-Array to sort to, write a function that sorts the Array following the Example-Array.\n",
    "\n",
    "#Assume Example Array catalogs all elements possibly seen in the input Array. \n",
    "#However, the input Array does not necessarily have to have all elements seen in the Example.\n",
    "\n",
    "#Example:\n",
    "\n",
    "#Arr: [1,3,4,4,4,4,5]\n",
    "\n",
    "#Example Arr: [4,1,2,3,5]\n",
    "\n",
    "#Result: [4,4,4,4,1,3,5]"
   ]
  },
  {
   "cell_type": "code",
   "execution_count": 20,
   "metadata": {},
   "outputs": [
    {
     "data": {
      "text/plain": [
       "[2, 3, 3, 3, 4, 1, 5]"
      ]
     },
     "execution_count": 20,
     "metadata": {},
     "output_type": "execute_result"
    }
   ],
   "source": [
    "arr = [1,2,3,3,3,4,5]\n",
    "exarr = [2,3,4,1,5]\n",
    "res = []\n",
    "#проверять циклом подходит ли i из arr на exarr[0] и если да то добавлять в новый список. Если цикл закончен то удалить 1 элемент\n",
    "#из exarr и запустить снова\n",
    "while exarr:\n",
    "    for i in arr:\n",
    "        if i == exarr[0]:\n",
    "            res.append(i)\n",
    "    exarr.pop(0)\n",
    "res"
   ]
  },
  {
   "cell_type": "code",
   "execution_count": null,
   "metadata": {},
   "outputs": [],
   "source": [
    "def example_sort(arr, example_arr):\n",
    "    return sorted(arr, key=example_arr.index)\n",
    "#решение с кв - можно сортировать по доступному списку"
   ]
  }
 ],
 "metadata": {
  "kernelspec": {
   "display_name": "Python 3",
   "language": "python",
   "name": "python3"
  },
  "language_info": {
   "codemirror_mode": {
    "name": "ipython",
    "version": 3
   },
   "file_extension": ".py",
   "mimetype": "text/x-python",
   "name": "python",
   "nbconvert_exporter": "python",
   "pygments_lexer": "ipython3",
   "version": "3.7.3"
  }
 },
 "nbformat": 4,
 "nbformat_minor": 2
}
