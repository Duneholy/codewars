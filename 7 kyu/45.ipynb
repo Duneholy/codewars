{
 "cells": [
  {
   "cell_type": "code",
   "execution_count": 1,
   "metadata": {},
   "outputs": [],
   "source": [
    "#Write a function that takes a single string (word) as argument. \n",
    "#The function must return an ordered list containing the indexes of all capital letters in the string.\n",
    "\n",
    "#Example\n",
    "#Test.assertSimilar( capitals('CodEWaRs'), [0,3,4,6] );"
   ]
  },
  {
   "cell_type": "code",
   "execution_count": 10,
   "metadata": {},
   "outputs": [
    {
     "data": {
      "text/plain": [
       "[0, 3, 4, 6]"
      ]
     },
     "execution_count": 10,
     "metadata": {},
     "output_type": "execute_result"
    }
   ],
   "source": [
    "word = 'CodEWaRs'\n",
    "res = []\n",
    "index = -1\n",
    "for letter in word:\n",
    "    index += 1\n",
    "    if letter.isupper():\n",
    "        res.append(index)\n",
    "res"
   ]
  },
  {
   "cell_type": "code",
   "execution_count": 11,
   "metadata": {},
   "outputs": [
    {
     "name": "stdout",
     "output_type": "stream",
     "text": [
      "[0, 3, 4, 6]\n"
     ]
    }
   ],
   "source": [
    "def capitals(word):\n",
    "    return [i for (i, c) in enumerate(word) if c.isupper()]\n",
    "print (capitals('CodEWaRs'))"
   ]
  },
  {
   "cell_type": "code",
   "execution_count": null,
   "metadata": {},
   "outputs": [],
   "source": [
    "#решил первым вариантом, второй - с кв, опять я забыл про enumerate, которая создает последовательность"
   ]
  }
 ],
 "metadata": {
  "kernelspec": {
   "display_name": "Python 3",
   "language": "python",
   "name": "python3"
  },
  "language_info": {
   "codemirror_mode": {
    "name": "ipython",
    "version": 3
   },
   "file_extension": ".py",
   "mimetype": "text/x-python",
   "name": "python",
   "nbconvert_exporter": "python",
   "pygments_lexer": "ipython3",
   "version": "3.7.3"
  }
 },
 "nbformat": 4,
 "nbformat_minor": 2
}
