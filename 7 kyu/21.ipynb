{
 "cells": [
  {
   "cell_type": "code",
   "execution_count": 1,
   "metadata": {},
   "outputs": [],
   "source": [
    "#The Western Suburbs Croquet Club has two categories of membership, Senior and Open. \n",
    "#They would like your help with an application form that will tell prospective members \n",
    "#which category they will be placed.\n",
    "\n",
    "#To be a senior, a member must be at least 55 years old and have a handicap \n",
    "#greater than 7. In this croquet club, handicaps range from -2 to +26; the better \n",
    "#the player the lower the handicap.\n",
    "\n",
    "#Input\n",
    "#Input will consist of a list of lists containing two items each. \n",
    "#Each list contains information for a single potential member. \n",
    "#Information consists of an integer for the person's age and an integer for the person's handicap.\n",
    "\n",
    "\n",
    "#Example Input\n",
    "#[[18, 20],[45, 2],[61, 12],[37, 6],[21, 21],[78, 9]]\n",
    "\n",
    "#Example Output\n",
    "#[\"Open\", \"Open\", \"Senior\", \"Open\", \"Open\", \"Senior\"]"
   ]
  },
  {
   "cell_type": "code",
   "execution_count": 5,
   "metadata": {},
   "outputs": [
    {
     "data": {
      "text/plain": [
       "['Open', 'Open', 'Senior', 'Open', 'Open', 'Senior']"
      ]
     },
     "execution_count": 5,
     "metadata": {},
     "output_type": "execute_result"
    }
   ],
   "source": [
    "data = [[18, 20],[45, 2],[61, 12],[37, 6],[21, 21],[78, 9]]\n",
    "res = []\n",
    "for i,a in data:\n",
    "    if i >= 55 and a > 7:\n",
    "        res.append('Senior')\n",
    "    else:\n",
    "        res.append ('Open')\n",
    "res"
   ]
  },
  {
   "cell_type": "code",
   "execution_count": 7,
   "metadata": {},
   "outputs": [
    {
     "data": {
      "text/plain": [
       "['Open', 'Open', 'Senior', 'Open', 'Open', 'Senior']"
      ]
     },
     "execution_count": 7,
     "metadata": {},
     "output_type": "execute_result"
    }
   ],
   "source": [
    "[\"Senior\" if age >= 55 and handicap >= 8 else \"Open\" for (age, handicap) in data]"
   ]
  },
  {
   "cell_type": "code",
   "execution_count": 8,
   "metadata": {},
   "outputs": [],
   "source": [
    "#1 - решил так, 2 - решение с кв в одну строку, то же самое в принципе"
   ]
  },
  {
   "cell_type": "code",
   "execution_count": null,
   "metadata": {},
   "outputs": [],
   "source": []
  }
 ],
 "metadata": {
  "kernelspec": {
   "display_name": "Python 3",
   "language": "python",
   "name": "python3"
  },
  "language_info": {
   "codemirror_mode": {
    "name": "ipython",
    "version": 3
   },
   "file_extension": ".py",
   "mimetype": "text/x-python",
   "name": "python",
   "nbconvert_exporter": "python",
   "pygments_lexer": "ipython3",
   "version": "3.7.3"
  }
 },
 "nbformat": 4,
 "nbformat_minor": 2
}
