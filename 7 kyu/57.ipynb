{
 "cells": [
  {
   "cell_type": "code",
   "execution_count": 1,
   "metadata": {},
   "outputs": [],
   "source": [
    "#Write a functionthat returns the number of occurrences of an element in an array.\n",
    "\n",
    "#Examples\n",
    "#sample = [0, 1, 2, 2, 3]\n",
    "#number_of_occurrences(0, sample) == 1\n",
    "#number_of_occurrences(4, sample) == 0\n",
    "#number_of_occurrences(2, sample) == 2\n",
    "#number_of_occurrences(3, sample) == 1"
   ]
  },
  {
   "cell_type": "code",
   "execution_count": 3,
   "metadata": {},
   "outputs": [
    {
     "data": {
      "text/plain": [
       "2"
      ]
     },
     "execution_count": 3,
     "metadata": {},
     "output_type": "execute_result"
    }
   ],
   "source": [
    "a = [0, 1, 2, 2, 3]\n",
    "b = 2\n",
    "sum(1 for i in a if i==b)"
   ]
  },
  {
   "cell_type": "code",
   "execution_count": 5,
   "metadata": {},
   "outputs": [],
   "source": [
    "#легкие задачи пошли\n",
    "def number_of_occurrences(a, b):\n",
    "    return a.count(b)"
   ]
  },
  {
   "cell_type": "code",
   "execution_count": null,
   "metadata": {},
   "outputs": [],
   "source": []
  }
 ],
 "metadata": {
  "kernelspec": {
   "display_name": "Python 3",
   "language": "python",
   "name": "python3"
  },
  "language_info": {
   "codemirror_mode": {
    "name": "ipython",
    "version": 3
   },
   "file_extension": ".py",
   "mimetype": "text/x-python",
   "name": "python",
   "nbconvert_exporter": "python",
   "pygments_lexer": "ipython3",
   "version": "3.7.3"
  }
 },
 "nbformat": 4,
 "nbformat_minor": 2
}
