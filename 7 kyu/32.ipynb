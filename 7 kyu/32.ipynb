{
 "cells": [
  {
   "cell_type": "code",
   "execution_count": 131,
   "metadata": {},
   "outputs": [
    {
     "name": "stdout",
     "output_type": "stream",
     "text": [
      "89876\n"
     ]
    }
   ],
   "source": [
    "s = '1234567898765'\n",
    "start = 0\n",
    "end = 5\n",
    "res = s[start:end]\n",
    "for i in s:\n",
    "    if len(s[start:end])==5:\n",
    "        if res < s[start+1:end+1]:\n",
    "            res = s[start:end]\n",
    "            start += 1\n",
    "            end += 1\n",
    "        else:\n",
    "            start+=1\n",
    "            end+=1\n",
    "print (res)\n",
    "#час думал как решить, так и не разобрался почему не выводит последнее нужное число"
   ]
  },
  {
   "cell_type": "code",
   "execution_count": 137,
   "metadata": {},
   "outputs": [
    {
     "data": {
      "text/plain": [
       "98765"
      ]
     },
     "execution_count": 137,
     "metadata": {},
     "output_type": "execute_result"
    }
   ],
   "source": [
    "numlist = [int(s[i:i+5]) for i in range(0,len(s)-4)]\n",
    "max(numlist)\n",
    "#решение с кв - создает список из списков по 5 символов, выводит самое большое... мда"
   ]
  },
  {
   "cell_type": "code",
   "execution_count": 138,
   "metadata": {},
   "outputs": [],
   "source": [
    "#смысл задачи вывести самое большое число из 5 цифр, которое может быть в полученном стр из цифр"
   ]
  },
  {
   "cell_type": "code",
   "execution_count": null,
   "metadata": {},
   "outputs": [],
   "source": []
  }
 ],
 "metadata": {
  "kernelspec": {
   "display_name": "Python 3",
   "language": "python",
   "name": "python3"
  },
  "language_info": {
   "codemirror_mode": {
    "name": "ipython",
    "version": 3
   },
   "file_extension": ".py",
   "mimetype": "text/x-python",
   "name": "python",
   "nbconvert_exporter": "python",
   "pygments_lexer": "ipython3",
   "version": "3.7.3"
  }
 },
 "nbformat": 4,
 "nbformat_minor": 2
}
