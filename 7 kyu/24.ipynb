{
 "cells": [
  {
   "cell_type": "code",
   "execution_count": 16,
   "metadata": {},
   "outputs": [],
   "source": [
    "#You are provided with a list (or array) of integer arrays (or tuples). \n",
    "#Each integer array has two items which represent number of people get into bus (The first item) \n",
    "#and number of people get off the bus (The second item) in a bus stop.\n",
    "\n",
    "#Your task is to return number of people who are still in the bus after the last bus station (after the last array).\n",
    "#test.assert_equals(number([[10,0],[3,5],[5,8]]),5)\n",
    "#test.assert_equals(number([[3,0],[9,1],[4,10],[12,2],[6,1],[7,10]]),17)\n",
    "#test.assert_equals(number([[3,0],[9,1],[4,8],[12,2],[6,1],[7,8]]),21)"
   ]
  },
  {
   "cell_type": "code",
   "execution_count": 36,
   "metadata": {},
   "outputs": [
    {
     "data": {
      "text/plain": [
       "17"
      ]
     },
     "execution_count": 36,
     "metadata": {},
     "output_type": "execute_result"
    }
   ],
   "source": [
    "bus_stops = [[3,0],[9,1],[4,10],[12,2],[6,1],[7,10]]\n",
    "res = 0\n",
    "for i in bus_stops:\n",
    "    res += i[0]\n",
    "    res -= i[1]\n",
    "res"
   ]
  },
  {
   "cell_type": "code",
   "execution_count": 40,
   "metadata": {},
   "outputs": [
    {
     "data": {
      "text/plain": [
       "<generator object <genexpr> at 0x10db6d930>"
      ]
     },
     "execution_count": 40,
     "metadata": {},
     "output_type": "execute_result"
    }
   ],
   "source": [
    "(i[0]-i[1] for i in bus_stops)"
   ]
  },
  {
   "cell_type": "code",
   "execution_count": 39,
   "metadata": {},
   "outputs": [
    {
     "data": {
      "text/plain": [
       "17"
      ]
     },
     "execution_count": 39,
     "metadata": {},
     "output_type": "execute_result"
    }
   ],
   "source": [
    "sum([i[0] - i[1] for i in bus_stops])"
   ]
  },
  {
   "cell_type": "code",
   "execution_count": null,
   "metadata": {},
   "outputs": [],
   "source": []
  }
 ],
 "metadata": {
  "kernelspec": {
   "display_name": "Python 3",
   "language": "python",
   "name": "python3"
  },
  "language_info": {
   "codemirror_mode": {
    "name": "ipython",
    "version": 3
   },
   "file_extension": ".py",
   "mimetype": "text/x-python",
   "name": "python",
   "nbconvert_exporter": "python",
   "pygments_lexer": "ipython3",
   "version": "3.7.3"
  }
 },
 "nbformat": 4,
 "nbformat_minor": 2
}
