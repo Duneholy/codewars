{
 "cells": [
  {
   "cell_type": "code",
   "execution_count": 1,
   "metadata": {},
   "outputs": [],
   "source": [
    "#Given the triangle of consecutive odd numbers:\n",
    "\n",
    "#             1\n",
    " #         3     5\n",
    "  #     7     9    11\n",
    "#   13    15    17    19\n",
    "#21    23    25    27    29\n",
    "#...\n",
    "#Calculate the row sums of this triangle from the row index (starting at index 1) e.g.:\n",
    "#\n",
    "#row_sum_odd_numbers(1); # 1\n",
    "#row_sum_odd_numbers(2); # 3 + 5 = 8\n",
    "#Test.assert_equals(row_sum_odd_numbers(13), 2197)\n",
    "#Test.assert_equals(row_sum_odd_numbers(19), 6859)\n",
    "#Test.assert_equals(row_sum_odd_numbers(41), 68921)"
   ]
  },
  {
   "cell_type": "code",
   "execution_count": 31,
   "metadata": {},
   "outputs": [
    {
     "name": "stdout",
     "output_type": "stream",
     "text": [
      "181\n"
     ]
    }
   ],
   "source": [
    "#первое число 2 строки основывается на последнем числе 1 строки, значит ищем последнее\n",
    "#5 это 2 строка 2 число, 2*2+1=5. 11 - 3 строка 3 число, 3*3+1+1=9+2=11\n",
    "#ищем последнее число x строки:\n",
    "x = 13\n",
    "y = x*x+(x-1)\n",
    "print (y)"
   ]
  },
  {
   "cell_type": "code",
   "execution_count": 32,
   "metadata": {},
   "outputs": [
    {
     "name": "stdout",
     "output_type": "stream",
     "text": [
      "2197\n"
     ]
    }
   ],
   "source": [
    "#верно, теперь находим сумму чисел в x строке, зная что в x строке = x чисел\n",
    "quantity = x\n",
    "res = y\n",
    "while quantity > 1:\n",
    "    res+= y-2\n",
    "    quantity -=1\n",
    "    y-=2\n",
    "print (res)"
   ]
  },
  {
   "cell_type": "code",
   "execution_count": 43,
   "metadata": {},
   "outputs": [
    {
     "name": "stdout",
     "output_type": "stream",
     "text": [
      "6859\n"
     ]
    }
   ],
   "source": [
    "#все верно, запишу в один код\n",
    "n = 19\n",
    "y = n*n+(n-1)\n",
    "res = y\n",
    "while n > 1:\n",
    "    res+= y-2\n",
    "    n -=1\n",
    "    y-=2\n",
    "print (res)"
   ]
  },
  {
   "cell_type": "code",
   "execution_count": 45,
   "metadata": {},
   "outputs": [
    {
     "data": {
      "text/plain": [
       "6859"
      ]
     },
     "execution_count": 45,
     "metadata": {},
     "output_type": "execute_result"
    }
   ],
   "source": [
    "#решение с кв - ору, математик из меня так себе\n",
    "n = 19\n",
    "n ** 3"
   ]
  },
  {
   "cell_type": "code",
   "execution_count": null,
   "metadata": {},
   "outputs": [],
   "source": []
  }
 ],
 "metadata": {
  "kernelspec": {
   "display_name": "Python 3",
   "language": "python",
   "name": "python3"
  },
  "language_info": {
   "codemirror_mode": {
    "name": "ipython",
    "version": 3
   },
   "file_extension": ".py",
   "mimetype": "text/x-python",
   "name": "python",
   "nbconvert_exporter": "python",
   "pygments_lexer": "ipython3",
   "version": "3.7.3"
  }
 },
 "nbformat": 4,
 "nbformat_minor": 2
}
