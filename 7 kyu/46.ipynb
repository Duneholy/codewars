{
 "cells": [
  {
   "cell_type": "code",
   "execution_count": null,
   "metadata": {},
   "outputs": [],
   "source": [
    "#Complete the solution so that it takes the object (JavaScript/CoffeeScript) or hash (ruby) \n",
    "#passed in and generates a human readable string from its key/value pairs.\n",
    "\n",
    "#The format should be \"KEY = VALUE\". Each key/value pair should be separated by a comma except for the last pair.\n",
    "\n",
    "#Example:\n",
    "\n",
    "#solution({\"a\": 1, \"b\": '2'}) # should return \"a = 1,b = 2\""
   ]
  },
  {
   "cell_type": "code",
   "execution_count": 43,
   "metadata": {},
   "outputs": [
    {
     "name": "stdout",
     "output_type": "stream",
     "text": [
      "a = 1,b = 2\n"
     ]
    }
   ],
   "source": [
    "def solution(pairs):\n",
    "    res = []\n",
    "    for k,v in sorted(pairs.items(), key=lambda t: t[0]):\n",
    "        res.append (str(k)+' = '+str(v))\n",
    "    return ','.join(str(i) for i in res)\n",
    "print (solution({'a': 1, 'b': 2}))"
   ]
  },
  {
   "cell_type": "code",
   "execution_count": 45,
   "metadata": {},
   "outputs": [],
   "source": [
    "def solution(pairs):\n",
    "    return ','.join(['{} = {}'.format(*a) for a in sorted(pairs.items())])"
   ]
  },
  {
   "cell_type": "code",
   "execution_count": null,
   "metadata": {},
   "outputs": [],
   "source": [
    "#мое решение вышло громоздким по сравнению со вторым решением с кв\n",
    "#из каждой итерации форматируется вся строка и присоединяется к выводу, все просто"
   ]
  }
 ],
 "metadata": {
  "kernelspec": {
   "display_name": "Python 3",
   "language": "python",
   "name": "python3"
  },
  "language_info": {
   "codemirror_mode": {
    "name": "ipython",
    "version": 3
   },
   "file_extension": ".py",
   "mimetype": "text/x-python",
   "name": "python",
   "nbconvert_exporter": "python",
   "pygments_lexer": "ipython3",
   "version": "3.7.3"
  }
 },
 "nbformat": 4,
 "nbformat_minor": 2
}
