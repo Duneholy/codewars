{
 "cells": [
  {
   "cell_type": "code",
   "execution_count": 1,
   "metadata": {},
   "outputs": [],
   "source": [
    "#An isogram is a word that has no repeating letters, consecutive or non-consecutive. \n",
    "#Implement a function that determines whether a string that contains only letters is an isogram. \n",
    "#Assume the empty string is an isogram. Ignore letter case.\n",
    "\n",
    "#is_isogram(\"Dermatoglyphics\" ) == true\n",
    "#is_isogram(\"aba\" ) == false\n",
    "#is_isogram(\"moOse\" ) == false # -- ignore letter case"
   ]
  },
  {
   "cell_type": "code",
   "execution_count": 24,
   "metadata": {},
   "outputs": [
    {
     "name": "stdout",
     "output_type": "stream",
     "text": [
      "True\n"
     ]
    }
   ],
   "source": [
    "string = 'biven'\n",
    "letters = list(string.lower())\n",
    "no_rep = set(letters)\n",
    "print (len(letters) <= len(no_rep))\n",
    "#решил так: делаем список из букв нижнего регистра, делаем множество неповторяющихся символов из этого списка и сравниваем длину"
   ]
  },
  {
   "cell_type": "code",
   "execution_count": null,
   "metadata": {},
   "outputs": [],
   "source": []
  }
 ],
 "metadata": {
  "kernelspec": {
   "display_name": "Python 3",
   "language": "python",
   "name": "python3"
  },
  "language_info": {
   "codemirror_mode": {
    "name": "ipython",
    "version": 3
   },
   "file_extension": ".py",
   "mimetype": "text/x-python",
   "name": "python",
   "nbconvert_exporter": "python",
   "pygments_lexer": "ipython3",
   "version": "3.7.3"
  }
 },
 "nbformat": 4,
 "nbformat_minor": 2
}
