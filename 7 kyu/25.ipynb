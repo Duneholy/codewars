{
 "cells": [
  {
   "cell_type": "code",
   "execution_count": 1,
   "metadata": {},
   "outputs": [],
   "source": [
    "#Task:\n",
    "#Your task is to write a function which returns the sum of following series upto nth term(parameter).\n",
    "\n",
    "#Series: 1 + 1/4 + 1/7 + 1/10 + 1/13 + 1/16 +...\n",
    "#Rules:\n",
    "#You need to round the answer to 2 decimal places and return it as String.\n",
    "\n",
    "#If the given value is 0 then it should return 0.00\n",
    "\n",
    "#You will only be given Natural Numbers as arguments.\n",
    "\n",
    "#Examples:\n",
    "#SeriesSum(1) => 1 = \"1.00\"\n",
    "#SeriesSum(2) => 1 + 1/4 = \"1.25\"\n",
    "#SeriesSum(5) => 1 + 1/4 + 1/7 + 1/10 + 1/13 = \"1.57\""
   ]
  },
  {
   "cell_type": "code",
   "execution_count": 74,
   "metadata": {},
   "outputs": [
    {
     "name": "stdout",
     "output_type": "stream",
     "text": [
      "1.00\n"
     ]
    }
   ],
   "source": [
    "#час решал, добавил три переменные чтоб считать кол-во циклов и прибавлять 3 к степени числа\n",
    "n = 1\n",
    "x = 1.00\n",
    "t = 4\n",
    "cycles = 1\n",
    "while cycles<n:\n",
    "        x += 1.00/t\n",
    "        t += 3\n",
    "        cycles += 1\n",
    "if n == 0:\n",
    "    print (0.00)\n",
    "else:\n",
    "    print (\"{0:.2f}\".format(round(x,2)))"
   ]
  },
  {
   "cell_type": "code",
   "execution_count": 76,
   "metadata": {},
   "outputs": [
    {
     "data": {
      "text/plain": [
       "'1.00'"
      ]
     },
     "execution_count": 76,
     "metadata": {},
     "output_type": "execute_result"
    }
   ],
   "source": [
    "'{:.2f}'.format(sum(1.0/(3 * i + 1) for i in range(n)))"
   ]
  },
  {
   "cell_type": "code",
   "execution_count": 81,
   "metadata": {},
   "outputs": [],
   "source": [
    "#решение с кв - сумма в рейндже (да, надо бы привыкнуть использовать рейндж для кол-ва итераций)\n",
    "#3*первое число(допустим 0)+1 = будет 1, затем 3*1 плюс 1 = 4, типа одна четвертая - да, все проще оказалось"
   ]
  }
 ],
 "metadata": {
  "kernelspec": {
   "display_name": "Python 3",
   "language": "python",
   "name": "python3"
  },
  "language_info": {
   "codemirror_mode": {
    "name": "ipython",
    "version": 3
   },
   "file_extension": ".py",
   "mimetype": "text/x-python",
   "name": "python",
   "nbconvert_exporter": "python",
   "pygments_lexer": "ipython3",
   "version": "3.7.3"
  }
 },
 "nbformat": 4,
 "nbformat_minor": 2
}
