{
 "cells": [
  {
   "cell_type": "code",
   "execution_count": 2,
   "metadata": {},
   "outputs": [],
   "source": [
    "#At the end of the first year there will be: \n",
    "#1000 + 1000 * 0.02 + 50 => 1070 inhabitants\n",
    "#At the end of the 2nd year there will be: \n",
    "#1070 + 1070 * 0.02 + 50 => 1141 inhabitants (number of inhabitants is an integer)\n",
    "#At the end of the 3rd year there will be:\n",
    "#1141 + 1141 * 0.02 + 50 => 1213\n",
    "#It will need 3 entire years."
   ]
  },
  {
   "cell_type": "code",
   "execution_count": 10,
   "metadata": {},
   "outputs": [
    {
     "name": "stdout",
     "output_type": "stream",
     "text": [
      "3\n"
     ]
    }
   ],
   "source": [
    "p0 = 1000\n",
    "percent = 2\n",
    "aug = 50\n",
    "p = 1200\n",
    "years = 0\n",
    "while p0 < p:\n",
    "    p0 = p0+p0*percent*0.01+aug\n",
    "    years +=1\n",
    "print (years)"
   ]
  },
  {
   "cell_type": "code",
   "execution_count": null,
   "metadata": {},
   "outputs": [],
   "source": []
  },
  {
   "cell_type": "code",
   "execution_count": null,
   "metadata": {},
   "outputs": [],
   "source": []
  }
 ],
 "metadata": {
  "kernelspec": {
   "display_name": "Python 3",
   "language": "python",
   "name": "python3"
  },
  "language_info": {
   "codemirror_mode": {
    "name": "ipython",
    "version": 3
   },
   "file_extension": ".py",
   "mimetype": "text/x-python",
   "name": "python",
   "nbconvert_exporter": "python",
   "pygments_lexer": "ipython3",
   "version": "3.7.3"
  }
 },
 "nbformat": 4,
 "nbformat_minor": 2
}
