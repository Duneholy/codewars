{
 "cells": [
  {
   "cell_type": "code",
   "execution_count": 50,
   "metadata": {},
   "outputs": [
    {
     "name": "stdout",
     "output_type": "stream",
     "text": [
      "88\n"
     ]
    }
   ],
   "source": [
    "import math\n",
    "x = [0.0, 0.02, 0.44, 0.66, 0.88, 1.1, 1.32, 1.54, 1.76]\n",
    "s = 17\n",
    "res = []\n",
    "for a,b in enumerate(x):\n",
    "    if len(res)<len(x)-1:\n",
    "        res.append(math.floor((3600*(x[a+1]-x[a])/s)))\n",
    "print (sorted(res)[-1])"
   ]
  },
  {
   "cell_type": "code",
   "execution_count": 51,
   "metadata": {},
   "outputs": [],
   "source": [
    "import math\n",
    "def gps(s, x):\n",
    "    res = []\n",
    "    for a,b in enumerate(x):\n",
    "        if len(res)<len(x)-1:\n",
    "            res.append(math.floor((3600*(x[a+1]-x[a])/s)))\n",
    "    if len(res)>1:\n",
    "        return sorted(res,reverse = True)[0]\n",
    "    else:\n",
    "        return 0"
   ]
  },
  {
   "cell_type": "code",
   "execution_count": null,
   "metadata": {},
   "outputs": [],
   "source": [
    "def gps(s, x):\n",
    "    if len(x) < 2:\n",
    "        return 0\n",
    "    a = max(x[i] - x[i-1] for i in range(1, len(x))) \n",
    "    return a * 3600.0 / s"
   ]
  }
 ],
 "metadata": {
  "kernelspec": {
   "display_name": "Python 3",
   "language": "python",
   "name": "python3"
  },
  "language_info": {
   "codemirror_mode": {
    "name": "ipython",
    "version": 3
   },
   "file_extension": ".py",
   "mimetype": "text/x-python",
   "name": "python",
   "nbconvert_exporter": "python",
   "pygments_lexer": "ipython3",
   "version": "3.7.3"
  }
 },
 "nbformat": 4,
 "nbformat_minor": 2
}
