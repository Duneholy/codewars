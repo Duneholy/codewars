{
 "cells": [
  {
   "cell_type": "code",
   "execution_count": 1,
   "metadata": {},
   "outputs": [],
   "source": [
    "#Complete the function/method so that it returns the url with anything after the anchor (#) removed.\n",
    "\n",
    "#Examples:\n",
    "\n",
    "# returns 'www.codewars.com'\n",
    "#remove_url_anchor('www.codewars.com#about')\n",
    "\n",
    "# returns 'www.codewars.com?page=1' \n",
    "#remove_url_anchor('www.codewars.com?page=1') "
   ]
  },
  {
   "cell_type": "code",
   "execution_count": 6,
   "metadata": {},
   "outputs": [],
   "source": [
    "def remove_url_anchor(url):\n",
    "    return url if '#' not in url else url[:url.index('#')]"
   ]
  },
  {
   "cell_type": "code",
   "execution_count": 1,
   "metadata": {},
   "outputs": [],
   "source": [
    "def remove_url_anchor(url):\n",
    "    return url.split('#')[0]\n",
    "#это вариант с кв, попроще моего, но я думаю что мой правильнее"
   ]
  },
  {
   "cell_type": "code",
   "execution_count": 3,
   "metadata": {},
   "outputs": [
    {
     "data": {
      "text/plain": [
       "['www.codewars.com', 'about']"
      ]
     },
     "execution_count": 3,
     "metadata": {},
     "output_type": "execute_result"
    }
   ],
   "source": [
    "x = 'www.codewars.com#about'\n",
    "x.split('#')"
   ]
  },
  {
   "cell_type": "code",
   "execution_count": null,
   "metadata": {},
   "outputs": [],
   "source": []
  }
 ],
 "metadata": {
  "kernelspec": {
   "display_name": "Python 3",
   "language": "python",
   "name": "python3"
  },
  "language_info": {
   "codemirror_mode": {
    "name": "ipython",
    "version": 3
   },
   "file_extension": ".py",
   "mimetype": "text/x-python",
   "name": "python",
   "nbconvert_exporter": "python",
   "pygments_lexer": "ipython3",
   "version": "3.7.3"
  }
 },
 "nbformat": 4,
 "nbformat_minor": 2
}
