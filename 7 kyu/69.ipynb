{
 "cells": [
  {
   "cell_type": "code",
   "execution_count": 1,
   "metadata": {},
   "outputs": [],
   "source": [
    "# While developing a website, you detect that some of the members have troubles logging in. \n",
    "# Searching through the code you find that all logins ending with a \"_\" make problems. \n",
    "# So you want to write a function that takes an array of pairs of login-names and \n",
    "# e-mails, and outputs an array of all login-name, e-mails-pairs from the login-names that end with \"_\".\n",
    "\n",
    "# If you have the input-array:\n",
    "\n",
    "# [ [ \"foo\", \"foo@foo.com\" ], [ \"bar_\", \"bar@bar.com\" ] ]\n",
    "# it should output\n",
    "\n",
    "# [ [ \"bar_\", \"bar@bar.com\" ] ]\n",
    "# You have to use the filter-method which returns each element of the array for which the filter-method returns true.\n",
    "\n",
    "# https://docs.python.org/3/library/functions.html#filter"
   ]
  },
  {
   "cell_type": "code",
   "execution_count": null,
   "metadata": {},
   "outputs": [],
   "source": [
    "def search_names(logins):\n",
    "    res = [i for i in logins if i[0][-1]=='_']\n",
    "    return res"
   ]
  }
 ],
 "metadata": {
  "kernelspec": {
   "display_name": "Python 3",
   "language": "python",
   "name": "python3"
  },
  "language_info": {
   "codemirror_mode": {
    "name": "ipython",
    "version": 3
   },
   "file_extension": ".py",
   "mimetype": "text/x-python",
   "name": "python",
   "nbconvert_exporter": "python",
   "pygments_lexer": "ipython3",
   "version": "3.7.3"
  }
 },
 "nbformat": 4,
 "nbformat_minor": 2
}
