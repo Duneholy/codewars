{
 "cells": [
  {
   "cell_type": "code",
   "execution_count": null,
   "metadata": {},
   "outputs": [],
   "source": [
    "#This kata is the first of a sequence of four about \"Squared Strings\".\n",
    "\n",
    "#You are given a string of n lines, each substring being n characters long: For example:\n",
    "\n",
    "#s = \"abcd\\nefgh\\nijkl\\nmnop\"\n",
    "\n",
    "#We will study some transformations of this square of strings.\n",
    "\n",
    "#Vertical mirror: vert_mirror (or vertMirror or vert-mirror)\n",
    "#vert_mirror(s) => \"dcba\\nhgfe\\nlkji\\nponm\"\n",
    "#Horizontal mirror: hor_mirror (or horMirror or hor-mirror)\n",
    "#hor_mirror(s) => \"mnop\\nijkl\\nefgh\\nabcd\"\n",
    "#Task:\n",
    "\n",
    "#Write these two functions\n",
    "#and\n",
    "\n",
    "#high-order function oper(fct, s) where\n",
    "\n",
    "#fct is the function of one variable f to apply to the string s (fct will be one of vertMirror, horMirror)\n",
    "#Examples:\n",
    "\n",
    "#s = \"abcd\\nefgh\\nijkl\\nmnop\"\n",
    "#oper(vert_mirror, s) => \"dcba\\nhgfe\\nlkji\\nponm\"\n",
    "#oper(hor_mirror, s) => \"mnop\\nijkl\\nefgh\\nabcd\"\n",
    "#Note:\n",
    "#The form of the parameter fct in oper changes according to the language. \n",
    "#You can see each form according to the language in \"Sample Tests\"."
   ]
  },
  {
   "cell_type": "code",
   "execution_count": 8,
   "metadata": {},
   "outputs": [
    {
     "name": "stdout",
     "output_type": "stream",
     "text": [
      "dcba\n",
      "hgfe\n",
      "lkji\n",
      "ponm\n",
      "mnop\n",
      "ijkl\n",
      "efgh\n",
      "abcd\n"
     ]
    }
   ],
   "source": [
    "strng = \"abcd\\nefgh\\nijkl\\nmnop\"\n",
    "print ('\\n'.join(i[::-1] for i in strng.split('\\n')))\n",
    "print ('\\n'.join(i for i in strng.split('\\n')[::-1]))"
   ]
  },
  {
   "cell_type": "code",
   "execution_count": null,
   "metadata": {},
   "outputs": [],
   "source": []
  }
 ],
 "metadata": {
  "kernelspec": {
   "display_name": "Python 3",
   "language": "python",
   "name": "python3"
  },
  "language_info": {
   "codemirror_mode": {
    "name": "ipython",
    "version": 3
   },
   "file_extension": ".py",
   "mimetype": "text/x-python",
   "name": "python",
   "nbconvert_exporter": "python",
   "pygments_lexer": "ipython3",
   "version": "3.7.3"
  }
 },
 "nbformat": 4,
 "nbformat_minor": 2
}
