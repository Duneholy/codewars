{
 "cells": [
  {
   "cell_type": "code",
   "execution_count": 1,
   "metadata": {},
   "outputs": [],
   "source": [
    "#Vampire Numbers\n",
    "#Our loose definition of Vampire Numbers can be described as follows:\n",
    "\n",
    "#6 * 21 = 126\n",
    "# 6 and 21 would be valid 'fangs' for a vampire number as the \n",
    "# digits 6, 1, and 2 are present in both the product and multiplicands\n",
    "\n",
    "#10 * 11 = 110\n",
    "# 110 is not a vampire number since there are three 1's in the\n",
    "# multiplicands, but only two 1's in the product"
   ]
  },
  {
   "cell_type": "code",
   "execution_count": 50,
   "metadata": {},
   "outputs": [],
   "source": [
    "def vampire_test(x, y):\n",
    "    a = sorted(str(x*y))\n",
    "    b = sorted(str(x)+str(y))\n",
    "    return a==b"
   ]
  },
  {
   "cell_type": "code",
   "execution_count": 51,
   "metadata": {},
   "outputs": [
    {
     "name": "stdout",
     "output_type": "stream",
     "text": [
      "True\n"
     ]
    }
   ],
   "source": [
    "print (vampire_test(204,615))"
   ]
  }
 ],
 "metadata": {
  "kernelspec": {
   "display_name": "Python 3",
   "language": "python",
   "name": "python3"
  },
  "language_info": {
   "codemirror_mode": {
    "name": "ipython",
    "version": 3
   },
   "file_extension": ".py",
   "mimetype": "text/x-python",
   "name": "python",
   "nbconvert_exporter": "python",
   "pygments_lexer": "ipython3",
   "version": "3.7.3"
  }
 },
 "nbformat": 4,
 "nbformat_minor": 2
}
