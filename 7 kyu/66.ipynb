{
 "cells": [
  {
   "cell_type": "code",
   "execution_count": 1,
   "metadata": {},
   "outputs": [],
   "source": [
    "#Get the averages of these numbers\n",
    "\n",
    "#Write a method, that gets an array of integer-numbers and return an array of \n",
    "#the averages of each integer-number and his follower, if there is one.\n",
    "\n",
    "#Example:\n",
    "\n",
    "#Input:  [ 1, 3, 5, 1, -10]\n",
    "#Output:  [ 2, 4, 3, -4.5]"
   ]
  },
  {
   "cell_type": "code",
   "execution_count": 10,
   "metadata": {},
   "outputs": [],
   "source": [
    "def averages(arr):\n",
    "    return [(arr[i]+arr[i+1])/2 for i in range (0,len(arr)-1)] if arr!= None else []"
   ]
  },
  {
   "cell_type": "code",
   "execution_count": 11,
   "metadata": {},
   "outputs": [
    {
     "name": "stdout",
     "output_type": "stream",
     "text": [
      "[2.0, 4.0, 3.0, -4.5]\n"
     ]
    }
   ],
   "source": [
    "print (averages([ 1, 3, 5, 1, -10]))"
   ]
  },
  {
   "cell_type": "code",
   "execution_count": null,
   "metadata": {},
   "outputs": [],
   "source": []
  }
 ],
 "metadata": {
  "kernelspec": {
   "display_name": "Python 3",
   "language": "python",
   "name": "python3"
  },
  "language_info": {
   "codemirror_mode": {
    "name": "ipython",
    "version": 3
   },
   "file_extension": ".py",
   "mimetype": "text/x-python",
   "name": "python",
   "nbconvert_exporter": "python",
   "pygments_lexer": "ipython3",
   "version": "3.7.3"
  }
 },
 "nbformat": 4,
 "nbformat_minor": 2
}
