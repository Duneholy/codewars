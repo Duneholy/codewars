{
 "cells": [
  {
   "cell_type": "code",
   "execution_count": 1,
   "metadata": {},
   "outputs": [],
   "source": [
    "#Take an integer n (n >= 0) and a digit d (0 <= d <= 9) as an integer. \n",
    "#Square all numbers k (0 <= k <= n) between 0 and n. \n",
    "#Count the numbers of digits d used in the writing of all the k**2. Call nb_dig (or nbDig or ...) \n",
    "#the function taking n and d as parameters and returning this count.\n",
    "\n",
    "#Examples:\n",
    "\n",
    "#n = 10, d = 1, the k*k are 0, 1, 4, 9, 16, 25, 36, 49, 64, 81, 100\n",
    "#We are using the digit 1 in 1, 16, 81, 100. The total count is then 4."
   ]
  },
  {
   "cell_type": "code",
   "execution_count": 36,
   "metadata": {},
   "outputs": [
    {
     "data": {
      "text/plain": [
       "2"
      ]
     },
     "execution_count": 36,
     "metadata": {},
     "output_type": "execute_result"
    }
   ],
   "source": [
    "n = 5\n",
    "d = 1\n",
    "x = ''.join(str(i**2) for i in range(0,n+1))\n",
    "x.count(str(d))"
   ]
  },
  {
   "cell_type": "code",
   "execution_count": 38,
   "metadata": {},
   "outputs": [
    {
     "data": {
      "text/plain": [
       "2"
      ]
     },
     "execution_count": 38,
     "metadata": {},
     "output_type": "execute_result"
    }
   ],
   "source": [
    "n = 5\n",
    "d = 1\n",
    "(''.join(str(i**2) for i in range(0,n+1))).count(str(d))\n",
    "#можно и в одну строку, но выглядит нечитаемо"
   ]
  },
  {
   "cell_type": "code",
   "execution_count": 39,
   "metadata": {},
   "outputs": [
    {
     "data": {
      "text/plain": [
       "2"
      ]
     },
     "execution_count": 39,
     "metadata": {},
     "output_type": "execute_result"
    }
   ],
   "source": [
    "sum(str(i*i).count(str(d)) for i in range(n+1))\n",
    "#решение с кв"
   ]
  },
  {
   "cell_type": "code",
   "execution_count": null,
   "metadata": {},
   "outputs": [],
   "source": []
  }
 ],
 "metadata": {
  "kernelspec": {
   "display_name": "Python 3",
   "language": "python",
   "name": "python3"
  },
  "language_info": {
   "codemirror_mode": {
    "name": "ipython",
    "version": 3
   },
   "file_extension": ".py",
   "mimetype": "text/x-python",
   "name": "python",
   "nbconvert_exporter": "python",
   "pygments_lexer": "ipython3",
   "version": "3.7.3"
  }
 },
 "nbformat": 4,
 "nbformat_minor": 2
}
