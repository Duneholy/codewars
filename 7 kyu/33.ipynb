{
 "cells": [
  {
   "cell_type": "code",
   "execution_count": 1,
   "metadata": {},
   "outputs": [],
   "source": [
    "#Create a function that returns the name of the winner in a fight between two fighters.\n",
    "\n",
    "#Each fighter takes turns attacking the other and whoever kills the other first is victorious. \n",
    "#Death is defined as having health <= 0.\n",
    "\n",
    "#Each fighter will be a Fighter object/instance. \n",
    "#See the Fighter class below in your chosen language.\n",
    "\n",
    "#Both health and damagePerAttack (damage_per_attack for python) will be integers larger than 0. \n",
    "#You can mutate the Fighter objects.\n",
    "\n",
    "class Fighter(object):\n",
    "    def __init__(self, name, health, damage_per_attack):\n",
    "        self.name = name\n",
    "        self.health = health\n",
    "        self.damage_per_attack = damage_per_attack\n",
    "\n",
    "    def __str__(self): return \"Fighter({}, {}, {})\".format(self.name, self.health, self.damage_per_attack)\n",
    "    __repr__=__str__"
   ]
  },
  {
   "cell_type": "code",
   "execution_count": 17,
   "metadata": {},
   "outputs": [
    {
     "name": "stdout",
     "output_type": "stream",
     "text": [
      "Harald won!\n"
     ]
    }
   ],
   "source": [
    "fighter1 = Fighter (\"Jerry\", 30, 3)\n",
    "fighter2 = Fighter (\"Harald\", 20, 5)\n",
    "first_attacker = \"Jerry\"\n",
    "\n",
    "if first_attacker == fighter1.name:\n",
    "    while fighter2.health >0 and fighter1.health >0:\n",
    "        fighter2.health -= fighter1.damage_per_attack\n",
    "        if fighter2.health >0 and fighter1.health >0:\n",
    "            fighter1.health -= fighter2.damage_per_attack\n",
    "else:\n",
    "    while fighter2.health >0 and fighter1.health >0:\n",
    "        fighter1.health -= fighter2.damage_per_attack\n",
    "        if fighter2.health >0 and fighter1.health >0:\n",
    "            fighter2.health -= fighter1.damage_per_attack\n",
    "if fighter1.health > fighter2.health:\n",
    "    print (fighter1.name+' won!')\n",
    "else:\n",
    "    print (fighter2.name+' won!')        "
   ]
  },
  {
   "cell_type": "code",
   "execution_count": 19,
   "metadata": {},
   "outputs": [],
   "source": [
    "def declare_winner(fighter1, fighter2, first_attacker):\n",
    "    cur, opp = (fighter1, fighter2) if first_attacker == fighter1.name else (fighter2, fighter1)\n",
    "#создается атакующий 1 и атакующий 2, типа очередь, в зависимости от того, кто первый атакующий в функции\n",
    "    while cur.health > 0:\n",
    "#пока хп атакующего 1 больше 0\n",
    "        opp.health -= cur.damage_per_attack #у атакующего 1 снимается урон атакующего 2, это цикл\n",
    "        cur, opp = opp, cur #атакующий 1 и атакующий 2 меняются местами\n",
    "    return opp.name # в итоге выводится имя того у кого хп было больше 0, потому что проигравший не подставится на опп"
   ]
  },
  {
   "cell_type": "code",
   "execution_count": 20,
   "metadata": {},
   "outputs": [],
   "source": [
    "from math import ceil\n",
    "from operator import attrgetter\n",
    "\n",
    "\n",
    "def declare_winner(fighter1, fighter2, first_attacker):\n",
    "    fighter1.turns = ceil(fighter1.health / float(fighter2.damage_per_attack))\n",
    "    fighter2.turns = ceil(fighter2.health / float(fighter1.damage_per_attack))\n",
    "    if fighter1.turns == fighter2.turns:\n",
    "        return first_attacker\n",
    "    return max(fighter1, fighter2, key=attrgetter('turns')).name"
   ]
  },
  {
   "cell_type": "code",
   "execution_count": null,
   "metadata": {},
   "outputs": [],
   "source": []
  }
 ],
 "metadata": {
  "kernelspec": {
   "display_name": "Python 3",
   "language": "python",
   "name": "python3"
  },
  "language_info": {
   "codemirror_mode": {
    "name": "ipython",
    "version": 3
   },
   "file_extension": ".py",
   "mimetype": "text/x-python",
   "name": "python",
   "nbconvert_exporter": "python",
   "pygments_lexer": "ipython3",
   "version": "3.7.3"
  }
 },
 "nbformat": 4,
 "nbformat_minor": 2
}
