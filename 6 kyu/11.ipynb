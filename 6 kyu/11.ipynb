{
 "cells": [
  {
   "cell_type": "code",
   "execution_count": 1,
   "metadata": {},
   "outputs": [],
   "source": [
    "#You live in the city of Cartesia where all roads are laid out in a perfect grid. \n",
    "#You arrived ten minutes too early to an appointment, so you decided to take the opportunity to go for a short walk. \n",
    "#The city provides its citizens with a Walk Generating App on their phones -- \n",
    "#everytime you press the button it sends you an array of one-letter strings representing directions to walk \n",
    "#(eg. ['n', 's', 'w', 'e']). You always walk only a single block in a direction and you know it \n",
    "#takes you one minute to traverse one city block, so create a function that will return true if the \n",
    "#walk the app gives you will take you exactly ten minutes \n",
    "#(you don't want to be early or late!) and will, of course, return you to your starting point. Return false otherwise."
   ]
  },
  {
   "cell_type": "code",
   "execution_count": 66,
   "metadata": {},
   "outputs": [],
   "source": [
    "def isValidWalk(walk):\n",
    "    res = 0\n",
    "    for i in walk:\n",
    "        if i == 's' or i == 'e':\n",
    "            res += 1\n",
    "        elif i == 'n' or i == 'w':\n",
    "            res -= 1\n",
    "    return res"
   ]
  },
  {
   "cell_type": "code",
   "execution_count": 68,
   "metadata": {},
   "outputs": [],
   "source": [
    "def isValidWalk(walk):\n",
    "    return len(walk) == 10 and walk.count('n') == walk.count('s') and walk.count('e') == walk.count('w')"
   ]
  },
  {
   "cell_type": "code",
   "execution_count": 69,
   "metadata": {},
   "outputs": [
    {
     "name": "stdout",
     "output_type": "stream",
     "text": [
      "False\n"
     ]
    }
   ],
   "source": [
    "print (isValidWalk(['s', 'n', 's', 's', 's', 's', 's', 's', 's', 's']))"
   ]
  },
  {
   "cell_type": "code",
   "execution_count": null,
   "metadata": {},
   "outputs": [],
   "source": []
  }
 ],
 "metadata": {
  "kernelspec": {
   "display_name": "Python 3",
   "language": "python",
   "name": "python3"
  },
  "language_info": {
   "codemirror_mode": {
    "name": "ipython",
    "version": 3
   },
   "file_extension": ".py",
   "mimetype": "text/x-python",
   "name": "python",
   "nbconvert_exporter": "python",
   "pygments_lexer": "ipython3",
   "version": "3.7.3"
  }
 },
 "nbformat": 4,
 "nbformat_minor": 2
}
