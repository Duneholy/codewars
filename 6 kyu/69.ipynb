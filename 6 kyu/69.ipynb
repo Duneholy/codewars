{
 "cells": [
  {
   "cell_type": "code",
   "execution_count": 1,
   "metadata": {},
   "outputs": [],
   "source": [
    "# https://www.codewars.com/kata/51646de80fd67f442c000013"
   ]
  },
  {
   "cell_type": "code",
   "execution_count": 105,
   "metadata": {},
   "outputs": [],
   "source": [
    "def strip_url_params(url, p = []):\n",
    "    url = url.split('?')\n",
    "    res = []\n",
    "    try:\n",
    "        url[1]=url[1].split('&')\n",
    "        for i in url[1]:\n",
    "            if p and i.startswith(p[0]):\n",
    "                break\n",
    "            elif i[0] not in res:\n",
    "                res.append(i)\n",
    "                res.append(i[0])\n",
    "    except:\n",
    "        return url[0]\n",
    "    return url[0]+'?'+'&'.join(i for i in res if len(i)>1)"
   ]
  },
  {
   "cell_type": "code",
   "execution_count": 113,
   "metadata": {},
   "outputs": [],
   "source": [
    "##кв\n",
    "def strip_url_params(url, param_to_strip=[]):\n",
    "    if '?' not in url:\n",
    "        return url\n",
    "    ######################################################### все ясно\n",
    "    queries = (url.split('?')[1]).split('&')  #########  все параметры\n",
    "    queries_obj = [query[0] for query in queries] # буквы\n",
    "    print (queries, queries_obj)\n",
    "    for i in range(len(queries_obj) - 1, 0, -1): ####################  руйндж: (3-1, 0, -1)\n",
    "        #2, 1\n",
    "        if queries_obj[i] in param_to_strip or queries_obj[i] in queries_obj[0:i]:\n",
    "            queries.pop(i)\n",
    "            ######################### если параметр в списке для удаления - поп, если объект имеет повтор - поп\n",
    "\n",
    "    return url.split('?')[0] + '?' + '&'.join(queries)"
   ]
  },
  {
   "cell_type": "code",
   "execution_count": 114,
   "metadata": {},
   "outputs": [
    {
     "name": "stdout",
     "output_type": "stream",
     "text": [
      "['a=1', 'b=2', 'a=2'] ['a', 'b', 'a']\n",
      "2\n",
      "1\n"
     ]
    },
    {
     "data": {
      "text/plain": [
       "'www.codewars.com?a=1'"
      ]
     },
     "execution_count": 114,
     "metadata": {},
     "output_type": "execute_result"
    }
   ],
   "source": [
    "strip_url_params('www.codewars.com?a=1&b=2&a=2', 'b')\n",
    "#strip_url_params('www.codewars.com?a=1&b=2&a=2')\n",
    "#returns 'www.codewars.com?a=1'"
   ]
  },
  {
   "cell_type": "code",
   "execution_count": null,
   "metadata": {},
   "outputs": [],
   "source": [
    "import urlparse\n",
    "import urllib\n",
    "\n",
    "def strip_url_params(url, strip=None):\n",
    "    if not strip: strip = []\n",
    "    \n",
    "    parse = urlparse.urlparse(url)\n",
    "    query = urlparse.parse_qs(parse.query)############## список всех параметров\n",
    "    \n",
    "    query = {k: v[0] for k, v in query.iteritems() if k not in strip}############### {к-параметр буква, в - остальное}\n",
    "    query = urllib.urlencode(query)\n",
    "    new = parse._replace(query=query)\n",
    "    \n",
    "    return new.geturl()"
   ]
  }
 ],
 "metadata": {
  "kernelspec": {
   "display_name": "Python 3",
   "language": "python",
   "name": "python3"
  },
  "language_info": {
   "codemirror_mode": {
    "name": "ipython",
    "version": 3
   },
   "file_extension": ".py",
   "mimetype": "text/x-python",
   "name": "python",
   "nbconvert_exporter": "python",
   "pygments_lexer": "ipython3",
   "version": "3.7.3"
  }
 },
 "nbformat": 4,
 "nbformat_minor": 2
}
