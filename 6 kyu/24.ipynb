{
 "cells": [
  {
   "cell_type": "code",
   "execution_count": null,
   "metadata": {},
   "outputs": [],
   "source": [
    "# Given two arrays a and b write a function comp(a, b) (compSame(a, b) in Clojure) \n",
    "# that checks whether the two arrays have the \"same\" elements, with the same multiplicities. \n",
    "# \"Same\" means, here, that the elements in b are the elements in a squared, regardless of the order.\n",
    "\n",
    "# Examples\n",
    "# Valid arrays\n",
    "# a = [121, 144, 19, 161, 19, 144, 19, 11]  \n",
    "# b = [121, 14641, 20736, 361, 25921, 361, 20736, 361]"
   ]
  },
  {
   "cell_type": "code",
   "execution_count": 10,
   "metadata": {},
   "outputs": [],
   "source": [
    "def comp(array1, array2):\n",
    "    if array1 is None or array2 is None:\n",
    "        return False\n",
    "    else:\n",
    "        res = [i*i for i in array1]\n",
    "        if sorted(res)==sorted(array2):\n",
    "            return True\n",
    "        else:\n",
    "            return False"
   ]
  },
  {
   "cell_type": "code",
   "execution_count": 12,
   "metadata": {},
   "outputs": [
    {
     "name": "stdout",
     "output_type": "stream",
     "text": [
      "True\n"
     ]
    }
   ],
   "source": [
    "a1 = [121, 144, 19, 161, 19, 144, 19, 11]\n",
    "a2 = [11*11, 121*121, 144*144, 19*19, 161*161, 19*19, 144*144, 19*19]\n",
    "print(comp(a1, a2))"
   ]
  }
 ],
 "metadata": {
  "kernelspec": {
   "display_name": "Python 3",
   "language": "python",
   "name": "python3"
  },
  "language_info": {
   "codemirror_mode": {
    "name": "ipython",
    "version": 3
   },
   "file_extension": ".py",
   "mimetype": "text/x-python",
   "name": "python",
   "nbconvert_exporter": "python",
   "pygments_lexer": "ipython3",
   "version": "3.7.3"
  }
 },
 "nbformat": 4,
 "nbformat_minor": 2
}
