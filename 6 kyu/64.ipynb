{
 "cells": [
  {
   "cell_type": "code",
   "execution_count": 1,
   "metadata": {},
   "outputs": [],
   "source": [
    "# https://www.codewars.com/kata/make-the-deadfish-swim/train/python"
   ]
  },
  {
   "cell_type": "code",
   "execution_count": 2,
   "metadata": {},
   "outputs": [],
   "source": [
    "def parse(data):\n",
    "    value = 0\n",
    "    res = []\n",
    "    for i in data:\n",
    "        if i=='i':\n",
    "            value += 1\n",
    "        elif i=='d':\n",
    "            value -= 1\n",
    "        elif i=='s':\n",
    "            value = value**2\n",
    "        elif i=='o':\n",
    "            res.append(value)\n",
    "    return res"
   ]
  },
  {
   "cell_type": "code",
   "execution_count": null,
   "metadata": {},
   "outputs": [],
   "source": [
    "def parse(data):\n",
    "    value = 0\n",
    "    res=[]\n",
    "    for c in data:\n",
    "        if c==\"i\": value+=1\n",
    "        elif c==\"d\": value-=1\n",
    "        elif c==\"s\": value*=value\n",
    "        elif c==\"o\": res.append(value)\n",
    "    return res"
   ]
  }
 ],
 "metadata": {
  "kernelspec": {
   "display_name": "Python 3",
   "language": "python",
   "name": "python3"
  },
  "language_info": {
   "codemirror_mode": {
    "name": "ipython",
    "version": 3
   },
   "file_extension": ".py",
   "mimetype": "text/x-python",
   "name": "python",
   "nbconvert_exporter": "python",
   "pygments_lexer": "ipython3",
   "version": "3.7.3"
  }
 },
 "nbformat": 4,
 "nbformat_minor": 2
}
