{
 "cells": [
  {
   "cell_type": "code",
   "execution_count": 1,
   "metadata": {},
   "outputs": [],
   "source": [
    "# Everyone knows passphrases. One can choose passphrases from poems, songs, \n",
    "# movies names and so on but frequently they can be guessed due to common cultural references. \n",
    "# You can get your passphrases stronger by different means. One is the following:\n",
    "\n",
    "# choose a text in capital letters including or not digits and non alphabetic characters,\n",
    "\n",
    "# shift each letter by a given number but the transformed letter must be a letter (circular shift),\n",
    "# replace each digit by its complement to 9,\n",
    "# keep such as non alphabetic and non digit characters,\n",
    "# downcase each letter in odd position, upcase each letter in even position (the first character is in position 0),\n",
    "# reverse the whole result.\n",
    "# #Example:\n",
    "\n",
    "# your text: \"BORN IN 2015!\", shift 1\n",
    "\n",
    "# 1 + 2 + 3 -> \"CPSO JO 7984!\"\n",
    "\n",
    "# 4 \"CpSo jO 7984!\"\n",
    "\n",
    "# 5 \"!4897 Oj oSpC\"\n",
    "\n",
    "# With longer passphrases it's better to have a small and easy program. Would you write it?"
   ]
  },
  {
   "cell_type": "code",
   "execution_count": 2,
   "metadata": {},
   "outputs": [],
   "source": [
    "# test.assert_equals(play_pass(\"I LOVE YOU!!!\", 1), \"!!!vPz fWpM J\")\n",
    "\n",
    "# test.assert_equals(play_pass(\"MY GRANMA CAME FROM NY ON THE 23RD OF APRIL 2015\", 2), \n",
    "#     \"4897 NkTrC Hq fT67 GjV Pq aP OqTh gOcE CoPcTi aO\")"
   ]
  },
  {
   "cell_type": "code",
   "execution_count": 90,
   "metadata": {},
   "outputs": [],
   "source": [
    "def shift_char(i, n):\n",
    "    cd = ord(i) + n\n",
    "    if cd > ord('z'):\n",
    "        cd = cd - ord('z') + ord('a') - 1\n",
    "    elif cd < ord('A'):\n",
    "        cd = cd + ord('z') - ord('a')\n",
    "    return chr(cd)\n",
    "\n",
    "def play_pass(s, n):\n",
    "    res = ''\n",
    "    for a,i in enumerate(s.lower()):\n",
    "        if i.isalpha():\n",
    "            if a % 2 == 0:\n",
    "                res += shift_char(i, n).upper()\n",
    "            else:\n",
    "                res += shift_char(i, n).lower()\n",
    "        elif i.isdigit():\n",
    "            res+= str(9-int(i))\n",
    "        else:\n",
    "            res+= i\n",
    "    return res[::-1]"
   ]
  },
  {
   "cell_type": "code",
   "execution_count": 91,
   "metadata": {},
   "outputs": [
    {
     "data": {
      "text/plain": [
       "'4897 NkTrC Hq fT67 GjV Pq aP OqTh gOcE CoPcTi aO'"
      ]
     },
     "execution_count": 91,
     "metadata": {},
     "output_type": "execute_result"
    }
   ],
   "source": [
    "play_pass(\"MY GRANMA CAME FROM NY ON THE 23RD OF APRIL 2015\", 2)"
   ]
  },
  {
   "cell_type": "code",
   "execution_count": null,
   "metadata": {},
   "outputs": [],
   "source": []
  }
 ],
 "metadata": {
  "kernelspec": {
   "display_name": "Python 3",
   "language": "python",
   "name": "python3"
  },
  "language_info": {
   "codemirror_mode": {
    "name": "ipython",
    "version": 3
   },
   "file_extension": ".py",
   "mimetype": "text/x-python",
   "name": "python",
   "nbconvert_exporter": "python",
   "pygments_lexer": "ipython3",
   "version": "3.7.3"
  }
 },
 "nbformat": 4,
 "nbformat_minor": 2
}
