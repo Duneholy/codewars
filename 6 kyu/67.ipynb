{
 "cells": [
  {
   "cell_type": "code",
   "execution_count": 2,
   "metadata": {},
   "outputs": [],
   "source": [
    "# https://www.codewars.com/kata/grouped-by-commas/train/python"
   ]
  },
  {
   "cell_type": "code",
   "execution_count": null,
   "metadata": {},
   "outputs": [],
   "source": [
    "# test.assert_equals(group_by_commas(1), '1')\n",
    "# test.assert_equals(group_by_commas(10), '10')\n",
    "# test.assert_equals(group_by_commas(100), '100')\n",
    "# test.assert_equals(group_by_commas(1000), '1,000')\n",
    "# test.assert_equals(group_by_commas(10000), '10,000')\n",
    "# test.assert_equals(group_by_commas(100000), '100,000')\n",
    "# test.assert_equals(group_by_commas(1000000), '1,000,000')\n",
    "# test.assert_equals(group_by_commas(35235235), '35,235,235')"
   ]
  },
  {
   "cell_type": "code",
   "execution_count": 107,
   "metadata": {},
   "outputs": [],
   "source": [
    "def group_by_commas(n):\n",
    "    res = ''\n",
    "    ans = []\n",
    "    for i in str(n)[::-1]:\n",
    "        res+=i\n",
    "        if len(res)==3:\n",
    "            ans.append(res[::-1])\n",
    "            res = ''\n",
    "    if res:\n",
    "        ans.append(res[::-1])\n",
    "    ans=ans[::-1]\n",
    "    return ','.join(ans)"
   ]
  },
  {
   "cell_type": "code",
   "execution_count": 118,
   "metadata": {},
   "outputs": [
    {
     "data": {
      "text/plain": [
       "'1'"
      ]
     },
     "execution_count": 118,
     "metadata": {},
     "output_type": "execute_result"
    }
   ],
   "source": [
    "group_by_commas(1)"
   ]
  },
  {
   "cell_type": "code",
   "execution_count": 130,
   "metadata": {},
   "outputs": [],
   "source": [
    "def group_by_commas(n):\n",
    "    return '{:,}'.format(n)"
   ]
  },
  {
   "cell_type": "code",
   "execution_count": 131,
   "metadata": {},
   "outputs": [
    {
     "data": {
      "text/plain": [
       "'1,000,000,000'"
      ]
     },
     "execution_count": 131,
     "metadata": {},
     "output_type": "execute_result"
    }
   ],
   "source": [
    "group_by_commas(1000000000)"
   ]
  },
  {
   "cell_type": "code",
   "execution_count": null,
   "metadata": {},
   "outputs": [],
   "source": []
  }
 ],
 "metadata": {
  "kernelspec": {
   "display_name": "Python 3",
   "language": "python",
   "name": "python3"
  },
  "language_info": {
   "codemirror_mode": {
    "name": "ipython",
    "version": 3
   },
   "file_extension": ".py",
   "mimetype": "text/x-python",
   "name": "python",
   "nbconvert_exporter": "python",
   "pygments_lexer": "ipython3",
   "version": "3.7.3"
  }
 },
 "nbformat": 4,
 "nbformat_minor": 2
}
