{
 "cells": [
  {
   "cell_type": "code",
   "execution_count": 1,
   "metadata": {},
   "outputs": [],
   "source": [
    "# https://www.codewars.com/kata/fold-an-array/train/python"
   ]
  },
  {
   "cell_type": "code",
   "execution_count": 19,
   "metadata": {},
   "outputs": [],
   "source": [
    "import math as m\n",
    "def fold_array(array, runs):\n",
    "    for i in range(runs):\n",
    "        if len(array)==1:\n",
    "            return array\n",
    "        end = array[-(len(array)//2):][::-1]\n",
    "        array = array[:m.ceil(len(array)/2)]\n",
    "        for a,b in enumerate(end):\n",
    "            array[a]=array[a]+b\n",
    "    return array"
   ]
  },
  {
   "cell_type": "code",
   "execution_count": 20,
   "metadata": {},
   "outputs": [],
   "source": [
    "#реш с кв\n",
    "def fold_array(array, runs):\n",
    "    worker = array[:] #сделал дубликат\n",
    "    for r in range(runs):\n",
    "        for i in range(len(worker)/2): #проходится по всем элементам 1 части\n",
    "            worker[i] += worker.pop() #к каждому индексу прибавляет последнее число pop\n",
    "    return worker\n",
    "#да, это было смарт, нужно ведь было всего-то последнее число каждый раз забирать..."
   ]
  },
  {
   "cell_type": "code",
   "execution_count": null,
   "metadata": {},
   "outputs": [],
   "source": []
  }
 ],
 "metadata": {
  "kernelspec": {
   "display_name": "Python 3",
   "language": "python",
   "name": "python3"
  },
  "language_info": {
   "codemirror_mode": {
    "name": "ipython",
    "version": 3
   },
   "file_extension": ".py",
   "mimetype": "text/x-python",
   "name": "python",
   "nbconvert_exporter": "python",
   "pygments_lexer": "ipython3",
   "version": "3.7.3"
  }
 },
 "nbformat": 4,
 "nbformat_minor": 2
}
