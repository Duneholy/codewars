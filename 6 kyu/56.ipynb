{
 "cells": [
  {
   "cell_type": "code",
   "execution_count": 1,
   "metadata": {},
   "outputs": [],
   "source": [
    "# In this Kata, you will implement the Luhn Algorithm, which is used to help validate credit card numbers.\n",
    "\n",
    "# Given a positive integer of up to 16 digits, return true if it is a valid credit card number, \n",
    "# and false if it is not.\n",
    "\n",
    "# Here is the algorithm:\n",
    "\n",
    "# Double every other digit, scanning from right to left, starting from the second digit (from the right).\n",
    "\n",
    "# Another way to think about it is: if there are an even number of digits, double every other digit \n",
    "#     starting with the first; if there are an odd number of digits, double every other digit starting with the second:\n",
    "\n",
    "# 1714 ==> [1*, 7, 1*, 4] ==> [2, 7, 2, 4]\n",
    "\n",
    "# 12345 ==> [1, 2*, 3, 4*, 5] ==> [1, 4, 3, 8, 5]\n",
    "\n",
    "# 891 ==> [8, 9*, 1] ==> [8, 18, 1]\n",
    "\n",
    "# If a resulting number is greater than 9, replace it with the sum of its own \n",
    "# digits (which is the same as subtracting 9 from it):\n",
    "\n",
    "# [8, 18*, 1] ==> [8, (1+8), 1] ==> [8, 9, 1]\n",
    "\n",
    "# or:\n",
    "\n",
    "# [8, 18*, 1] ==> [8, (18-9), 1] ==> [8, 9, 1]\n",
    "# Sum all of the final digits:\n",
    "\n",
    "# [8, 9, 1] ==> 8 + 9 + 1 = 18\n",
    "\n",
    "# Finally, take that sum and divide it by 10. If the remainder equals zero, the original credit card number is valid.\n",
    "\n",
    "#   18 (modulus) 10 ==> 8 , which is not equal to 0, so this is not a valid credit card number"
   ]
  },
  {
   "cell_type": "code",
   "execution_count": 2,
   "metadata": {},
   "outputs": [],
   "source": [
    "# test.assert_equals(validate(123), False)\n",
    "# test.assert_equals(validate(1), False)\n",
    "# test.assert_equals(validate(2121), True)\n",
    "# test.assert_equals(validate(1230), True)"
   ]
  },
  {
   "cell_type": "code",
   "execution_count": 33,
   "metadata": {},
   "outputs": [],
   "source": [
    "def validate(n):\n",
    "    n = list(map(int,str(n)))\n",
    "    for index,digit in enumerate(n):\n",
    "        if len(n)%2!=0:\n",
    "            if index>0 and index%2!=0:\n",
    "                if len(str(digit*2))>1:\n",
    "                    n[index]=(digit*2)-9\n",
    "                else:\n",
    "                    n[index]=digit*2\n",
    "                \n",
    "        else:\n",
    "            if index%2==0:\n",
    "                if len(str(digit*2))>1:\n",
    "                    n[index]=(digit*2)-9\n",
    "                else:\n",
    "                    n[index]=digit*2\n",
    "    return sum(n)%10==0\n",
    "#860ms"
   ]
  },
  {
   "cell_type": "code",
   "execution_count": 32,
   "metadata": {},
   "outputs": [
    {
     "data": {
      "text/plain": [
       "True"
      ]
     },
     "execution_count": 32,
     "metadata": {},
     "output_type": "execute_result"
    }
   ],
   "source": [
    "validate(1230)"
   ]
  },
  {
   "cell_type": "code",
   "execution_count": 48,
   "metadata": {},
   "outputs": [],
   "source": [
    "def validate(n):\n",
    "    digits = [int(x) for x in str(n)] #list\n",
    "    even = [x*2 if x*2 <= 9 else x*2 - 9 for x in digits[-2::-2]] #тут меняет все нечетные в одну строку, ничего нового\n",
    "    odd  = [x for x in digits[-1::-2]] #четные без изменений, всегда выбирает четные тк считает с конца\n",
    "    return (sum(even + odd)%10) == 0"
   ]
  },
  {
   "cell_type": "code",
   "execution_count": 49,
   "metadata": {},
   "outputs": [
    {
     "data": {
      "text/plain": [
       "True"
      ]
     },
     "execution_count": 49,
     "metadata": {},
     "output_type": "execute_result"
    }
   ],
   "source": [
    "validate(1230)"
   ]
  },
  {
   "cell_type": "code",
   "execution_count": null,
   "metadata": {},
   "outputs": [],
   "source": []
  }
 ],
 "metadata": {
  "kernelspec": {
   "display_name": "Python 3",
   "language": "python",
   "name": "python3"
  },
  "language_info": {
   "codemirror_mode": {
    "name": "ipython",
    "version": 3
   },
   "file_extension": ".py",
   "mimetype": "text/x-python",
   "name": "python",
   "nbconvert_exporter": "python",
   "pygments_lexer": "ipython3",
   "version": "3.7.3"
  }
 },
 "nbformat": 4,
 "nbformat_minor": 2
}
