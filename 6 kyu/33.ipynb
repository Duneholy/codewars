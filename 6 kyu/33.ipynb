{
 "cells": [
  {
   "cell_type": "code",
   "execution_count": 1,
   "metadata": {},
   "outputs": [],
   "source": [
    "# You have an array of numbers.\n",
    "# Your task is to sort ascending odd numbers but even numbers must be on their places.\n",
    "\n",
    "# Zero isn't an odd number and you don't need to move it. If you have an empty array, you need to return it.\n",
    "\n",
    "# Example\n",
    "\n",
    "# sort_array([5, 3, 2, 8, 1, 4]) == [1, 3, 2, 8, 5, 4]"
   ]
  },
  {
   "cell_type": "code",
   "execution_count": 18,
   "metadata": {},
   "outputs": [],
   "source": [
    "def sort_array(arr):\n",
    "    res = []\n",
    "    for a,i in enumerate(arr):\n",
    "        if i%2!=0:\n",
    "            res.append(arr.pop(a))\n",
    "            arr.insert(a,'x')\n",
    "    res.sort()\n",
    "    for a,i in enumerate(arr):\n",
    "        if i=='x':\n",
    "            arr.pop(a)\n",
    "            arr.insert(a,res[0])\n",
    "            res=res[1:]\n",
    "    return arr"
   ]
  },
  {
   "cell_type": "code",
   "execution_count": 19,
   "metadata": {},
   "outputs": [
    {
     "name": "stdout",
     "output_type": "stream",
     "text": [
      "[1, 3, 2, 8, 5, 4]\n"
     ]
    }
   ],
   "source": [
    "print(sort_array([5, 3, 2, 8, 1, 4]))"
   ]
  },
  {
   "cell_type": "code",
   "execution_count": null,
   "metadata": {},
   "outputs": [],
   "source": [
    "def sort_array(arr):\n",
    "    odds = sorted((x for x in arr if x%2 != 0), reverse=True) #то же что у меня в рес\n",
    "    return [x if x%2==0 else odds.pop() for x in arr] #тут в принципе то же самое, только икс был не нужен"
   ]
  }
 ],
 "metadata": {
  "kernelspec": {
   "display_name": "Python 3",
   "language": "python",
   "name": "python3"
  },
  "language_info": {
   "codemirror_mode": {
    "name": "ipython",
    "version": 3
   },
   "file_extension": ".py",
   "mimetype": "text/x-python",
   "name": "python",
   "nbconvert_exporter": "python",
   "pygments_lexer": "ipython3",
   "version": "3.7.3"
  }
 },
 "nbformat": 4,
 "nbformat_minor": 2
}
