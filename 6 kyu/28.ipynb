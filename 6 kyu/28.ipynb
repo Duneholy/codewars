{
 "cells": [
  {
   "cell_type": "code",
   "execution_count": 5,
   "metadata": {},
   "outputs": [],
   "source": [
    "# You are given an array strarr of strings and an integer k. Your task is to return the \n",
    "# first longest string consisting of k consecutive strings taken in the array.\n",
    "\n",
    "# Example:\n",
    "# longest_consec([\"zone\", \"abigail\", \"theta\", \"form\", \"libe\", \"zas\", \"theta\", \"abigail\"], 2) --> \"abigailtheta\"\n",
    "\n",
    "# n being the length of the string array, if n = 0 or k > n or k <= 0 return \"\".\n",
    "\n",
    "# Note\n",
    "# consecutive strings : follow one after another without an interruption"
   ]
  },
  {
   "cell_type": "code",
   "execution_count": 6,
   "metadata": {},
   "outputs": [],
   "source": [
    "def longest_consec(strarr, k):\n",
    "    if k<1 or k>len(strarr):\n",
    "        return ''\n",
    "    else:\n",
    "        res = []\n",
    "        x = 0\n",
    "        list = []\n",
    "        for cycles in range(0,len(strarr)):\n",
    "            for i in strarr[x:]:\n",
    "                if len(res)!=k:\n",
    "                    res.append(i)\n",
    "            list.append(res.copy())\n",
    "            res.clear()\n",
    "            x += 1\n",
    "        for i in list:\n",
    "            res.append(''.join(i))\n",
    "        return max(res, key=len) #нужно вывести самую длинную строку с кол-вом объектов k"
   ]
  },
  {
   "cell_type": "code",
   "execution_count": 7,
   "metadata": {},
   "outputs": [
    {
     "name": "stdout",
     "output_type": "stream",
     "text": [
      "abigailtheta\n"
     ]
    }
   ],
   "source": [
    "print (longest_consec([\"zone\", \"abigail\", \"theta\", \"form\", \"libe\", \"zas\"], 2))"
   ]
  },
  {
   "cell_type": "code",
   "execution_count": 9,
   "metadata": {},
   "outputs": [],
   "source": [
    "def longest_consec(strarr, k):\n",
    "    result = \"\"\n",
    "    \n",
    "    if k > 0 and len(strarr) >= k:\n",
    "        for index in range(len(strarr) - k + 1):\n",
    "            s = ''.join(strarr[index:index+k])\n",
    "            if len(s) > len(result):\n",
    "                result = s\n",
    "            \n",
    "    return result\n",
    "#первое условие как у меня с иф элс, далее:\n",
    "#перебираем каждый объект в len(arr)-k+1, т.е. например длина у нас 6 и надо выдать 2 объекта, значит перебираем 5\n",
    "#строка = объекты от первого перебираемого до того, что доходит до k\n",
    "#если длина строки больше длины result - result = строка. и заново проходим по циклу, соотв. если длина ни разу не будет больще\n",
    "#то резалт такой же и останется"
   ]
  },
  {
   "cell_type": "code",
   "execution_count": null,
   "metadata": {},
   "outputs": [],
   "source": []
  }
 ],
 "metadata": {
  "kernelspec": {
   "display_name": "Python 3",
   "language": "python",
   "name": "python3"
  },
  "language_info": {
   "codemirror_mode": {
    "name": "ipython",
    "version": 3
   },
   "file_extension": ".py",
   "mimetype": "text/x-python",
   "name": "python",
   "nbconvert_exporter": "python",
   "pygments_lexer": "ipython3",
   "version": "3.7.3"
  }
 },
 "nbformat": 4,
 "nbformat_minor": 2
}
