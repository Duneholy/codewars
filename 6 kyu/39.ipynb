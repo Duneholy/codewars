{
 "cells": [
  {
   "cell_type": "code",
   "execution_count": 1,
   "metadata": {},
   "outputs": [],
   "source": [
    "def count_smileys(arr):\n",
    "    d = [':)',':D',';)',';D',':-)',':-D',';-)',';-D',':~)',':~D',';~)',';~D']\n",
    "    return sum(1 for i in arr if i in d)"
   ]
  },
  {
   "cell_type": "code",
   "execution_count": null,
   "metadata": {},
   "outputs": [],
   "source": [
    "from re import findall\n",
    "def count_smileys(arr):\n",
    "    return len(list(findall(r\"[:;][-~]?[)D]\", \" \".join(arr))))"
   ]
  }
 ],
 "metadata": {
  "kernelspec": {
   "display_name": "Python 3",
   "language": "python",
   "name": "python3"
  },
  "language_info": {
   "codemirror_mode": {
    "name": "ipython",
    "version": 3
   },
   "file_extension": ".py",
   "mimetype": "text/x-python",
   "name": "python",
   "nbconvert_exporter": "python",
   "pygments_lexer": "ipython3",
   "version": "3.7.3"
  }
 },
 "nbformat": 4,
 "nbformat_minor": 2
}
