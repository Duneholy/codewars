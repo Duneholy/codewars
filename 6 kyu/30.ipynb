{
 "cells": [
  {
   "cell_type": "code",
   "execution_count": 1,
   "metadata": {},
   "outputs": [],
   "source": [
    "# Given two arrays of strings a1 and a2 return a sorted array r in lexicographical order \n",
    "# of the strings of a1 which are substrings of strings of a2.\n",
    "\n",
    "# #Example 1: a1 = [\"arp\", \"live\", \"strong\"]\n",
    "\n",
    "# a2 = [\"lively\", \"alive\", \"harp\", \"sharp\", \"armstrong\"]\n",
    "\n",
    "# returns [\"arp\", \"live\", \"strong\"]\n",
    "\n",
    "# #Example 2: a1 = [\"tarp\", \"mice\", \"bull\"]\n",
    "\n",
    "# a2 = [\"lively\", \"alive\", \"harp\", \"sharp\", \"armstrong\"]\n",
    "\n",
    "# returns []\n",
    "\n",
    "# Notes:\n",
    "# Arrays are written in \"general\" notation. See \"Your Test Cases\" for examples in your language.\n",
    "\n",
    "# In Shell bash a1 and a2 are strings. The return is a string where words are separated by commas.\n",
    "\n",
    "# Beware: r must be without duplicates.\n",
    "# Don't mutate the inputs."
   ]
  },
  {
   "cell_type": "code",
   "execution_count": 45,
   "metadata": {},
   "outputs": [],
   "source": [
    "def in_array(array1, array2):\n",
    "    r = []\n",
    "    for i in array1:\n",
    "        if i in ''.join(array2):\n",
    "            r.append(i)\n",
    "    return sorted(set(r))"
   ]
  },
  {
   "cell_type": "code",
   "execution_count": 46,
   "metadata": {},
   "outputs": [
    {
     "name": "stdout",
     "output_type": "stream",
     "text": [
      "['arp', 'live', 'strong']\n"
     ]
    }
   ],
   "source": [
    "#1 - оставить в r только те стоки из а1 которые входят в а2\n",
    "#сорт р в лексикограф\n",
    "a1 = [\"live\", \"arp\", \"strong\"] \n",
    "a2 = [\"lively\", \"alive\", \"harp\", \"sharp\", \"armstrong\"]\n",
    "#r = ['arp', 'live', 'strong']\n",
    "print(in_array(a1, a2))"
   ]
  },
  {
   "cell_type": "code",
   "execution_count": null,
   "metadata": {},
   "outputs": [],
   "source": []
  }
 ],
 "metadata": {
  "kernelspec": {
   "display_name": "Python 3",
   "language": "python",
   "name": "python3"
  },
  "language_info": {
   "codemirror_mode": {
    "name": "ipython",
    "version": 3
   },
   "file_extension": ".py",
   "mimetype": "text/x-python",
   "name": "python",
   "nbconvert_exporter": "python",
   "pygments_lexer": "ipython3",
   "version": "3.7.3"
  }
 },
 "nbformat": 4,
 "nbformat_minor": 2
}
