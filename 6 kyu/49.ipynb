{
 "cells": [
  {
   "cell_type": "code",
   "execution_count": null,
   "metadata": {},
   "outputs": [],
   "source": [
    "# Write a function\n",
    "\n",
    "# triple_double(num1, num2)\n",
    "# which takes numbers num1 and num2 and returns 1 if there is a straight triple of a \n",
    "# number at any place in num1 and also a straight double of the same number in num2.\n",
    "\n",
    "# If this isn't the case, return 0\n",
    "\n",
    "# Examples\n",
    "# triple_double(451999277, 41177722899) == 1\n",
    "# # num1 has straight triple 999s and num2 has straight double 99s\n",
    "\n",
    "# triple_double(1222345, 12345) == 0\n",
    "# # num1 has straight triple 2s but num2 has only a single 2"
   ]
  },
  {
   "cell_type": "code",
   "execution_count": 60,
   "metadata": {},
   "outputs": [],
   "source": [
    "def triple_double(num1, num2):\n",
    "    for a,b in enumerate(str(num1)):\n",
    "        if str(num1)[a] == str(num1)[a+1] == str(num1)[a+2]:\n",
    "            for c,d in enumerate(str(num2)):\n",
    "                if str(num2)[c]==str(num2)[c+1] and b==d:\n",
    "                        return 1\n",
    "    return 0"
   ]
  },
  {
   "cell_type": "code",
   "execution_count": 61,
   "metadata": {},
   "outputs": [
    {
     "name": "stdout",
     "output_type": "stream",
     "text": [
      "9\n"
     ]
    }
   ],
   "source": [
    "print(triple_double(451999277, 41177722899))"
   ]
  },
  {
   "cell_type": "code",
   "execution_count": 65,
   "metadata": {},
   "outputs": [],
   "source": [
    "#чтоб не было ошибки выхода за пределы списка добавил try\n",
    "def triple_double(num1, num2):\n",
    "    for a,b in enumerate(str(num1)):\n",
    "        try:\n",
    "            if str(num1)[a] == str(num1)[a+1] == str(num1)[a+2]:\n",
    "                for c,d in enumerate(str(num2)):\n",
    "                    try:\n",
    "                        if str(num2)[c]==str(num2)[c+1] and b==d:\n",
    "                            return 1\n",
    "                    except IndexError:\n",
    "                        return 0\n",
    "        except IndexError:\n",
    "            return 0"
   ]
  },
  {
   "cell_type": "code",
   "execution_count": 64,
   "metadata": {},
   "outputs": [],
   "source": [
    "#а это так сначала хотел решить, но тут была проверка просто на кол-во символов,  а не идущих друг за другом\n",
    "def triple_double(num1, num2):\n",
    "    for i in str(num1):\n",
    "        for a in str(num2):\n",
    "            if str(num1).count(i)==3 and str(num2).count(a)==2 and i==a:\n",
    "                print (i,a)\n",
    "                return 1\n",
    "    print (num1,num2)\n",
    "    return 0"
   ]
  },
  {
   "cell_type": "code",
   "execution_count": 66,
   "metadata": {},
   "outputs": [],
   "source": [
    "#решение с кв\n",
    "def triple_double(num1, num2):\n",
    "    return any([i * 3 in str(num1) and i * 2 in str(num2) for i in '0123456789'])\n",
    "#до смешного просто, перебирает 0123456789 по одному символу *3 и *2 - ищет вхождение в нум1 и нум2"
   ]
  },
  {
   "cell_type": "code",
   "execution_count": null,
   "metadata": {},
   "outputs": [],
   "source": []
  }
 ],
 "metadata": {
  "kernelspec": {
   "display_name": "Python 3",
   "language": "python",
   "name": "python3"
  },
  "language_info": {
   "codemirror_mode": {
    "name": "ipython",
    "version": 3
   },
   "file_extension": ".py",
   "mimetype": "text/x-python",
   "name": "python",
   "nbconvert_exporter": "python",
   "pygments_lexer": "ipython3",
   "version": "3.7.3"
  }
 },
 "nbformat": 4,
 "nbformat_minor": 2
}
