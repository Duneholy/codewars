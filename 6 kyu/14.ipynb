{
 "cells": [
  {
   "cell_type": "code",
   "execution_count": 1,
   "metadata": {},
   "outputs": [],
   "source": [
    "#The goal of this exercise is to convert a string to a new string where each \n",
    "#character in the new string is \"(\" if that character appears only once in the original string, \n",
    "#or \")\" if that character appears more than once in the original string. \n",
    "#Ignore capitalization when determining if a character is a duplicate.\n",
    "\n",
    "#Examples\n",
    "#\"din\"      =>  \"(((\"\n",
    "#\"recede\"   =>  \"()()()\"\n",
    "#\"Success\"  =>  \")())())\"\n",
    "#\"(( @\"     =>  \"))((\" "
   ]
  },
  {
   "cell_type": "code",
   "execution_count": 4,
   "metadata": {},
   "outputs": [],
   "source": [
    "def duplicate_encode(word):\n",
    "    res = ''\n",
    "    for i in word.lower():\n",
    "        if word.lower().count(i)>1:\n",
    "            res += ')'\n",
    "        else:\n",
    "            res += '('\n",
    "    return res"
   ]
  },
  {
   "cell_type": "code",
   "execution_count": 8,
   "metadata": {},
   "outputs": [
    {
     "name": "stdout",
     "output_type": "stream",
     "text": [
      "))((\n"
     ]
    }
   ],
   "source": [
    "print (duplicate_encode(\"(( @\"))"
   ]
  },
  {
   "cell_type": "code",
   "execution_count": null,
   "metadata": {},
   "outputs": [],
   "source": [
    "def duplicate_encode(word):\n",
    "    return \"\".join([\"(\" if word.lower().count(c) == 1 else \")\" for c in word.lower()])"
   ]
  }
 ],
 "metadata": {
  "kernelspec": {
   "display_name": "Python 3",
   "language": "python",
   "name": "python3"
  },
  "language_info": {
   "codemirror_mode": {
    "name": "ipython",
    "version": 3
   },
   "file_extension": ".py",
   "mimetype": "text/x-python",
   "name": "python",
   "nbconvert_exporter": "python",
   "pygments_lexer": "ipython3",
   "version": "3.7.3"
  }
 },
 "nbformat": 4,
 "nbformat_minor": 2
}
