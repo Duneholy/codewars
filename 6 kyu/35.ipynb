{
 "cells": [
  {
   "cell_type": "code",
   "execution_count": null,
   "metadata": {},
   "outputs": [],
   "source": [
    "# A pangram is a sentence that contains every single letter of the alphabet at least once. \n",
    "# For example, the sentence \"The quick brown fox jumps over the lazy dog\" is a pangram, \n",
    "# because it uses the letters A-Z at least once (case is irrelevant).\n",
    "\n",
    "# Given a string, detect whether or not it is a pangram. Return True if it is, False if not. \n",
    "# Ignore numbers and punctuation."
   ]
  },
  {
   "cell_type": "code",
   "execution_count": 2,
   "metadata": {},
   "outputs": [],
   "source": [
    "import string\n",
    "\n",
    "def is_pangram(s):\n",
    "    a = string.ascii_lowercase\n",
    "    return 26==sum ( 1 for i in a if s.lower().count(i)>=1 )"
   ]
  },
  {
   "cell_type": "code",
   "execution_count": null,
   "metadata": {},
   "outputs": [],
   "source": [
    "import string\n",
    "\n",
    "def is_pangram(s):\n",
    "    return set(string.lowercase) <= set(s.lower())"
   ]
  }
 ],
 "metadata": {
  "kernelspec": {
   "display_name": "Python 3",
   "language": "python",
   "name": "python3"
  },
  "language_info": {
   "codemirror_mode": {
    "name": "ipython",
    "version": 3
   },
   "file_extension": ".py",
   "mimetype": "text/x-python",
   "name": "python",
   "nbconvert_exporter": "python",
   "pygments_lexer": "ipython3",
   "version": "3.7.3"
  }
 },
 "nbformat": 4,
 "nbformat_minor": 2
}
