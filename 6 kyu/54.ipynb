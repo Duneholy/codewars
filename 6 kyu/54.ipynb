{
 "cells": [
  {
   "cell_type": "code",
   "execution_count": null,
   "metadata": {},
   "outputs": [],
   "source": [
    "#https://www.codewars.com/kata/two-joggers/python"
   ]
  },
  {
   "cell_type": "code",
   "execution_count": 106,
   "metadata": {},
   "outputs": [],
   "source": [
    "import time  \n",
    "def nbr_of_laps(x, y):\n",
    "    start = time.time()\n",
    "    equal = 1\n",
    "    while equal%x!=0 or equal%y!=0:\n",
    "        equal += 1\n",
    "    print (\"it took\", time.time() - start, \"seconds.\")\n",
    "    return (equal/x,equal/y)"
   ]
  },
  {
   "cell_type": "code",
   "execution_count": 107,
   "metadata": {},
   "outputs": [
    {
     "name": "stdout",
     "output_type": "stream",
     "text": [
      "it took 0.001992940902709961 seconds.\n"
     ]
    },
    {
     "data": {
      "text/plain": [
       "(162.0, 61.0)"
      ]
     },
     "execution_count": 107,
     "metadata": {},
     "output_type": "execute_result"
    }
   ],
   "source": [
    "nbr_of_laps(122,324)"
   ]
  },
  {
   "cell_type": "code",
   "execution_count": 108,
   "metadata": {},
   "outputs": [],
   "source": [
    "def nbr_of_laps(x, y):\n",
    "    start = time.time()\n",
    "    a = x*y\n",
    "    for i in reversed(range(1000)):\n",
    "        if a/i%x==0 and a/i%y==0:\n",
    "            print (\"it took\", time.time() - start, \"seconds.\")\n",
    "            return (a/i/x,a/i/y)"
   ]
  },
  {
   "cell_type": "code",
   "execution_count": 109,
   "metadata": {},
   "outputs": [
    {
     "name": "stdout",
     "output_type": "stream",
     "text": [
      "it took 0.0001430511474609375 seconds.\n"
     ]
    },
    {
     "data": {
      "text/plain": [
       "(162.0, 61.0)"
      ]
     },
     "execution_count": 109,
     "metadata": {},
     "output_type": "execute_result"
    }
   ],
   "source": [
    "nbr_of_laps(122,324)"
   ]
  },
  {
   "cell_type": "code",
   "execution_count": 110,
   "metadata": {},
   "outputs": [],
   "source": [
    "from fractions import gcd\n",
    "\n",
    "def nbr_of_laps(x, y):\n",
    "    return (y / gcd(x,y), x / gcd(x,y))"
   ]
  }
 ],
 "metadata": {
  "kernelspec": {
   "display_name": "Python 3",
   "language": "python",
   "name": "python3"
  },
  "language_info": {
   "codemirror_mode": {
    "name": "ipython",
    "version": 3
   },
   "file_extension": ".py",
   "mimetype": "text/x-python",
   "name": "python",
   "nbconvert_exporter": "python",
   "pygments_lexer": "ipython3",
   "version": "3.7.3"
  }
 },
 "nbformat": 4,
 "nbformat_minor": 2
}
