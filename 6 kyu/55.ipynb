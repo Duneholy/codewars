{
 "cells": [
  {
   "cell_type": "code",
   "execution_count": 1,
   "metadata": {},
   "outputs": [],
   "source": [
    "# An Arithmetic Progression is defined as one in which there is a constant difference \n",
    "# between the consecutive terms of a given series of numbers. \n",
    "# You are provided with consecutive elements of an Arithmetic Progression. \n",
    "# There is however one hitch: exactly one term from the original series is missing \n",
    "#     from the set of numbers which have been given to you. The rest of the given series \n",
    "#     is the same as the original AP. Find the missing term.\n",
    "\n",
    "# You have to write the function findMissing(list), list will always be at least 3 numbers. \n",
    "# The missing term will never be the first or last one.\n",
    "\n",
    "# Example\n",
    "# find_missing([1, 3, 5, 9, 11]) == 7"
   ]
  },
  {
   "cell_type": "code",
   "execution_count": 2,
   "metadata": {},
   "outputs": [],
   "source": [
    "#[0, 3, 6, 12, 15, 18, 21, 24, 27] should equal 9\n",
    "#[1, 2, 3, 4, 6, 7, 8, 9] should equal 5\n",
    "#[1, -2, -5, -8, -11, -14, -17, -20, -23, -26, -29, -32, -35, -38, -41, -44, -47, -50, -53, -56, -59, -62, -65, -68, -71, -74, -77, -80, -83, -86, -89, -92, -95, -98, -101, -104, -107, -110, -113, -119, -122, -125, -128, -131, -134, -137, -140, -143, -146, -149, -152, -155, -158, -161, -164, -167, -170, -173, -176, -179, -182, -185, -188, -191, -194, -197, -200, -203, -206, -209, -212, -215, -218, -221, -224, -227, -230, -233, -236, -239, -242, -245, -248, -251, -254, -257, -260, -263, -266, -269, -272, -275, -278, -281, -284, -287, -290, -293, -296] should equal -116"
   ]
  },
  {
   "cell_type": "code",
   "execution_count": 25,
   "metadata": {},
   "outputs": [],
   "source": [
    "def find_missing(sequence):\n",
    "    n = (sequence[-1]-sequence[0])/len(sequence)\n",
    "    for index,digit in enumerate(sequence):\n",
    "        if digit+n!=sequence[index+1]:\n",
    "            return int(digit+n)"
   ]
  },
  {
   "cell_type": "code",
   "execution_count": 28,
   "metadata": {},
   "outputs": [
    {
     "name": "stdout",
     "output_type": "stream",
     "text": [
      "-116\n"
     ]
    }
   ],
   "source": [
    "print (find_missing([1, -2, -5, -8, -11, -14, -17, -20, -23, -26, -29, -32, -35, -38, -41, -44, -47, -50, -53, -56, -59, -62, -65, -68, -71, -74, -77, -80, -83, -86, -89, -92, -95, -98, -101, -104, -107, -110, -113, -119, -122, -125, -128, -131, -134, -137, -140, -143, -146, -149, -152, -155, -158, -161, -164, -167, -170, -173, -176, -179, -182, -185, -188, -191, -194, -197, -200, -203, -206, -209, -212, -215, -218, -221, -224, -227, -230, -233, -236, -239, -242, -245, -248, -251, -254, -257, -260, -263, -266, -269, -272, -275, -278, -281, -284, -287, -290, -293, -296]))"
   ]
  },
  {
   "cell_type": "code",
   "execution_count": 29,
   "metadata": {},
   "outputs": [],
   "source": [
    "#1128ms"
   ]
  },
  {
   "cell_type": "code",
   "execution_count": 30,
   "metadata": {},
   "outputs": [],
   "source": [
    "#решение с кв\n",
    "def find_missing(sequence):\n",
    "    t = sequence\n",
    "    return (t[0] + t[-1]) * (len(t) + 1) / 2 - sum(t)\n",
    "#складываем 1 и посл числа прогрессии, умножить на длину прогрессии+пропущенное, поделить на 2-сумма всех чисел прогрессии. MATH.."
   ]
  },
  {
   "cell_type": "code",
   "execution_count": null,
   "metadata": {},
   "outputs": [],
   "source": []
  }
 ],
 "metadata": {
  "kernelspec": {
   "display_name": "Python 3",
   "language": "python",
   "name": "python3"
  },
  "language_info": {
   "codemirror_mode": {
    "name": "ipython",
    "version": 3
   },
   "file_extension": ".py",
   "mimetype": "text/x-python",
   "name": "python",
   "nbconvert_exporter": "python",
   "pygments_lexer": "ipython3",
   "version": "3.7.3"
  }
 },
 "nbformat": 4,
 "nbformat_minor": 2
}
