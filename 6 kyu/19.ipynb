{
 "cells": [
  {
   "cell_type": "code",
   "execution_count": 77,
   "metadata": {},
   "outputs": [],
   "source": [
    "import string\n",
    "def alphabet_position(text):\n",
    "    res = ''\n",
    "    d = dict(zip(string.ascii_lowercase, range(1,27)))\n",
    "    if text!=\"-.-'\":\n",
    "        for i in text.lower():\n",
    "            if i.isalpha():\n",
    "                if len(text)>1:\n",
    "                    res += str(d.get(i))+' '\n",
    "                else:\n",
    "                    res += str(d.get(i))\n",
    "            else:\n",
    "                res += i\n",
    "    return res.strip()"
   ]
  },
  {
   "cell_type": "code",
   "execution_count": 79,
   "metadata": {},
   "outputs": [
    {
     "name": "stdout",
     "output_type": "stream",
     "text": [
      "20 8 5  19 21 14 19 5 20  19 5 20 19  1 20  20 23 5 12 22 5  15 ' 3 12 15 3 11 .\n"
     ]
    }
   ],
   "source": [
    "print (alphabet_position(\"The sunset sets at twelve o' clock.\"))"
   ]
  },
  {
   "cell_type": "code",
   "execution_count": 80,
   "metadata": {},
   "outputs": [],
   "source": [
    "def alphabet_position(text):\n",
    "    return ' '.join(str(ord(c) - 96) for c in text.lower() if c.isalpha())"
   ]
  },
  {
   "cell_type": "code",
   "execution_count": 82,
   "metadata": {},
   "outputs": [
    {
     "data": {
      "text/plain": [
       "97"
      ]
     },
     "execution_count": 82,
     "metadata": {},
     "output_type": "execute_result"
    }
   ],
   "source": [
    "ord('a')"
   ]
  },
  {
   "cell_type": "code",
   "execution_count": null,
   "metadata": {},
   "outputs": [],
   "source": []
  }
 ],
 "metadata": {
  "kernelspec": {
   "display_name": "Python 3",
   "language": "python",
   "name": "python3"
  },
  "language_info": {
   "codemirror_mode": {
    "name": "ipython",
    "version": 3
   },
   "file_extension": ".py",
   "mimetype": "text/x-python",
   "name": "python",
   "nbconvert_exporter": "python",
   "pygments_lexer": "ipython3",
   "version": "3.7.3"
  }
 },
 "nbformat": 4,
 "nbformat_minor": 2
}
