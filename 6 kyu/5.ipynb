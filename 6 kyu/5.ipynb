{
 "cells": [
  {
   "cell_type": "code",
   "execution_count": 1,
   "metadata": {},
   "outputs": [],
   "source": [
    "#You probably know the \"like\" system from Facebook and other pages. \n",
    "#People can \"like\" blog posts, pictures or other items. \n",
    "#We want to create the text that should be displayed next to such an item.\n",
    "\n",
    "#Implement a function likes :: [String] -> String, which must take in input array, \n",
    "#containing the names of people who like an item. It must return the display text as shown in the examples:\n",
    "\n",
    "#likes [] // must be \"no one likes this\"\n",
    "#likes [\"Peter\"] // must be \"Peter likes this\"\n",
    "#likes [\"Jacob\", \"Alex\"] // must be \"Jacob and Alex like this\"\n",
    "#likes [\"Max\", \"John\", \"Mark\"] // must be \"Max, John and Mark like this\"\n",
    "#likes [\"Alex\", \"Jacob\", \"Mark\", \"Max\"] // must be \"Alex, Jacob and 2 others like this\""
   ]
  },
  {
   "cell_type": "code",
   "execution_count": 40,
   "metadata": {},
   "outputs": [],
   "source": [
    "def likes(names):\n",
    "    if len(names)>3:\n",
    "        return '{0[0]}, {0[1]} and '.format(names) + str(len(names)-2) +' others like this'\n",
    "    elif len(names)==0:\n",
    "        return \"no one likes this\"\n",
    "    elif len(names)==3:\n",
    "        return '{0[0]}, {0[1]} and {0[2]} like this'.format(names)\n",
    "    elif len(names)==2:\n",
    "        return '{0[0]} and {0[1]} like this'.format(names)\n",
    "    else:\n",
    "        return ''.join(names)+' likes this'"
   ]
  },
  {
   "cell_type": "code",
   "execution_count": 41,
   "metadata": {},
   "outputs": [
    {
     "name": "stdout",
     "output_type": "stream",
     "text": [
      "Alex, Jacob and 2 others like this\n"
     ]
    }
   ],
   "source": [
    "print (likes([\"Alex\", \"Jacob\", \"Mark\", \"Max\"]))"
   ]
  },
  {
   "cell_type": "code",
   "execution_count": 42,
   "metadata": {},
   "outputs": [],
   "source": [
    "#а вот решение с кв\n",
    "def likes(names):\n",
    "    n = len(names)\n",
    "    return {\n",
    "        0: 'no one likes this',\n",
    "        1: '{} likes this', \n",
    "        2: '{} and {} like this', \n",
    "        3: '{}, {} and {} like this', \n",
    "        4: '{}, {} and {others} others like this'\n",
    "    }[min(4, n)].format(*names[:3], others=n-2)"
   ]
  },
  {
   "cell_type": "code",
   "execution_count": 43,
   "metadata": {},
   "outputs": [
    {
     "name": "stdout",
     "output_type": "stream",
     "text": [
      "Alex, Jacob and 2 others like this\n"
     ]
    }
   ],
   "source": [
    "print (likes([\"Alex\", \"Jacob\", \"Mark\", \"Max\"]))"
   ]
  },
  {
   "cell_type": "code",
   "execution_count": null,
   "metadata": {},
   "outputs": [],
   "source": []
  }
 ],
 "metadata": {
  "kernelspec": {
   "display_name": "Python 3",
   "language": "python",
   "name": "python3"
  },
  "language_info": {
   "codemirror_mode": {
    "name": "ipython",
    "version": 3
   },
   "file_extension": ".py",
   "mimetype": "text/x-python",
   "name": "python",
   "nbconvert_exporter": "python",
   "pygments_lexer": "ipython3",
   "version": "3.7.3"
  }
 },
 "nbformat": 4,
 "nbformat_minor": 2
}
