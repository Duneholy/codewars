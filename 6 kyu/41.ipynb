{
 "cells": [
  {
   "cell_type": "code",
   "execution_count": null,
   "metadata": {},
   "outputs": [],
   "source": [
    "# Write an algorithm that will identify valid IPv4 addresses in dot-decimal format. \n",
    "# IPs should be considered valid if they consist of four octets, with values between 0 and 255, inclusive.\n",
    "\n",
    "# Input to the function is guaranteed to be a single string.\n",
    "\n",
    "# Examples\n",
    "# Valid inputs:\n",
    "\n",
    "# 1.2.3.4\n",
    "# 123.45.67.89\n",
    "# Invalid inputs:\n",
    "\n",
    "# 1.2.3\n",
    "# 1.2.3.4.5\n",
    "# 123.456.78.90\n",
    "# 123.045.067.089"
   ]
  },
  {
   "cell_type": "code",
   "execution_count": 2,
   "metadata": {},
   "outputs": [],
   "source": [
    "def is_valid_IP(strng):\n",
    "    s = strng.split('.')\n",
    "    b = 0\n",
    "    for i in s:\n",
    "        if not i.isdigit():\n",
    "            b+=1\n",
    "        if i.isdigit():\n",
    "            if int(i)>255 or int(i)<0:\n",
    "                b+=1\n",
    "            if len(i)!=len(str(int(i))):\n",
    "                b+=1\n",
    "    return len(s)==4 and b==0"
   ]
  },
  {
   "cell_type": "code",
   "execution_count": 3,
   "metadata": {},
   "outputs": [],
   "source": [
    "import socket\n",
    "\n",
    "def is_valid_IP(addr):\n",
    "    try:\n",
    "        socket.inet_pton(socket.AF_INET, addr)\n",
    "        return True\n",
    "    except socket.error:\n",
    "        return False"
   ]
  }
 ],
 "metadata": {
  "kernelspec": {
   "display_name": "Python 3",
   "language": "python",
   "name": "python3"
  },
  "language_info": {
   "codemirror_mode": {
    "name": "ipython",
    "version": 3
   },
   "file_extension": ".py",
   "mimetype": "text/x-python",
   "name": "python",
   "nbconvert_exporter": "python",
   "pygments_lexer": "ipython3",
   "version": "3.7.3"
  }
 },
 "nbformat": 4,
 "nbformat_minor": 2
}
