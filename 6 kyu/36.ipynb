{
 "cells": [
  {
   "cell_type": "code",
   "execution_count": null,
   "metadata": {},
   "outputs": [],
   "source": [
    "# Complete the solution so that it splits the string into pairs of two characters. \n",
    "# If the string contains an odd number of characters then it should replace \n",
    "# the missing second character of the final pair with an underscore ('_').\n",
    "\n",
    "# Examples:\n",
    "\n",
    "# solution('abc') # should return ['ab', 'c_']\n",
    "# solution('abcdef') # should return ['ab', 'cd', 'ef']"
   ]
  },
  {
   "cell_type": "code",
   "execution_count": 1,
   "metadata": {},
   "outputs": [],
   "source": [
    "def solution(s):\n",
    "    res = []\n",
    "    while s:\n",
    "        res.append(s[:2])\n",
    "        s = s[2:]\n",
    "        if len(res[-1])==1:\n",
    "            res[-1]+='_'\n",
    "    return res"
   ]
  },
  {
   "cell_type": "code",
   "execution_count": 2,
   "metadata": {},
   "outputs": [],
   "source": [
    "import re\n",
    "\n",
    "def solution(s):\n",
    "    return re.findall(\".{2}\", s + \"_\")\n",
    "#решение с кв через re"
   ]
  },
  {
   "cell_type": "code",
   "execution_count": null,
   "metadata": {},
   "outputs": [],
   "source": [
    "if len(s) % 2:\n",
    "        s += '_' #тоже смарт"
   ]
  }
 ],
 "metadata": {
  "kernelspec": {
   "display_name": "Python 3",
   "language": "python",
   "name": "python3"
  },
  "language_info": {
   "codemirror_mode": {
    "name": "ipython",
    "version": 3
   },
   "file_extension": ".py",
   "mimetype": "text/x-python",
   "name": "python",
   "nbconvert_exporter": "python",
   "pygments_lexer": "ipython3",
   "version": "3.7.3"
  }
 },
 "nbformat": 4,
 "nbformat_minor": 2
}
