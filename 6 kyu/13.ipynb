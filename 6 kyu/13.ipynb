{
 "cells": [
  {
   "cell_type": "code",
   "execution_count": 1,
   "metadata": {},
   "outputs": [],
   "source": [
    "#Count the number of Duplicates\n",
    "#Write a function that will return the count of distinct case-insensitive alphabetic \n",
    "#characters and numeric digits that occur more than once in the input string. \n",
    "#The input string can be assumed to contain only alphabets (both uppercase and lowercase) \n",
    "#and numeric digits.\n",
    "\n",
    "#Example\n",
    "#\"abcde\" -> 0 # no characters repeats more than once\n",
    "#\"aabbcde\" -> 2 # 'a' and 'b'\n",
    "#\"aabBcde\" -> 2 # 'a' occurs twice and 'b' twice (`b` and `B`)\n",
    "#\"indivisibility\" -> 1 # 'i' occurs six times\n",
    "#\"Indivisibilities\" -> 2 # 'i' occurs seven times and 's' occurs twice\n",
    "#\"aA11\" -> 2 # 'a' and '1'\n",
    "#\"ABBA\" -> 2 # 'A' and 'B' each occur twice"
   ]
  },
  {
   "cell_type": "code",
   "execution_count": 72,
   "metadata": {},
   "outputs": [],
   "source": [
    "def duplicate_count(text):\n",
    "    res = []\n",
    "    for i in set(text.lower()):\n",
    "        if isinstance(i,str):\n",
    "            res.append(i)\n",
    "        else:\n",
    "            res.append(str(i))\n",
    "    return sum(1 for i in res if text.lower().count(i)>1)"
   ]
  },
  {
   "cell_type": "code",
   "execution_count": 73,
   "metadata": {},
   "outputs": [
    {
     "name": "stdout",
     "output_type": "stream",
     "text": [
      "2\n"
     ]
    }
   ],
   "source": [
    "print (duplicate_count(\"aA11\"))"
   ]
  },
  {
   "cell_type": "code",
   "execution_count": null,
   "metadata": {},
   "outputs": [],
   "source": [
    "def duplicate_count(s):\n",
    "    return len([c for c in set(s.lower()) if s.lower().count(c)>1])"
   ]
  }
 ],
 "metadata": {
  "kernelspec": {
   "display_name": "Python 3",
   "language": "python",
   "name": "python3"
  },
  "language_info": {
   "codemirror_mode": {
    "name": "ipython",
    "version": 3
   },
   "file_extension": ".py",
   "mimetype": "text/x-python",
   "name": "python",
   "nbconvert_exporter": "python",
   "pygments_lexer": "ipython3",
   "version": "3.7.3"
  }
 },
 "nbformat": 4,
 "nbformat_minor": 2
}
