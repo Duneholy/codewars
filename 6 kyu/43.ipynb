{
 "cells": [
  {
   "cell_type": "code",
   "execution_count": 1,
   "metadata": {},
   "outputs": [],
   "source": [
    "import random\n",
    "\n",
    "def get_bingo_card():\n",
    "    b = ['B' + str(n) for n in random.sample(range(1, 16), 5)]\n",
    "    i = ['I' + str(n) for n in random.sample(range(16, 31), 5)]\n",
    "    n = ['N' + str(n) for n in random.sample(range(31, 46), 4)]\n",
    "    g = ['G' + str(n) for n in random.sample(range(46, 61), 5)]\n",
    "    o = ['O' + str(n) for n in random.sample(range(61, 76), 5)]\n",
    "    return b + i + n + g + o"
   ]
  },
  {
   "cell_type": "code",
   "execution_count": null,
   "metadata": {},
   "outputs": [],
   "source": []
  }
 ],
 "metadata": {
  "kernelspec": {
   "display_name": "Python 3",
   "language": "python",
   "name": "python3"
  },
  "language_info": {
   "codemirror_mode": {
    "name": "ipython",
    "version": 3
   },
   "file_extension": ".py",
   "mimetype": "text/x-python",
   "name": "python",
   "nbconvert_exporter": "python",
   "pygments_lexer": "ipython3",
   "version": "3.7.3"
  }
 },
 "nbformat": 4,
 "nbformat_minor": 2
}
