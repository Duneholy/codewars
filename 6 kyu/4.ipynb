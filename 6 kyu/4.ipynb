{
 "cells": [
  {
   "cell_type": "code",
   "execution_count": 1,
   "metadata": {},
   "outputs": [],
   "source": [
    "#Write a function that takes in a string of one or more words, and returns the same string, \n",
    "#but with all five or more letter words reversed. \n",
    "#Strings passed in will consist of only letters and spaces. \n",
    "#Spaces will be included only when more than one word is present.\n",
    "\n",
    "#Examples:\n",
    "\n",
    "#spinWords( \"Hey fellow warriors\" ) => returns \"Hey wollef sroirraw\" \n",
    "#spinWords( \"This is a test\") => returns \"This is a test\" \n",
    "#spinWords( \"This is another test\" )=> returns \"This is rehtona test\""
   ]
  },
  {
   "cell_type": "code",
   "execution_count": 22,
   "metadata": {},
   "outputs": [],
   "source": [
    "def spin_words(sentence):\n",
    "    return ' '.join(i[::-1] if len(i)>4 else i for i in sentence.split())"
   ]
  },
  {
   "cell_type": "code",
   "execution_count": 23,
   "metadata": {},
   "outputs": [
    {
     "name": "stdout",
     "output_type": "stream",
     "text": [
      "This is rehtona test\n"
     ]
    }
   ],
   "source": [
    "print (spin_words(\"This is another test\"))"
   ]
  },
  {
   "cell_type": "code",
   "execution_count": null,
   "metadata": {},
   "outputs": [],
   "source": []
  }
 ],
 "metadata": {
  "kernelspec": {
   "display_name": "Python 3",
   "language": "python",
   "name": "python3"
  },
  "language_info": {
   "codemirror_mode": {
    "name": "ipython",
    "version": 3
   },
   "file_extension": ".py",
   "mimetype": "text/x-python",
   "name": "python",
   "nbconvert_exporter": "python",
   "pygments_lexer": "ipython3",
   "version": "3.7.3"
  }
 },
 "nbformat": 4,
 "nbformat_minor": 2
}
