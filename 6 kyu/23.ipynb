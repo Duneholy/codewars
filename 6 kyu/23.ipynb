{
 "cells": [
  {
   "cell_type": "code",
   "execution_count": 1,
   "metadata": {},
   "outputs": [],
   "source": [
    "# #Find the missing letter\n",
    "\n",
    "# Write a method that takes an array of consecutive (increasing) letters as input \n",
    "# and that returns the missing letter in the array.\n",
    "\n",
    "# You will always get an valid array. And it will be always exactly one letter be missing. \n",
    "# The length of the array will always be at least 2.\n",
    "# The array will always contain letters in only one case.\n",
    "\n",
    "# Example:\n",
    "\n",
    "# ['a','b','c','d','f'] -> 'e'\n",
    "# ['O','Q','R','S'] -> 'P'"
   ]
  },
  {
   "cell_type": "code",
   "execution_count": 44,
   "metadata": {},
   "outputs": [],
   "source": [
    "import string\n",
    "def find_missing_letter(chars):\n",
    "    for i in chars:\n",
    "        if i.islower(): #теперь надо найти индекс первого символа в строке, откуда считать\n",
    "            start = string.ascii_lowercase\n",
    "            index = start.index(chars[0])\n",
    "            for i in start[index:index+len(chars)+1]:\n",
    "                if i not in chars:\n",
    "                    return i\n",
    "        elif i.isupper():\n",
    "            start = string.ascii_uppercase\n",
    "            index = start.index(chars[0])\n",
    "            for i in start[index:index+len(chars)+1]:\n",
    "                if i not in chars:\n",
    "                    return i"
   ]
  },
  {
   "cell_type": "code",
   "execution_count": 47,
   "metadata": {},
   "outputs": [
    {
     "name": "stdout",
     "output_type": "stream",
     "text": [
      "e\n"
     ]
    }
   ],
   "source": [
    "print (find_missing_letter(['a','b','c','d','f']))"
   ]
  },
  {
   "cell_type": "code",
   "execution_count": null,
   "metadata": {},
   "outputs": [],
   "source": [
    "def find_missing_letter(chars):\n",
    "    n = 0\n",
    "    while ord(chars[n]) == ord(chars[n+1]) - 1:\n",
    "        n += 1\n",
    "    return chr(1+ord(chars[n]))"
   ]
  }
 ],
 "metadata": {
  "kernelspec": {
   "display_name": "Python 3",
   "language": "python",
   "name": "python3"
  }
 },
 "nbformat": 4,
 "nbformat_minor": 2
}
