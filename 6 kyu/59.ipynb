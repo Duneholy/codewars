{
 "cells": [
  {
   "cell_type": "code",
   "execution_count": 1,
   "metadata": {},
   "outputs": [],
   "source": [
    "# You get an array of arrays.\n",
    "# If you sort the arrays by their length, you will see, that their length-values are consecutive.\n",
    "# But one array is missing!\n",
    "\n",
    "\n",
    "# You have to write a method, that return the length of the missing array.\n",
    "\n",
    "# Example:\n",
    "# [[1, 2], [4, 5, 1, 1], [1], [5, 6, 7, 8, 9]] --> 3\n",
    "\n",
    "# If the array of arrays is null/nil or empty, the method should return 0.\n",
    "\n",
    "# When an array in the array is null or empty, the method should return 0 too!\n",
    "# There will always be a missing element and its length will be always between the given arrays. \n",
    "\n",
    "# Have fun coding it and please don't forget to vote and rank this kata! :-)\n",
    "\n",
    "# I have created other katas. Have a look if you like coding and challenges."
   ]
  },
  {
   "cell_type": "code",
   "execution_count": 2,
   "metadata": {},
   "outputs": [],
   "source": [
    "# test.describe(\"Example Tests\")\n",
    "# tests = (\n",
    "#     ([[1, 2], [4, 5, 1, 1], [1], [5, 6, 7, 8, 9]], 3),\n",
    "#     ([[5, 2, 9], [4, 5, 1, 1], [1], [5, 6, 7, 8, 9]], 2),\n",
    "#     ([[None], [None, None, None]], 2),\n",
    "#     ([['a', 'a', 'a'], ['a', 'a'], ['a', 'a', 'a', 'a'], ['a'], ['a', 'a', 'a', 'a','a', 'a']], 5)\n",
    "# )\n",
    "\n",
    "# for case in tests:\n",
    "#     inp, exp = case\n",
    "#     test.assert_equals(get_length_of_missing_array(inp), exp)"
   ]
  },
  {
   "cell_type": "code",
   "execution_count": 3,
   "metadata": {},
   "outputs": [],
   "source": [
    "def get_length_of_missing_array(array_of_arrays):\n",
    "    pass"
   ]
  },
  {
   "cell_type": "code",
   "execution_count": null,
   "metadata": {},
   "outputs": [],
   "source": []
  }
 ],
 "metadata": {
  "kernelspec": {
   "display_name": "Python 3",
   "language": "python",
   "name": "python3"
  },
  "language_info": {
   "codemirror_mode": {
    "name": "ipython",
    "version": 3
   },
   "file_extension": ".py",
   "mimetype": "text/x-python",
   "name": "python",
   "nbconvert_exporter": "python",
   "pygments_lexer": "ipython3",
   "version": "3.7.3"
  }
 },
 "nbformat": 4,
 "nbformat_minor": 2
}
