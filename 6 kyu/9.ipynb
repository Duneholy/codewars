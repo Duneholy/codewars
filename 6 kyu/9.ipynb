{
 "cells": [
  {
   "cell_type": "code",
   "execution_count": 1,
   "metadata": {},
   "outputs": [],
   "source": [
    "#Write a function that accepts an array of 10 integers (between 0 and 9), \n",
    "#that returns a string of those numbers in the form of a phone number.\n",
    "\n",
    "#Example:\n",
    "#create_phone_number([1, 2, 3, 4, 5, 6, 7, 8, 9, 0]) # => returns \"(123) 456-7890\"\n",
    "#The returned format must be correct in order to complete this challenge. \n",
    "#Don't forget the space after the closing parenthesis!"
   ]
  },
  {
   "cell_type": "code",
   "execution_count": 63,
   "metadata": {},
   "outputs": [],
   "source": [
    "def create_phone_number(n):\n",
    "    x = ''.join(str(i) for i in n)\n",
    "    return '({0}) {1}-{2}'.format(x[0:3],x[3:6],x[6:])"
   ]
  },
  {
   "cell_type": "code",
   "execution_count": 64,
   "metadata": {},
   "outputs": [
    {
     "name": "stdout",
     "output_type": "stream",
     "text": [
      "(123) 456-7890\n"
     ]
    }
   ],
   "source": [
    "print (create_phone_number([1, 2, 3, 4, 5, 6, 7, 8, 9, 0]))"
   ]
  },
  {
   "cell_type": "code",
   "execution_count": null,
   "metadata": {},
   "outputs": [],
   "source": [
    "def create_phone_number(n):\n",
    "  return \"({}{}{}) {}{}{}-{}{}{}{}\".format(*n)\n",
    "#сначала так и думал сделать - это с кв вариант - но подумал что не очень красиво, хотя так было правильнее наверное, зачем усложнять"
   ]
  }
 ],
 "metadata": {
  "kernelspec": {
   "display_name": "Python 3",
   "language": "python",
   "name": "python3"
  },
  "language_info": {
   "codemirror_mode": {
    "name": "ipython",
    "version": 3
   },
   "file_extension": ".py",
   "mimetype": "text/x-python",
   "name": "python",
   "nbconvert_exporter": "python",
   "pygments_lexer": "ipython3",
   "version": "3.7.3"
  }
 },
 "nbformat": 4,
 "nbformat_minor": 2
}
