{
 "cells": [
  {
   "cell_type": "code",
   "execution_count": 1,
   "metadata": {},
   "outputs": [],
   "source": [
    "# https://www.codewars.com/kata/coordinates-validator/train/python"
   ]
  },
  {
   "cell_type": "code",
   "execution_count": 2,
   "metadata": {},
   "outputs": [],
   "source": [
    "# Here are some valid coordinates:\n",
    "\n",
    "# -23, 25\n",
    "# 24.53525235, 23.45235\n",
    "# 04, -23.234235\n",
    "# 43.91343345, 143\n",
    "# 4, -3\n",
    "# And some invalid ones:\n",
    "\n",
    "# 23.234, - 23.4234\n",
    "# 2342.43536, 34.324236\n",
    "# N23.43345, E32.6457\n",
    "# 99.234, 12.324\n",
    "# 6.325624, 43.34345.345\n",
    "# 0, 1,2\n",
    "# 0.342q0832, 1.2324"
   ]
  },
  {
   "cell_type": "code",
   "execution_count": 46,
   "metadata": {},
   "outputs": [],
   "source": [
    "def is_valid_coordinates(coord):\n",
    "    if coord.count(',')!=1 or coord.count(' ')!=1:\n",
    "        return False\n",
    "    \n",
    "    for a,b in enumerate(coord.split(',')):\n",
    "        for i in b:\n",
    "            if i.isalpha():\n",
    "                return False\n",
    "        try:\n",
    "            float(b)\n",
    "        except:\n",
    "            return False\n",
    "        if a==0:\n",
    "            if abs(float(b))>90:\n",
    "                return False\n",
    "        else:\n",
    "            if abs(float(b))>180:\n",
    "                return False\n",
    "    return True"
   ]
  },
  {
   "cell_type": "code",
   "execution_count": 47,
   "metadata": {},
   "outputs": [
    {
     "data": {
      "text/plain": [
       "False"
      ]
     },
     "execution_count": 47,
     "metadata": {},
     "output_type": "execute_result"
    }
   ],
   "source": [
    "is_valid_coordinates('24.53525235, 23N.45235')"
   ]
  },
  {
   "cell_type": "code",
   "execution_count": 48,
   "metadata": {},
   "outputs": [],
   "source": [
    "def is_valid_coordinates(coordinates):\n",
    "    try:\n",
    "        lat, lng = [abs(float(c)) for c in coordinates.split(',') if 'e' not in c]\n",
    "    except ValueError:\n",
    "        return False\n",
    "\n",
    "    return lat <= 90 and lng <= 180\n",
    "#решение с кв, да, теперь переделаю короче"
   ]
  },
  {
   "cell_type": "code",
   "execution_count": 63,
   "metadata": {},
   "outputs": [],
   "source": [
    "def is_valid_coordinates(coord):   \n",
    "    res = []\n",
    "    for i in coord.split(','):\n",
    "        try:\n",
    "            if 'e' not in i:\n",
    "                res.append(abs(float(i)))\n",
    "        except:\n",
    "            return False\n",
    "    return len(res)==2 and res[0]<=90 and res[1]<=180"
   ]
  },
  {
   "cell_type": "code",
   "execution_count": 64,
   "metadata": {},
   "outputs": [
    {
     "data": {
      "text/plain": [
       "True"
      ]
     },
     "execution_count": 64,
     "metadata": {},
     "output_type": "execute_result"
    }
   ],
   "source": [
    "is_valid_coordinates('24.53525235, 23.45235')"
   ]
  },
  {
   "cell_type": "code",
   "execution_count": null,
   "metadata": {},
   "outputs": [],
   "source": []
  }
 ],
 "metadata": {
  "kernelspec": {
   "display_name": "Python 3",
   "language": "python",
   "name": "python3"
  },
  "language_info": {
   "codemirror_mode": {
    "name": "ipython",
    "version": 3
   },
   "file_extension": ".py",
   "mimetype": "text/x-python",
   "name": "python",
   "nbconvert_exporter": "python",
   "pygments_lexer": "ipython3",
   "version": "3.7.3"
  }
 },
 "nbformat": 4,
 "nbformat_minor": 2
}
