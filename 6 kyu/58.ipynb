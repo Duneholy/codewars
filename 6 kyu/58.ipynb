{
 "cells": [
  {
   "cell_type": "code",
   "execution_count": 1,
   "metadata": {},
   "outputs": [],
   "source": [
    "# Longest Palindrome\n",
    "# Find the length of the longest substring in the given string s that is the same in reverse.\n",
    "\n",
    "# As an example, if the input was “I like racecars that go fast”, the substring (racecar) length would be 7.\n",
    "\n",
    "# If the length of the input string is 0, the return value must be 0.\n",
    "\n",
    "# Example:\n",
    "# \"a\" -> 1 \n",
    "# \"aab\" -> 2  \n",
    "# \"abcde\" -> 1\n",
    "# \"zzbaabcd\" -> 4\n",
    "# \"\" -> 0"
   ]
  },
  {
   "cell_type": "code",
   "execution_count": 2,
   "metadata": {},
   "outputs": [],
   "source": [
    "# test.assert_equals(longest_palindrome(\"a\"), 1)\n",
    "# test.assert_equals(longest_palindrome(\"aa\"), 2)\n",
    "# test.assert_equals(longest_palindrome(\"baa\"), 2)\n",
    "# test.assert_equals(longest_palindrome(\"aab\"), 2)\n",
    "# test.assert_equals(longest_palindrome(\"abcdefghba\"), 1)\n",
    "# test.assert_equals(longest_palindrome(\"baablkj12345432133d\"), 9)"
   ]
  },
  {
   "cell_type": "code",
   "execution_count": 91,
   "metadata": {},
   "outputs": [],
   "source": [
    "def longest_palindrome(a):\n",
    "    if len(a)>1:\n",
    "        res = []\n",
    "        for start,i in enumerate(a):\n",
    "            for end,y in enumerate(a):\n",
    "                if a[start:end+1]==a[start:end+1][::-1]:\n",
    "                    res.append(a[start:end+1])\n",
    "        return len(max(res,key=len))\n",
    "    else:\n",
    "        return 0 if not a else 1\n",
    "#1887ms"
   ]
  },
  {
   "cell_type": "code",
   "execution_count": 92,
   "metadata": {},
   "outputs": [
    {
     "name": "stdout",
     "output_type": "stream",
     "text": [
      "9\n"
     ]
    }
   ],
   "source": [
    "print (longest_palindrome(\"baablkj12345432133d\"))"
   ]
  },
  {
   "cell_type": "code",
   "execution_count": 89,
   "metadata": {},
   "outputs": [],
   "source": [
    "#с кв\n",
    "def longest_palindrome (s):\n",
    "    if not s: return 0\n",
    "    substrings = [s[i:j] for i in range(0,len(s)) for j in range(i,len(s)+1)] #делает субстроки \n",
    "    return max(len(s) for s in substrings if s == s[::-1]) #в принципе это то же самое все, но рабтает чуть быстрее\n",
    "#Time: 1725ms"
   ]
  },
  {
   "cell_type": "code",
   "execution_count": null,
   "metadata": {},
   "outputs": [],
   "source": []
  }
 ],
 "metadata": {
  "kernelspec": {
   "display_name": "Python 3",
   "language": "python",
   "name": "python3"
  },
  "language_info": {
   "codemirror_mode": {
    "name": "ipython",
    "version": 3
   },
   "file_extension": ".py",
   "mimetype": "text/x-python",
   "name": "python",
   "nbconvert_exporter": "python",
   "pygments_lexer": "ipython3",
   "version": "3.7.3"
  }
 },
 "nbformat": 4,
 "nbformat_minor": 2
}
