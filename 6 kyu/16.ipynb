{
 "cells": [
  {
   "cell_type": "code",
   "execution_count": 1,
   "metadata": {},
   "outputs": [],
   "source": [
    "# Your task is to sort a given string. Each word in the string will contain a single number. \n",
    "# This number is the position the word should have in the result.\n",
    "\n",
    "# Note: Numbers can be from 1 to 9. So 1 will be the first word (not 0).\n",
    "\n",
    "# If the input string is empty, return an empty string. \n",
    "# The words in the input String will only contain valid consecutive numbers.\n",
    "\n",
    "# Examples\n",
    "# \"is2 Thi1s T4est 3a\"  -->  \"Thi1s is2 3a T4est\"\n",
    "# \"4of Fo1r pe6ople g3ood th5e the2\"  -->  \"Fo1r the2 g3ood 4of th5e pe6ople\"\n",
    "# \"\"  -->  \"\""
   ]
  },
  {
   "cell_type": "code",
   "execution_count": 46,
   "metadata": {},
   "outputs": [],
   "source": [
    "#взять каждое слово по одтельности, вычислить цифру и присвоить слову порядковый номер\n",
    "def order(sentence):\n",
    "    d = {}\n",
    "    for i in sentence.split():\n",
    "        d[sorted(i)[0]]=i\n",
    "    return ' '.join(value for key, value in sorted(d.items()))"
   ]
  },
  {
   "cell_type": "code",
   "execution_count": 47,
   "metadata": {},
   "outputs": [
    {
     "name": "stdout",
     "output_type": "stream",
     "text": [
      "Thi1s is2 3a T4est\n"
     ]
    }
   ],
   "source": [
    "print (order(\"is2 Thi1s T4est 3a\"))"
   ]
  },
  {
   "cell_type": "code",
   "execution_count": 48,
   "metadata": {},
   "outputs": [],
   "source": [
    "def order(words):\n",
    "    return ' '.join(sorted(words.split(), key=lambda w:sorted(w)))"
   ]
  },
  {
   "cell_type": "code",
   "execution_count": 49,
   "metadata": {},
   "outputs": [
    {
     "name": "stdout",
     "output_type": "stream",
     "text": [
      "Thi1s is2 3a T4est\n"
     ]
    }
   ],
   "source": [
    "print (order(\"is2 Thi1s T4est 3a\"))"
   ]
  }
 ],
 "metadata": {
  "kernelspec": {
   "display_name": "Python 3",
   "language": "python",
   "name": "python3"
  },
  "language_info": {
   "codemirror_mode": {
    "name": "ipython",
    "version": 3
   },
   "file_extension": ".py",
   "mimetype": "text/x-python",
   "name": "python",
   "nbconvert_exporter": "python",
   "pygments_lexer": "ipython3",
   "version": "3.7.3"
  }
 },
 "nbformat": 4,
 "nbformat_minor": 2
}
