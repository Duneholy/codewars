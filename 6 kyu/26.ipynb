{
 "cells": [
  {
   "cell_type": "code",
   "execution_count": 1,
   "metadata": {},
   "outputs": [],
   "source": [
    "# Your task is to construct a building which will be a pile of n cubes. \n",
    "# The cube at the bottom will have a volume of n^3, \n",
    "# the cube above will have volume of (n-1)^3 and so on until the top which will have a volume of 1^3.\n",
    "\n",
    "# You are given the total volume m of the building. \n",
    "# Being given m can you find the number n of cubes you will have to build?\n",
    "\n",
    "# The parameter of the function findNb (find_nb, find-nb, findNb) \n",
    "# will be an integer m and you have to return the integer n such \n",
    "# as n^3 + (n-1)^3 + ... + 1^3 = m if such a n exists or -1 if there is no such n.\n",
    "\n",
    "# Examples:\n",
    "# findNb(1071225) --> 45\n",
    "# findNb(91716553919377) --> -1\n",
    "# test.assert_equals(find_nb(4183059834009), 2022)\n",
    "# test.assert_equals(find_nb(24723578342962), -1)\n",
    "# test.assert_equals(find_nb(135440716410000), 4824)\n",
    "# test.assert_equals(find_nb(40539911473216), 3568)\n",
    "# test.assert_equals(find_nb(26825883955641), 3218)"
   ]
  },
  {
   "cell_type": "code",
   "execution_count": 26,
   "metadata": {},
   "outputs": [],
   "source": [
    "def find_nb(m):\n",
    "    n = 0\n",
    "    i = 0\n",
    "    while n < m:\n",
    "        n += i ** 3\n",
    "        if n == m:\n",
    "            return i\n",
    "        i += 1\n",
    "    return -1"
   ]
  },
  {
   "cell_type": "code",
   "execution_count": 27,
   "metadata": {},
   "outputs": [
    {
     "name": "stdout",
     "output_type": "stream",
     "text": [
      "2022\n"
     ]
    }
   ],
   "source": [
    "print (find_nb(4183059834009))"
   ]
  },
  {
   "cell_type": "code",
   "execution_count": null,
   "metadata": {},
   "outputs": [],
   "source": []
  }
 ],
 "metadata": {
  "kernelspec": {
   "display_name": "Python 3",
   "language": "python",
   "name": "python3"
  },
  "language_info": {
   "codemirror_mode": {
    "name": "ipython",
    "version": 3
   },
   "file_extension": ".py",
   "mimetype": "text/x-python",
   "name": "python",
   "nbconvert_exporter": "python",
   "pygments_lexer": "ipython3",
   "version": "3.7.3"
  }
 },
 "nbformat": 4,
 "nbformat_minor": 2
}
