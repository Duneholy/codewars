{
 "cells": [
  {
   "cell_type": "code",
   "execution_count": 1,
   "metadata": {},
   "outputs": [],
   "source": [
    "# A child is playing with a ball on the nth floor of a tall building. The height of this floor, h, is known.\n",
    "\n",
    "# He drops the ball out of the window. The ball bounces (for example), to two-thirds of its height (a bounce of 0.66).\n",
    "\n",
    "# His mother looks out of a window 1.5 meters from the ground.\n",
    "\n",
    "# How many times will the mother see the ball pass in front of her window (including when it's falling and bouncing?\n",
    "\n",
    "# Three conditions must be met for a valid experiment:\n",
    "# Float parameter \"h\" in meters must be greater than 0\n",
    "# Float parameter \"bounce\" must be greater than 0 and less than 1\n",
    "# Float parameter \"window\" must be less than h.\n",
    "# If all three conditions above are fulfilled, return a positive integer, otherwise return -1.\n",
    "\n",
    "# Note:\n",
    "# The ball can only be seen if the height of the rebounding ball is stricty greater than the window parameter."
   ]
  },
  {
   "cell_type": "code",
   "execution_count": null,
   "metadata": {},
   "outputs": [],
   "source": [
    "def bouncingBall(h, bounce, window):\n",
    "    count = 0\n",
    "    if 0<bounce<1 and h>window and h>0:\n",
    "        while h>window:\n",
    "            count += 1\n",
    "            h = h*bounce\n",
    "        return count*2-1\n",
    "    else:\n",
    "        return -1"
   ]
  }
 ],
 "metadata": {
  "kernelspec": {
   "display_name": "Python 3",
   "language": "python",
   "name": "python3"
  },
  "language_info": {
   "codemirror_mode": {
    "name": "ipython",
    "version": 3
   },
   "file_extension": ".py",
   "mimetype": "text/x-python",
   "name": "python",
   "nbconvert_exporter": "python",
   "pygments_lexer": "ipython3",
   "version": "3.7.3"
  }
 },
 "nbformat": 4,
 "nbformat_minor": 2
}
