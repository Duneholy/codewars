{
 "cells": [
  {
   "cell_type": "code",
   "execution_count": 1,
   "metadata": {},
   "outputs": [],
   "source": [
    "# You are given a list/array which contains only integers (positive and negative). \n",
    "# Your job is to sum only the numbers that are the same and consecutive. The result should be one list.\n",
    "\n",
    "# Extra credit if you solve it in one line. You can asume there is never an empty \n",
    "# list/array and there will always be an integer.\n",
    "\n",
    "# Same meaning: 1 == 1\n",
    "\n",
    "# 1 != -1\n",
    "\n",
    "# #Examples:\n",
    "\n",
    "# [1,4,4,4,0,4,3,3,1] # should return [1,12,0,4,6,1]\n",
    "\n",
    "# \"\"\"So as you can see sum of consecutives 1 is 1 \n",
    "# sum of 3 consecutives 4 is 12 \n",
    "# sum of 0... and sum of 2 \n",
    "# consecutives 3 is 6 ...\"\"\"\n",
    "\n",
    "# [1,1,7,7,3] # should return [2,14,3]\n",
    "# [-5,-5,7,7,12,0] # should return [-10,14,12,0]"
   ]
  },
  {
   "cell_type": "code",
   "execution_count": 2,
   "metadata": {},
   "outputs": [],
   "source": [
    "# Test.describe(\"Basic tests\")\n",
    "# Test.assert_equals(sum_consecutives([1,4,4,4,0,4,3,3,1]),[1,12,0,4,6,1], \"on list [1,4,4,0,4,3,3,1] you get \")\n",
    "# Test.assert_equals(sum_consecutives([1,1,7,7,3]),[2,14,3], \"on list [1,1,7,7,3] you get \")\n",
    "# Test.assert_equals(sum_consecutives([-5,-5,7,7,12,0]),[-10,14,12,0], \"on list [-5,-5,7,7,12,0] you get \")\n",
    "# Test.assert_equals(sum_consecutives([3,3,3,3,1]),[12, 1], \"on list [3,3,3,3,1] you get \" )"
   ]
  },
  {
   "cell_type": "code",
   "execution_count": 5,
   "metadata": {},
   "outputs": [],
   "source": [
    "def sum_consecutives(s):\n",
    "    res = [[s[0]]]\n",
    "    for i in s[1:]:\n",
    "        if res[-1][0] != i:\n",
    "            res.append([i])\n",
    "        else:\n",
    "            res[-1].append(i)\n",
    "    return [sum(i) for i in res]"
   ]
  },
  {
   "cell_type": "code",
   "execution_count": 6,
   "metadata": {},
   "outputs": [],
   "source": [
    "from itertools import groupby\n",
    "\n",
    "def sum_consecutives(s):\n",
    "    return [sum(group) for c, group in groupby(s)]"
   ]
  },
  {
   "cell_type": "code",
   "execution_count": 9,
   "metadata": {},
   "outputs": [
    {
     "data": {
      "text/plain": [
       "[12, 1]"
      ]
     },
     "execution_count": 9,
     "metadata": {},
     "output_type": "execute_result"
    }
   ],
   "source": [
    "s = [3,3,3,3,1]\n",
    "[sum(group) for c, group in groupby(s)]"
   ]
  },
  {
   "cell_type": "code",
   "execution_count": null,
   "metadata": {},
   "outputs": [],
   "source": []
  }
 ],
 "metadata": {
  "kernelspec": {
   "display_name": "Python 3",
   "language": "python",
   "name": "python3"
  },
  "language_info": {
   "codemirror_mode": {
    "name": "ipython",
    "version": 3
   },
   "file_extension": ".py",
   "mimetype": "text/x-python",
   "name": "python",
   "nbconvert_exporter": "python",
   "pygments_lexer": "ipython3",
   "version": "3.7.3"
  }
 },
 "nbformat": 4,
 "nbformat_minor": 2
}
