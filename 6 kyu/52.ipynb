{
 "cells": [
  {
   "cell_type": "code",
   "execution_count": null,
   "metadata": {},
   "outputs": [],
   "source": [
    "#https://www.codewars.com/kata/help-the-bookseller/train/python"
   ]
  },
  {
   "cell_type": "code",
   "execution_count": 110,
   "metadata": {},
   "outputs": [],
   "source": [
    "def stock_list(listOfArt, listOfCat):\n",
    "    if len(listOfArt)==0 or len(listOfCat)==0:\n",
    "        return \"\" \n",
    "    else:\n",
    "        d = dict.fromkeys(listOfCat,0)\n",
    "        for i in listOfArt:\n",
    "            if i[0] in d:\n",
    "                dig = ''\n",
    "                for num in i:\n",
    "                    if num.isdigit():\n",
    "                        dig += num\n",
    "                d[i[0]]+=int(dig)\n",
    "                dig = ''\n",
    "    return d"
   ]
  },
  {
   "cell_type": "code",
   "execution_count": 180,
   "metadata": {},
   "outputs": [
    {
     "data": {
      "text/plain": [
       "'(A : 200) - (B : 1140)'"
      ]
     },
     "execution_count": 180,
     "metadata": {},
     "output_type": "execute_result"
    }
   ],
   "source": [
    "b = [\"ABAR 200\", \"CDXE 500\", \"BKWR 250\", \"BTSQ 890\", \"DRTY 600\"]\n",
    "c = [\"A\", \"B\"]\n",
    "stock_list(b, c)\n",
    "#решил через словарь, но ответ нужен был в строке и отсторт по listofcat, поэтому -"
   ]
  },
  {
   "cell_type": "code",
   "execution_count": 181,
   "metadata": {},
   "outputs": [],
   "source": [
    "def stock_list(listOfArt, listOfCat):\n",
    "    if len(listOfArt)==0 or len(listOfCat)==0:\n",
    "        return \"\" \n",
    "    else:\n",
    "        d = dict.fromkeys(listOfCat,0)\n",
    "        for i in listOfArt:\n",
    "            if i[0] in d:\n",
    "                dig = ''\n",
    "                for num in i:\n",
    "                    if num.isdigit():\n",
    "                        dig += num\n",
    "                d[i[0]]+=int(dig)\n",
    "                dig = ''\n",
    "        res = []\n",
    "        for k, v in d.items():\n",
    "            res.append('('+k+' : '+str(v)+')')\n",
    "        answer = ''\n",
    "        for i in listOfCat:\n",
    "            for a in res:\n",
    "                if a[1]==i:\n",
    "                    answer+=a+' - '\n",
    "        return answer[:-3]"
   ]
  },
  {
   "cell_type": "code",
   "execution_count": 182,
   "metadata": {},
   "outputs": [
    {
     "data": {
      "text/plain": [
       "'(A : 200) - (B : 1140)'"
      ]
     },
     "execution_count": 182,
     "metadata": {},
     "output_type": "execute_result"
    }
   ],
   "source": [
    "b = [\"ABAR 200\", \"CDXE 500\", \"BKWR 250\", \"BTSQ 890\", \"DRTY 600\"]\n",
    "c = [\"A\", \"B\"]\n",
    "stock_list(b, c)"
   ]
  },
  {
   "cell_type": "code",
   "execution_count": null,
   "metadata": {},
   "outputs": [],
   "source": [
    "#два решения с кв:"
   ]
  },
  {
   "cell_type": "code",
   "execution_count": 183,
   "metadata": {},
   "outputs": [],
   "source": [
    "def stock_list(stocklist, categories):\n",
    "    if not stocklist or not categories:\n",
    "        return \"\"\n",
    "    return \" - \".join(         #тут все ясно\n",
    "        \"({} : {})\".format(    #создает формат тупла\n",
    "            category,\n",
    "            sum(int(item.split()[1])   #передает в формат букву из 2 списка и сумму  !! самое главное что я упустил -\n",
    "                #это можно было разделить пары сплитом и брать число из 2 элемента списка\n",
    "            for item in stocklist if item[0] == category))  #перебирает весь первый список\n",
    "        for category in categories)   #перебирает по порядку 2 список как и у меня\n"
   ]
  },
  {
   "cell_type": "code",
   "execution_count": null,
   "metadata": {},
   "outputs": [],
   "source": [
    "from collections import Counter\n",
    "\n",
    "def stock_list(listOfArt, listOfCat):\n",
    "    if not listOfArt:\n",
    "        return ''\n",
    "    codePos = listOfArt[0].index(' ') + 1\n",
    "    cnt = Counter()\n",
    "    for s in listOfArt:\n",
    "        cnt[s[0]] += int(s[codePos:])\n",
    "    return ' - '.join('({} : {})'.format(cat, cnt[cat]) for cat in listOfCat)"
   ]
  }
 ],
 "metadata": {
  "kernelspec": {
   "display_name": "Python 3",
   "language": "python",
   "name": "python3"
  },
  "language_info": {
   "codemirror_mode": {
    "name": "ipython",
    "version": 3
   },
   "file_extension": ".py",
   "mimetype": "text/x-python",
   "name": "python",
   "nbconvert_exporter": "python",
   "pygments_lexer": "ipython3",
   "version": "3.7.3"
  }
 },
 "nbformat": 4,
 "nbformat_minor": 2
}
