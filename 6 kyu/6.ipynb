{
 "cells": [
  {
   "cell_type": "code",
   "execution_count": 1,
   "metadata": {},
   "outputs": [],
   "source": [
    "#You are given an array (which will have a length of at least 3, but could be very large) containing integers. \n",
    "#The array is either entirely comprised of odd integers or entirely comprised of even integers \n",
    "#except for a single integer N. Write a method that takes the array as an argument and returns this \"outlier\" N.\n",
    "\n",
    "#Examples\n",
    "#[2, 4, 0, 100, 4, 11, 2602, 36]\n",
    "#Should return: 11 (the only odd number)\n",
    "\n",
    "#[160, 3, 1719, 19, 11, 13, -21]\n",
    "#Should return: 160 (the only even number)"
   ]
  },
  {
   "cell_type": "code",
   "execution_count": 8,
   "metadata": {},
   "outputs": [],
   "source": [
    "def find_outlier(integers):\n",
    "    a = [i for i in integers if i%2==0]\n",
    "    return a[0] if len(a)==1 else [i for i in integers if i%2!=0][0]"
   ]
  },
  {
   "cell_type": "code",
   "execution_count": 10,
   "metadata": {},
   "outputs": [
    {
     "name": "stdout",
     "output_type": "stream",
     "text": [
      "160\n"
     ]
    }
   ],
   "source": [
    "print (find_outlier([160, 3, 1719, 19, 11, 13, -21]))"
   ]
  },
  {
   "cell_type": "code",
   "execution_count": null,
   "metadata": {},
   "outputs": [],
   "source": [
    "def find_outlier(int):\n",
    "    odds = [x for x in int if x%2!=0]\n",
    "    evens= [x for x in int if x%2==0]\n",
    "    return odds[0] if len(odds)<len(evens) else evens[0]\n",
    "#с кв, покрасивее будет"
   ]
  }
 ],
 "metadata": {
  "kernelspec": {
   "display_name": "Python 3",
   "language": "python",
   "name": "python3"
  },
  "language_info": {
   "codemirror_mode": {
    "name": "ipython",
    "version": 3
   },
   "file_extension": ".py",
   "mimetype": "text/x-python",
   "name": "python",
   "nbconvert_exporter": "python",
   "pygments_lexer": "ipython3",
   "version": "3.7.3"
  }
 },
 "nbformat": 4,
 "nbformat_minor": 2
}
