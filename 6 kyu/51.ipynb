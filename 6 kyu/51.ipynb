{
 "cells": [
  {
   "cell_type": "code",
   "execution_count": 43,
   "metadata": {},
   "outputs": [],
   "source": [
    "# Write a function that accepts a string, and returns true if it is in the form of a phone number. \n",
    "# Assume that any integer from 0-9 in any of the spots will produce a valid phone number.\n",
    "\n",
    "# Only worry about the following format:\n",
    "# (123) 456-7890 (don't forget the space after the close parentheses) "
   ]
  },
  {
   "cell_type": "code",
   "execution_count": 44,
   "metadata": {},
   "outputs": [],
   "source": [
    "import re\n",
    "def validPhoneNumber(phone_nuber):\n",
    "    pattern = re.compile('^[(][\\d]{3}[)][ ][\\d]{3}[-][\\d]{4}$')\n",
    "    return pattern.match(phone_nuber) is not None"
   ]
  },
  {
   "cell_type": "code",
   "execution_count": 45,
   "metadata": {},
   "outputs": [
    {
     "name": "stdout",
     "output_type": "stream",
     "text": [
      "True\n"
     ]
    }
   ],
   "source": [
    "print (validPhoneNumber('(123) 456-7890'))"
   ]
  },
  {
   "cell_type": "code",
   "execution_count": null,
   "metadata": {},
   "outputs": [],
   "source": []
  }
 ],
 "metadata": {
  "kernelspec": {
   "display_name": "Python 3",
   "language": "python",
   "name": "python3"
  },
  "language_info": {
   "codemirror_mode": {
    "name": "ipython",
    "version": 3
   },
   "file_extension": ".py",
   "mimetype": "text/x-python",
   "name": "python",
   "nbconvert_exporter": "python",
   "pygments_lexer": "ipython3",
   "version": "3.7.3"
  }
 },
 "nbformat": 4,
 "nbformat_minor": 2
}
