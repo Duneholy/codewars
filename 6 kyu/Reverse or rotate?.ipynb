{
 "cells": [
  {
   "cell_type": "code",
   "execution_count": 1,
   "metadata": {},
   "outputs": [],
   "source": [
    "# https://www.codewars.com/kata/56b5afb4ed1f6d5fb0000991"
   ]
  },
  {
   "cell_type": "code",
   "execution_count": 2,
   "metadata": {},
   "outputs": [],
   "source": [
    "def revrot(strng, sz):\n",
    "    if sz <= 0 or strng == '' or sz > len(strng):\n",
    "        return ''\n",
    "    res = ''\n",
    "    for i in range(len(strng)//sz):\n",
    "        print(strng[:sz])\n",
    "        tst = 0\n",
    "        for dig in strng[:sz]:\n",
    "            tst += int(dig)**3\n",
    "        if tst % 2 == 0:\n",
    "            res += strng[:sz][::-1]\n",
    "        else:\n",
    "            res += strng[1:sz]+strng[0]\n",
    "        strng = strng[sz:]\n",
    "    return res"
   ]
  },
  {
   "cell_type": "code",
   "execution_count": null,
   "metadata": {},
   "outputs": [],
   "source": []
  }
 ],
 "metadata": {
  "kernelspec": {
   "display_name": "Python 3",
   "language": "python",
   "name": "python3"
  },
  "language_info": {
   "codemirror_mode": {
    "name": "ipython",
    "version": 3
   },
   "file_extension": ".py",
   "mimetype": "text/x-python",
   "name": "python",
   "nbconvert_exporter": "python",
   "pygments_lexer": "ipython3",
   "version": "3.7.3"
  }
 },
 "nbformat": 4,
 "nbformat_minor": 2
}
