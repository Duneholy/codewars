{
 "cells": [
  {
   "cell_type": "code",
   "execution_count": null,
   "metadata": {},
   "outputs": [],
   "source": [
    "# Write Number in Expanded Form\n",
    "# You will be given a number and you will need to return it as a string in Expanded Form. For example:\n",
    "\n",
    "# expanded_form(12) # Should return '10 + 2'\n",
    "# expanded_form(42) # Should return '40 + 2'\n",
    "# expanded_form(70304) # Should return '70000 + 300 + 4'"
   ]
  },
  {
   "cell_type": "code",
   "execution_count": 1,
   "metadata": {},
   "outputs": [],
   "source": [
    "def expanded_form(num):\n",
    "    res = []\n",
    "    l = len(str(num))-1\n",
    "    for i in str(num):\n",
    "        res.append (i+'0'*l)\n",
    "        l -= 1\n",
    "    return ' + '.join(i for i in res if i.count('0')!=len(i))"
   ]
  }
 ],
 "metadata": {
  "kernelspec": {
   "display_name": "Python 3",
   "language": "python",
   "name": "python3"
  },
  "language_info": {
   "codemirror_mode": {
    "name": "ipython",
    "version": 3
   },
   "file_extension": ".py",
   "mimetype": "text/x-python",
   "name": "python",
   "nbconvert_exporter": "python",
   "pygments_lexer": "ipython3",
   "version": "3.7.3"
  }
 },
 "nbformat": 4,
 "nbformat_minor": 2
}
