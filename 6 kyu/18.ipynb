{
 "cells": [
  {
   "cell_type": "code",
   "execution_count": null,
   "metadata": {},
   "outputs": [],
   "source": [
    "# Bob is preparing to pass IQ test. The most frequent task in this test is to \n",
    "# find out which one of the given numbers differs from the others. \n",
    "# Bob observed that one number usually differs from the others in evenness. \n",
    "# Help Bob — to check his answers, he needs a program that among the given numbers finds one that \n",
    "# is different in evenness, and return a position of this number.\n",
    "\n",
    "# ! Keep in mind that your task is to help Bob solve a real IQ test, \n",
    "# which means indexes of the elements start from 1 (not 0)\n",
    "\n",
    "# ##Examples :\n",
    "\n",
    "# iq_test(\"2 4 7 8 10\") => 3 // Third number is odd, while the rest of the numbers are even\n",
    "\n",
    "# iq_test(\"1 2 1 1\") => 2 // Second number is even, while the rest of the "
   ]
  },
  {
   "cell_type": "code",
   "execution_count": 51,
   "metadata": {},
   "outputs": [],
   "source": [
    "def iq_test(numbers):\n",
    "    base = numbers.split()\n",
    "    a = [i for i in base if int(i)%2==0]\n",
    "    b = [i for i in base if int(i)%2!=0]\n",
    "    return base.index(a[0])+1 if len(a)<len(b) else base.index(b[0])+1"
   ]
  },
  {
   "cell_type": "code",
   "execution_count": 53,
   "metadata": {},
   "outputs": [
    {
     "name": "stdout",
     "output_type": "stream",
     "text": [
      "3\n"
     ]
    }
   ],
   "source": [
    "print (iq_test(\"2 4 7 8 10\"))"
   ]
  },
  {
   "cell_type": "code",
   "execution_count": null,
   "metadata": {},
   "outputs": [],
   "source": []
  }
 ],
 "metadata": {
  "kernelspec": {
   "display_name": "Python 3",
   "language": "python",
   "name": "python3"
  },
  "language_info": {
   "codemirror_mode": {
    "name": "ipython",
    "version": 3
   },
   "file_extension": ".py",
   "mimetype": "text/x-python",
   "name": "python",
   "nbconvert_exporter": "python",
   "pygments_lexer": "ipython3",
   "version": "3.7.3"
  }
 },
 "nbformat": 4,
 "nbformat_minor": 2
}
