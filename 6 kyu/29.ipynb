{
 "cells": [
  {
   "cell_type": "code",
   "execution_count": 106,
   "metadata": {},
   "outputs": [],
   "source": [
    "def tickets(people):\n",
    "    bank = 0\n",
    "    x = len(people)\n",
    "    for a,i in enumerate(people):\n",
    "        bank += i\n",
    "        bank -= (i-25)\n",
    "        if a==len(people)-1 and bank-i>=0:\n",
    "            print (bank)\n",
    "            return 'YES'"
   ]
  },
  {
   "cell_type": "code",
   "execution_count": 113,
   "metadata": {},
   "outputs": [
    {
     "name": "stdout",
     "output_type": "stream",
     "text": [
      "100\n",
      "YES\n"
     ]
    }
   ],
   "source": [
    "print (tickets([25,25,25,50]))"
   ]
  },
  {
   "cell_type": "code",
   "execution_count": 114,
   "metadata": {},
   "outputs": [],
   "source": [
    "def tickets(people):\n",
    "    b = 0\n",
    "    c = 0\n",
    "    for a in people:\n",
    "        if a == 25:\n",
    "            b = b + 1\n",
    "        elif a == 50:\n",
    "            c = c + 1\n",
    "            b = b - 1\n",
    "        elif a == 100:\n",
    "            if c >= 1:\n",
    "                c = c - 1\n",
    "                b = b - 1\n",
    "            else:\n",
    "                b = b - 3\n",
    "        if (b < 0) or (c < 0):\n",
    "            return \"NO\"\n",
    "    return \"YES\""
   ]
  },
  {
   "cell_type": "code",
   "execution_count": null,
   "metadata": {},
   "outputs": [],
   "source": []
  }
 ],
 "metadata": {
  "kernelspec": {
   "display_name": "Python 3",
   "language": "python",
   "name": "python3"
  },
  "language_info": {
   "codemirror_mode": {
    "name": "ipython",
    "version": 3
   },
   "file_extension": ".py",
   "mimetype": "text/x-python",
   "name": "python",
   "nbconvert_exporter": "python",
   "pygments_lexer": "ipython3",
   "version": "3.7.3"
  }
 },
 "nbformat": 4,
 "nbformat_minor": 2
}
