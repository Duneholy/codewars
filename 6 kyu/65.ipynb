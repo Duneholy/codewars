{
 "cells": [
  {
   "cell_type": "code",
   "execution_count": 1,
   "metadata": {},
   "outputs": [],
   "source": [
    "# https://www.codewars.com/kata/dashatize-it/train/python"
   ]
  },
  {
   "cell_type": "code",
   "execution_count": 2,
   "metadata": {},
   "outputs": [],
   "source": [
    "# test.describe('Basic')\n",
    "# test.assert_equals(dashatize(274),\"2-7-4\", \"Should return 2-7-4\")\n",
    "# test.assert_equals(dashatize(5311),\"5-3-1-1\", \"Should return 5-3-1-1\")\n",
    "# test.assert_equals(dashatize(86320),\"86-3-20\", \"Should return 86-3-20\")\n",
    "# test.assert_equals(dashatize(974302),\"9-7-4-3-02\", \"Should return 9-7-4-3-02\")\n",
    "# test.describe('Weird')\n",
    "# test.assert_equals(dashatize(None),\"None\", \"Should return None\");\n",
    "# test.assert_equals(dashatize(0),\"0\", \"Should return 0\");\n",
    "# test.assert_equals(dashatize(-1),\"1\", \"Should return 1\");\n",
    "# test.assert_equals(dashatize(-28369),\"28-3-6-9\", \"Should return 28-3-6-9\");"
   ]
  },
  {
   "cell_type": "code",
   "execution_count": 34,
   "metadata": {},
   "outputs": [],
   "source": [
    "def dashatize(num):\n",
    "    if num is None:\n",
    "        return 'None'\n",
    "    res = ''\n",
    "    for i in str(abs(num)):\n",
    "        if int(i) % 2 != 0:\n",
    "            res += '-%s-' % i\n",
    "        else:\n",
    "            res += i\n",
    "    return res.replace('--','-').strip('-')"
   ]
  },
  {
   "cell_type": "code",
   "execution_count": 35,
   "metadata": {},
   "outputs": [],
   "source": [
    "dashatize(None)"
   ]
  },
  {
   "cell_type": "code",
   "execution_count": null,
   "metadata": {},
   "outputs": [],
   "source": []
  }
 ],
 "metadata": {
  "kernelspec": {
   "display_name": "Python 3",
   "language": "python",
   "name": "python3"
  },
  "language_info": {
   "codemirror_mode": {
    "name": "ipython",
    "version": 3
   },
   "file_extension": ".py",
   "mimetype": "text/x-python",
   "name": "python",
   "nbconvert_exporter": "python",
   "pygments_lexer": "ipython3",
   "version": "3.7.3"
  }
 },
 "nbformat": 4,
 "nbformat_minor": 2
}
