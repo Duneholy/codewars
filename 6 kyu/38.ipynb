{
 "cells": [
  {
   "cell_type": "code",
   "execution_count": null,
   "metadata": {},
   "outputs": [],
   "source": [
    "# The number 89 is the first integer with more than one digit that fulfills the \n",
    "# property partially introduced in the title of this kata. What's the use \n",
    "# of saying \"Eureka\"? Because this sum gives the same number.\n",
    "\n",
    "# In effect: 89 = 8^1 + 9^2\n",
    "\n",
    "# The next number in having this property is 135.\n",
    "\n",
    "# See this property again: 135 = 1^1 + 3^2 + 5^3\n",
    "\n",
    "# We need a function to collect these numbers, that may receive two integers \n",
    "# a, b that defines the range [a, b] (inclusive) and outputs a list of \n",
    "# the sorted numbers in the range that fulfills the property described above.\n",
    "\n",
    "# Let's see some cases:\n",
    "\n",
    "# sum_dig_pow(1, 10) == [1, 2, 3, 4, 5, 6, 7, 8, 9]\n",
    "\n",
    "# sum_dig_pow(1, 100) == [1, 2, 3, 4, 5, 6, 7, 8, 9, 89]"
   ]
  },
  {
   "cell_type": "code",
   "execution_count": 3,
   "metadata": {},
   "outputs": [],
   "source": [
    "def sum_dig_pow(a, b): # range(a, b + 1) will be studied by the function\n",
    "    res = []\n",
    "    for i in range (a,b+1):\n",
    "        n = 0\n",
    "        for a,b in enumerate(str(i)):\n",
    "            n += int(b)**(a+1)\n",
    "        if n==i:\n",
    "            res.append(n)\n",
    "            n = 0\n",
    "    return res"
   ]
  },
  {
   "cell_type": "code",
   "execution_count": 4,
   "metadata": {},
   "outputs": [],
   "source": [
    "def filter_func(a):\n",
    "    return sum(int(d) ** (i+1) for i, d in enumerate(str(a))) == a\n",
    "\n",
    "def sum_dig_pow(a, b):\n",
    "    return filter(filter_func, range(a, b+1))"
   ]
  },
  {
   "cell_type": "code",
   "execution_count": 5,
   "metadata": {},
   "outputs": [],
   "source": [
    "#второй вариант с решений кв покрасивее, но мой вариант мне кажется понятнее + работает быстрее"
   ]
  },
  {
   "cell_type": "code",
   "execution_count": null,
   "metadata": {},
   "outputs": [],
   "source": []
  }
 ],
 "metadata": {
  "kernelspec": {
   "display_name": "Python 3",
   "language": "python",
   "name": "python3"
  },
  "language_info": {
   "codemirror_mode": {
    "name": "ipython",
    "version": 3
   },
   "file_extension": ".py",
   "mimetype": "text/x-python",
   "name": "python",
   "nbconvert_exporter": "python",
   "pygments_lexer": "ipython3",
   "version": "3.7.3"
  }
 },
 "nbformat": 4,
 "nbformat_minor": 2
}
