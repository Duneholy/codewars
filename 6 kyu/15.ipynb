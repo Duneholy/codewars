{
 "cells": [
  {
   "cell_type": "code",
   "execution_count": 1,
   "metadata": {},
   "outputs": [],
   "source": [
    "#Implement the function unique_in_order which takes as argument a sequence \n",
    "#and returns a list of items without any elements with the same value \n",
    "#next to each other and preserving the original order of elements.\n",
    "\n",
    "#For example:\n",
    "\n",
    "#unique_in_order('AAAABBBCCDAABBB') == ['A', 'B', 'C', 'D', 'A', 'B']\n",
    "#unique_in_order('ABBCcAD')         == ['A', 'B', 'C', 'c', 'A', 'D']\n",
    "#unique_in_order([1,2,2,3,3])       == [1,2,3]"
   ]
  },
  {
   "cell_type": "code",
   "execution_count": 27,
   "metadata": {},
   "outputs": [],
   "source": [
    "def unique_in_order(iterable):\n",
    "    res = []\n",
    "    for i in iterable:\n",
    "        res.append(i)\n",
    "        if len(res)>1 and res[-1]==res[-2]:\n",
    "            res.pop(-1)\n",
    "    return res"
   ]
  },
  {
   "cell_type": "code",
   "execution_count": 28,
   "metadata": {},
   "outputs": [
    {
     "name": "stdout",
     "output_type": "stream",
     "text": [
      "['A', 'B', 'C', 'D', 'A', 'B']\n"
     ]
    }
   ],
   "source": [
    "print (unique_in_order('AAAABBBCCDAABBB'))"
   ]
  },
  {
   "cell_type": "code",
   "execution_count": 29,
   "metadata": {},
   "outputs": [],
   "source": [
    "from itertools import groupby\n",
    "\n",
    "def unique_in_order(iterable):\n",
    "    return [k for (k, _) in groupby(iterable)]\n",
    "#решение с кв, изучить этот модуль"
   ]
  },
  {
   "cell_type": "code",
   "execution_count": null,
   "metadata": {},
   "outputs": [],
   "source": []
  }
 ],
 "metadata": {
  "kernelspec": {
   "display_name": "Python 3",
   "language": "python",
   "name": "python3"
  },
  "language_info": {
   "codemirror_mode": {
    "name": "ipython",
    "version": 3
   },
   "file_extension": ".py",
   "mimetype": "text/x-python",
   "name": "python",
   "nbconvert_exporter": "python",
   "pygments_lexer": "ipython3",
   "version": "3.7.3"
  }
 },
 "nbformat": 4,
 "nbformat_minor": 2
}
