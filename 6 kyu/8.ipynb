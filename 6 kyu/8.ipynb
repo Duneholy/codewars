{
 "cells": [
  {
   "cell_type": "code",
   "execution_count": 1,
   "metadata": {},
   "outputs": [],
   "source": [
    "#Write a function, persistence, that takes in a positive parameter num and returns its multiplicative persistence, \n",
    "#which is the number of times you must multiply the digits in num until you reach a single digit.\n",
    "\n",
    "#For example:\n",
    "\n",
    " #persistence(39) => 3  # Because 3*9 = 27, 2*7 = 14, 1*4=4\n",
    "                       # and 4 has only one digit.\n",
    "\n",
    " #persistence(999) => 4 # Because 9*9*9 = 729, 7*2*9 = 126,\n",
    "                       # 1*2*6 = 12, and finally 1*2 = 2.\n",
    "\n",
    " #persistence(4) => 0   # Because 4 is already a one-digit number."
   ]
  },
  {
   "cell_type": "code",
   "execution_count": 37,
   "metadata": {},
   "outputs": [],
   "source": [
    "import numpy\n",
    "def persistence(n):\n",
    "    cycles = 0\n",
    "    while n>9:\n",
    "        n = numpy.prod(list(int(i) for i in str(n)))\n",
    "        cycles += 1\n",
    "    return cycles"
   ]
  },
  {
   "cell_type": "code",
   "execution_count": 39,
   "metadata": {},
   "outputs": [
    {
     "name": "stdout",
     "output_type": "stream",
     "text": [
      "3\n"
     ]
    }
   ],
   "source": [
    "print (persistence(39))\n",
    "#а вот это мое решение оказалось самым красивым на кв, найс"
   ]
  },
  {
   "cell_type": "code",
   "execution_count": null,
   "metadata": {},
   "outputs": [],
   "source": []
  }
 ],
 "metadata": {
  "kernelspec": {
   "display_name": "Python 3",
   "language": "python",
   "name": "python3"
  },
  "language_info": {
   "codemirror_mode": {
    "name": "ipython",
    "version": 3
   },
   "file_extension": ".py",
   "mimetype": "text/x-python",
   "name": "python",
   "nbconvert_exporter": "python",
   "pygments_lexer": "ipython3",
   "version": "3.7.3"
  }
 },
 "nbformat": 4,
 "nbformat_minor": 2
}
