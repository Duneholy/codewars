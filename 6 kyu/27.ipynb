{
 "cells": [
  {
   "cell_type": "code",
   "execution_count": 1,
   "metadata": {},
   "outputs": [],
   "source": [
    "# Well met with Fibonacci bigger brother, AKA Tribonacci.\n",
    "\n",
    "# As the name may already reveal, it works basically like a Fibonacci, \n",
    "# but summing the last 3 (instead of 2) numbers of the sequence to generate the next. \n",
    "# And, worse part of it, regrettably I won't get to hear non-native Italian speakers trying to pronounce it :(\n",
    "\n",
    "# So, if we are to start our Tribonacci sequence with [1, 1, 1] \n",
    "# as a starting input (AKA signature), we have this sequence:\n",
    "\n",
    "# [1, 1 ,1, 3, 5, 9, 17, 31, ...]\n",
    "# Test.assert_equals(tribonacci([0, 1, 1], 10), [0, 1, 1, 2, 4, 7, 13, 24, 44, 81])\n",
    "# Test.assert_equals(tribonacci([1, 0, 0], 10), [1, 0, 0, 1, 1, 2, 4, 7, 13, 24])\n",
    "# Test.assert_equals(tribonacci([0, 0, 0], 10), [0, 0, 0, 0, 0, 0, 0, 0, 0, 0])\n",
    "# Test.assert_equals(tribonacci([1, 2, 3], 10), [1, 2, 3, 6, 11, 20, 37, 68, 125, 230])\n",
    "# Test.assert_equals(tribonacci([3, 2, 1], 10), [3, 2, 1, 6, 9, 16, 31, 56, 103, 190])\n",
    "# Test.assert_equals(tribonacci([1, 1, 1], 1), [1])"
   ]
  },
  {
   "cell_type": "code",
   "execution_count": 2,
   "metadata": {},
   "outputs": [],
   "source": [
    "def tribonacci(signature, n):\n",
    "    if n==0:\n",
    "        return []\n",
    "    elif len(signature)>n:\n",
    "        return [signature[n-1]]\n",
    "    else:\n",
    "        while len(signature)<n:\n",
    "            signature.append(signature[-1]+signature[-2]+signature[-3])\n",
    "        return signature"
   ]
  },
  {
   "cell_type": "code",
   "execution_count": 3,
   "metadata": {},
   "outputs": [],
   "source": [
    "def tribonacci(signature, n):\n",
    "    res = signature[:n]\n",
    "    for i in range(n - 3): res.append(sum(res[-3:]))\n",
    "    return res\n",
    "#решение с кв"
   ]
  },
  {
   "cell_type": "code",
   "execution_count": null,
   "metadata": {},
   "outputs": [],
   "source": []
  }
 ],
 "metadata": {
  "kernelspec": {
   "display_name": "Python 3",
   "language": "python",
   "name": "python3"
  },
  "language_info": {
   "codemirror_mode": {
    "name": "ipython",
    "version": 3
   },
   "file_extension": ".py",
   "mimetype": "text/x-python",
   "name": "python",
   "nbconvert_exporter": "python",
   "pygments_lexer": "ipython3",
   "version": "3.7.3"
  }
 },
 "nbformat": 4,
 "nbformat_minor": 2
}
