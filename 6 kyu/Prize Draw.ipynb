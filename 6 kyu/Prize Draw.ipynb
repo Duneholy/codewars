{
 "cells": [
  {
   "cell_type": "code",
   "execution_count": 1,
   "metadata": {},
   "outputs": [],
   "source": [
    "# https://www.codewars.com/kata/prize-draw/train/python"
   ]
  },
  {
   "cell_type": "code",
   "execution_count": 66,
   "metadata": {},
   "outputs": [],
   "source": [
    "def rank(st, we, n):\n",
    "    if st == '':\n",
    "        return \"No participants\"\n",
    "    if len(we) < n:\n",
    "        return \"Not enough participants\"\n",
    "    st = st.split(',')\n",
    "    res = []\n",
    "    for i in st:\n",
    "        sm = 0\n",
    "        for alph in i:\n",
    "            sm += ord(alph.upper())-64\n",
    "        res.append((sm+len(i))*we[st.index(i)])\n",
    "\n",
    "    a = list(zip(res, st))\n",
    "    return sorted(sorted(a, key=lambda x: x[1]),\n",
    "                  key=lambda x: x[0], reverse=True)[n-1][1]"
   ]
  },
  {
   "cell_type": "code",
   "execution_count": 67,
   "metadata": {},
   "outputs": [
    {
     "data": {
      "text/plain": [
       "'Matthew'"
      ]
     },
     "execution_count": 67,
     "metadata": {},
     "output_type": "execute_result"
    }
   ],
   "source": [
    "rank('Elijah,Chloe,Elizabeth,Matthew,Natalie,Jayden' , [1, 3, 5, 5, 3, 6], 2)\n",
    "# matt"
   ]
  },
  {
   "cell_type": "code",
   "execution_count": null,
   "metadata": {},
   "outputs": [],
   "source": []
  }
 ],
 "metadata": {
  "kernelspec": {
   "display_name": "Python 3",
   "language": "python",
   "name": "python3"
  },
  "language_info": {
   "codemirror_mode": {
    "name": "ipython",
    "version": 3
   },
   "file_extension": ".py",
   "mimetype": "text/x-python",
   "name": "python",
   "nbconvert_exporter": "python",
   "pygments_lexer": "ipython3",
   "version": "3.7.3"
  }
 },
 "nbformat": 4,
 "nbformat_minor": 2
}
