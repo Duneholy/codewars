{
 "cells": [
  {
   "cell_type": "code",
   "execution_count": null,
   "metadata": {},
   "outputs": [],
   "source": [
    "# For building the encrypted string:\n",
    "# Take every 2nd char from the string, then the other chars, that are not every 2nd char, \n",
    "# and concat them as new String.\n",
    "# Do this n times!\n",
    "\n",
    "# Examples:\n",
    "\n",
    "# \"This is a test!\", 1 -> \"hsi  etTi sats!\"\n",
    "# \"This is a test!\", 2 -> \"hsi  etTi sats!\" -> \"s eT ashi tist!\"\n",
    "# Write two methods:\n",
    "\n",
    "# def encrypt(text, n)\n",
    "# def decrypt(encrypted_text, n)"
   ]
  },
  {
   "cell_type": "code",
   "execution_count": 127,
   "metadata": {},
   "outputs": [],
   "source": [
    "def encrypt(text, n):\n",
    "    if n>0:\n",
    "        for i in range(n):\n",
    "            text = text[1::2]+text[::2]\n",
    "        return text\n",
    "    else:\n",
    "        return text\n",
    "        \n",
    "def decrypt(s,n):\n",
    "        for k in range(n):\n",
    "            res = ''\n",
    "            for i in range (len(s)//2):\n",
    "                res+=s[len(s)//2:][i]\n",
    "                res+=s[:len(s)//2][i]\n",
    "            if len(s)%2!=0:\n",
    "                s = res + s[-1]\n",
    "            else:\n",
    "                s = res\n",
    "        return s"
   ]
  },
  {
   "cell_type": "code",
   "execution_count": null,
   "metadata": {},
   "outputs": [],
   "source": [
    "#решение с кв\n",
    "def decrypt(text, n):\n",
    "    if text in (\"\", None):\n",
    "        return text\n",
    "    \n",
    "    ndx = len(text) // 2\n",
    "\n",
    "    for i in range(n):\n",
    "        a = text[:ndx]\n",
    "        b = text[ndx:]\n",
    "        text = \"\".join(b[i:i+1] + a[i:i+1] for i in range(ndx + 1))\n",
    "    return text\n",
    "\n",
    "\n",
    "\n",
    "def encrypt(text, n):\n",
    "    for i in range(n):\n",
    "        text = text[1::2] + text[::2]\n",
    "    return text"
   ]
  }
 ],
 "metadata": {
  "kernelspec": {
   "display_name": "Python 3",
   "language": "python",
   "name": "python3"
  },
  "language_info": {
   "codemirror_mode": {
    "name": "ipython",
    "version": 3
   },
   "file_extension": ".py",
   "mimetype": "text/x-python",
   "name": "python",
   "nbconvert_exporter": "python",
   "pygments_lexer": "ipython3",
   "version": "3.7.3"
  }
 },
 "nbformat": 4,
 "nbformat_minor": 2
}
