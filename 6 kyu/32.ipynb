{
 "cells": [
  {
   "cell_type": "code",
   "execution_count": 1,
   "metadata": {},
   "outputs": [],
   "source": [
    "# Build Tower\n",
    "# Build Tower by the following given argument:\n",
    "# number of floors (integer and always greater than 0).\n",
    "\n",
    "# Tower block is represented as *\n",
    "\n",
    "# Python: return a list;\n",
    "# JavaScript: returns an Array;\n",
    "# C#: returns a string[];\n",
    "# PHP: returns an array;\n",
    "# C++: returns a vector<string>;\n",
    "# Haskell: returns a [String];\n",
    "# Ruby: returns an Array;\n",
    "# Have fun!\n",
    "\n",
    "# for example, a tower of 3 floors looks like below\n",
    "\n",
    "# [\n",
    "#   '  *  ', \n",
    "#   ' *** ', \n",
    "#   '*****'\n",
    "# ]\n",
    "# and a tower of 6 floors looks like below\n",
    "\n",
    "# [\n",
    "#   '     *     ', \n",
    "#   '    ***    ', \n",
    "#   '   *****   ', \n",
    "#   '  *******  ', \n",
    "#   ' ********* ', \n",
    "#   '***********'\n",
    "# ]"
   ]
  },
  {
   "cell_type": "code",
   "execution_count": 30,
   "metadata": {},
   "outputs": [],
   "source": [
    "def tower_builder(n_floors):\n",
    "    spaces = n_floors-1\n",
    "    total = 1\n",
    "    res = []\n",
    "    while spaces>=0:\n",
    "        res.append(' '*spaces+'*'*total+' '*spaces)\n",
    "        spaces -=1\n",
    "        total = total+2\n",
    "    return res\n"
   ]
  },
  {
   "cell_type": "code",
   "execution_count": 31,
   "metadata": {},
   "outputs": [
    {
     "name": "stdout",
     "output_type": "stream",
     "text": [
      "['     *     ', '    ***    ', '   *****   ', '  *******  ', ' ********* ', '***********']\n"
     ]
    }
   ],
   "source": [
    "print (tower_builder(6))"
   ]
  },
  {
   "cell_type": "code",
   "execution_count": 32,
   "metadata": {},
   "outputs": [],
   "source": [
    "def tower_builder(n):\n",
    "    return [(\"*\" * (i*2-1)).center(n*2-1) for i in range(1, n+1)]"
   ]
  },
  {
   "cell_type": "code",
   "execution_count": null,
   "metadata": {},
   "outputs": [],
   "source": []
  }
 ],
 "metadata": {
  "kernelspec": {
   "display_name": "Python 3",
   "language": "python",
   "name": "python3"
  },
  "language_info": {
   "codemirror_mode": {
    "name": "ipython",
    "version": 3
   },
   "file_extension": ".py",
   "mimetype": "text/x-python",
   "name": "python",
   "nbconvert_exporter": "python",
   "pygments_lexer": "ipython3",
   "version": "3.7.3"
  }
 },
 "nbformat": 4,
 "nbformat_minor": 2
}
