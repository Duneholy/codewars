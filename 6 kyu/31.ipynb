{
 "cells": [
  {
   "cell_type": "code",
   "execution_count": 1,
   "metadata": {},
   "outputs": [],
   "source": [
    "# Enough is enough!\n",
    "# Alice and Bob were on a holiday. Both of them took many pictures of \n",
    "# the places they've been, and now they want to show Charlie their entire collection. \n",
    "# However, Charlie doesn't like this sessions, since the motive usually repeats. \n",
    "# He isn't fond of seeing the Eiffel tower 40 times. He tells them that he will \n",
    "# only sit during the session if they show the same motive at most N times. \n",
    "# Luckily, Alice and Bob are able to encode the motive as a number. \n",
    "# Can you help them to remove numbers such that their list contains each number only \n",
    "# up to N times, without changing the order?\n",
    "\n",
    "# Task\n",
    "# Given a list lst and a number N, create a new list that contains each number \n",
    "# of lst at most N times without reordering. For example if N = 2, and \n",
    "# the input is [1,2,3,1,2,1,2,3], you take [1,2,3,1,2], drop the next [1,2] \n",
    "# since this would lead to 1 and 2 being in the result 3 times, and then take 3, \n",
    "# which leads to [1,2,3,1,2,3].\n",
    "\n",
    "# Example\n",
    "#   delete_nth ([1,1,1,1],2) # return [1,1]\n",
    "\n",
    "#   delete_nth ([20,37,20,21],1) # return [20,37,21]"
   ]
  },
  {
   "cell_type": "code",
   "execution_count": 78,
   "metadata": {},
   "outputs": [],
   "source": [
    "def delete_nth(order,max_e):\n",
    "    d = dict.fromkeys(set(order))\n",
    "    res = []\n",
    "    for i in d:\n",
    "        d[i]=order.count(i)\n",
    "    for k,v in d.items():\n",
    "        if v>=max_e:\n",
    "            res.append([k]*max_e)\n",
    "        else:\n",
    "            res.append([k]*v)\n",
    "    r = []\n",
    "    for i in res:\n",
    "        r.extend(i)\n",
    "    final = []\n",
    "    while r:\n",
    "        for i in order:\n",
    "            if i in r:\n",
    "                final.append(i)\n",
    "                r.remove(i)\n",
    "    return final"
   ]
  },
  {
   "cell_type": "code",
   "execution_count": 79,
   "metadata": {},
   "outputs": [
    {
     "name": "stdout",
     "output_type": "stream",
     "text": [
      "[1, 1, 3, 3, 7, 2, 2, 2]\n"
     ]
    }
   ],
   "source": [
    "print ((delete_nth([1,1,3,3,7,2,2,2,2], 3)))"
   ]
  },
  {
   "cell_type": "code",
   "execution_count": 80,
   "metadata": {},
   "outputs": [],
   "source": [
    "def delete_nth(order,max_e):\n",
    "    ans = []\n",
    "    for o in order:\n",
    "        if ans.count(o) < max_e: ans.append(o)\n",
    "    return ans"
   ]
  },
  {
   "cell_type": "code",
   "execution_count": null,
   "metadata": {},
   "outputs": [],
   "source": []
  }
 ],
 "metadata": {
  "kernelspec": {
   "display_name": "Python 3",
   "language": "python",
   "name": "python3"
  },
  "language_info": {
   "codemirror_mode": {
    "name": "ipython",
    "version": 3
   },
   "file_extension": ".py",
   "mimetype": "text/x-python",
   "name": "python",
   "nbconvert_exporter": "python",
   "pygments_lexer": "ipython3",
   "version": "3.7.3"
  }
 },
 "nbformat": 4,
 "nbformat_minor": 2
}
