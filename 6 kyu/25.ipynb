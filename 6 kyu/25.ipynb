{
 "cells": [
  {
   "cell_type": "code",
   "execution_count": 1,
   "metadata": {},
   "outputs": [],
   "source": [
    "# A Narcissistic Number is a number which is the sum of its own digits, each raised to \n",
    "# the power of the number of digits in a given base. In this Kata, \n",
    "# we will restrict ourselves to decimal (base 10).\n",
    "\n",
    "# For example, take 153 (3 digits):\n",
    "\n",
    "#     1^3 + 5^3 + 3^3 = 1 + 125 + 27 = 153\n",
    "# and 1634 (4 digits):\n",
    "\n",
    "#     1^4 + 6^4 + 3^4 + 4^4 = 1 + 1296 + 81 + 256 = 1634\n",
    "# The Challenge:\n",
    "\n",
    "# Your code must return true or false depending upon whether the given number is a Narcissistic number in base 10.\n",
    "\n",
    "# Error checking for text strings or other invalid inputs is not required, \n",
    "# only valid integers will be passed into the function."
   ]
  },
  {
   "cell_type": "code",
   "execution_count": 17,
   "metadata": {},
   "outputs": [],
   "source": [
    "def narcissistic( value ):\n",
    "    a = [int(i) for i in str(value)]\n",
    "    return value == sum(i**len(a) for i in a)"
   ]
  },
  {
   "cell_type": "code",
   "execution_count": 18,
   "metadata": {},
   "outputs": [
    {
     "name": "stdout",
     "output_type": "stream",
     "text": [
      "True\n"
     ]
    }
   ],
   "source": [
    "print (narcissistic(371))"
   ]
  },
  {
   "cell_type": "code",
   "execution_count": null,
   "metadata": {},
   "outputs": [],
   "source": []
  }
 ],
 "metadata": {
  "kernelspec": {
   "display_name": "Python 3",
   "language": "python",
   "name": "python3"
  },
  "language_info": {
   "codemirror_mode": {
    "name": "ipython",
    "version": 3
   },
   "file_extension": ".py",
   "mimetype": "text/x-python",
   "name": "python",
   "nbconvert_exporter": "python",
   "pygments_lexer": "ipython3",
   "version": "3.7.3"
  }
 },
 "nbformat": 4,
 "nbformat_minor": 2
}
