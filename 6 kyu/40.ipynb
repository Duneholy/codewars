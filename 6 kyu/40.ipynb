{
 "cells": [
  {
   "cell_type": "code",
   "execution_count": null,
   "metadata": {},
   "outputs": [],
   "source": [
    "# Given a string of words, you need to find the highest scoring word.\n",
    "\n",
    "# Each letter of a word scores points according to its position in the alphabet: a = 1, b = 2, c = 3 etc.\n",
    "\n",
    "# You need to return the highest scoring word as a string.\n",
    "\n",
    "# If two words score the same, return the word that appears earliest in the original string.\n",
    "\n",
    "# All letters will be lowercase and all inputs will be valid."
   ]
  },
  {
   "cell_type": "code",
   "execution_count": 38,
   "metadata": {},
   "outputs": [],
   "source": [
    "import string\n",
    "def high(x):\n",
    "    d = dict(zip(string.ascii_lowercase, range(1,27)))\n",
    "    s = x.split()\n",
    "    res = []\n",
    "    for i in s:\n",
    "        res.append(sum(d[a]for a in i))\n",
    "    return s[res.index(max(res))]"
   ]
  },
  {
   "cell_type": "code",
   "execution_count": 39,
   "metadata": {},
   "outputs": [],
   "source": [
    "def high(x):\n",
    "    return max(x.split(), key=lambda k: sum(ord(c) - 96 for c in k))"
   ]
  },
  {
   "cell_type": "code",
   "execution_count": null,
   "metadata": {},
   "outputs": [],
   "source": []
  }
 ],
 "metadata": {
  "kernelspec": {
   "display_name": "Python 3",
   "language": "python",
   "name": "python3"
  },
  "language_info": {
   "codemirror_mode": {
    "name": "ipython",
    "version": 3
   },
   "file_extension": ".py",
   "mimetype": "text/x-python",
   "name": "python",
   "nbconvert_exporter": "python",
   "pygments_lexer": "ipython3",
   "version": "3.7.3"
  }
 },
 "nbformat": 4,
 "nbformat_minor": 2
}
