{
 "cells": [
  {
   "cell_type": "code",
   "execution_count": 1,
   "metadata": {},
   "outputs": [],
   "source": [
    "#https://www.codewars.com/kata/multi-tap-keypad-text-entry-on-an-old-mobile-phone/train/python\n",
    "# ------- ------- -------\n",
    "# |     | | ABC | | DEF |\n",
    "# |  1  | |  2  | |  3  |\n",
    "# ------- ------- -------\n",
    "# ------- ------- -------\n",
    "# | GHI | | JKL | | MNO |\n",
    "# |  4  | |  5  | |  6  |\n",
    "# ------- ------- -------\n",
    "# ------- ------- -------\n",
    "# |PQRS | | TUV | | WXYZ|\n",
    "# |  7  | |  8  | |  9  |\n",
    "# ------- ------- -------\n",
    "# ------- ------- -------\n",
    "# |     | |space| |     |\n",
    "# |  *  | |  0  | |  #  |\n",
    "# ------- ------- -------"
   ]
  },
  {
   "cell_type": "code",
   "execution_count": 20,
   "metadata": {},
   "outputs": [],
   "source": [
    "def presses(phrase):\n",
    "    k_1 = {'1':1}\n",
    "    k_2 = {'A':1,'B':2,'C':3,'2':4}\n",
    "    k_3 = {'D':1,'E':2,'F':3,'3':4}\n",
    "    k_4 = {'G':1,'H':2,'I':3,'4':4}\n",
    "    k_5 = {'J':1,'K':2,'L':3,'5':4}\n",
    "    k_6 = {'M':1,'N':2,'O':3,'6':4}\n",
    "    k_7 = {'P':1,'Q':2,'R':3,'S':4,'7':5}\n",
    "    k_8 = {'T':1,'U':2,'V':3,'8':4}\n",
    "    k_9 = {'W':1,'X':2,'Y':3,'Z':4,'9':5}\n",
    "    k_0 = {' ':1,'0':2,'*':1,'#':1}\n",
    "    phonekeys = [k_1,k_2,k_3,k_4,k_5,k_6,k_7,k_8,k_9,k_0]\n",
    "    res = 0\n",
    "    for i in phrase.upper():\n",
    "        for tap in phonekeys:\n",
    "            try:\n",
    "                res+=tap[i]\n",
    "            except:\n",
    "                continue\n",
    "    return res"
   ]
  },
  {
   "cell_type": "code",
   "execution_count": 21,
   "metadata": {},
   "outputs": [
    {
     "data": {
      "text/plain": [
       "9"
      ]
     },
     "execution_count": 21,
     "metadata": {},
     "output_type": "execute_result"
    }
   ],
   "source": [
    "presses('loL')"
   ]
  },
  {
   "cell_type": "code",
   "execution_count": null,
   "metadata": {},
   "outputs": [],
   "source": [
    "BUTTONS = [ '1',   'abc2',  'def3',\n",
    "          'ghi4',  'jkl5',  'mno6',\n",
    "          'pqrs7', 'tuv8', 'wxyz9',\n",
    "            '*',   ' 0',    '#'   ]\n",
    "def presses(phrase):\n",
    "    return sum(1 + button.find(c) for c in phrase.lower() for button in BUTTONS if c in button)\n",
    "#а можно было и так"
   ]
  }
 ],
 "metadata": {
  "kernelspec": {
   "display_name": "Python 3",
   "language": "python",
   "name": "python3"
  },
  "language_info": {
   "codemirror_mode": {
    "name": "ipython",
    "version": 3
   },
   "file_extension": ".py",
   "mimetype": "text/x-python",
   "name": "python",
   "nbconvert_exporter": "python",
   "pygments_lexer": "ipython3",
   "version": "3.7.3"
  }
 },
 "nbformat": 4,
 "nbformat_minor": 2
}
