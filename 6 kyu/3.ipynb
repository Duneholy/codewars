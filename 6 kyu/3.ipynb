{
 "cells": [
  {
   "cell_type": "code",
   "execution_count": 1,
   "metadata": {},
   "outputs": [],
   "source": [
    "#in this kata, you must create a digital root function.\n",
    "\n",
    "#A digital root is the recursive sum of all the digits in a number. \n",
    "#Given n, take the sum of the digits of n. If that value has more than one digit, \n",
    "#continue reducing in this way until a single-digit number is produced. \n",
    "#This is only applicable to the natural numbers.\n",
    "#Here's how it works:\n",
    "\n",
    "#digital_root(16)\n",
    "#=> 1 + 6\n",
    "#=> 7\n",
    "\n",
    "#digital_root(942)\n",
    "#=> 9 + 4 + 2\n",
    "#=> 15 ...\n",
    "#=> 1 + 5\n",
    "#=> 6\n",
    "\n",
    "#digital_root(132189)\n",
    "#=> 1 + 3 + 2 + 1 + 8 + 9\n",
    "#=> 24 ...\n",
    "#=> 2 + 4\n",
    "#=> 6"
   ]
  },
  {
   "cell_type": "code",
   "execution_count": 9,
   "metadata": {},
   "outputs": [],
   "source": [
    "def digital_root(n):\n",
    "    while n>9:\n",
    "        n = sum(int(i)for i in str(n))\n",
    "    return n"
   ]
  },
  {
   "cell_type": "code",
   "execution_count": 10,
   "metadata": {},
   "outputs": [
    {
     "name": "stdout",
     "output_type": "stream",
     "text": [
      "6\n"
     ]
    }
   ],
   "source": [
    "print (digital_root(132189))"
   ]
  },
  {
   "cell_type": "code",
   "execution_count": 16,
   "metadata": {},
   "outputs": [],
   "source": [
    "def digital_root(n):\n",
    "      return n%9 or n and 9 \n",
    "#решение с кв, расшифровка для меня - If n % 9 != 0 return n % 9. Otherwise return n (if n == 0) or 9 (if n != 0)"
   ]
  },
  {
   "cell_type": "code",
   "execution_count": null,
   "metadata": {},
   "outputs": [],
   "source": []
  }
 ],
 "metadata": {
  "kernelspec": {
   "display_name": "Python 3",
   "language": "python",
   "name": "python3"
  },
  "language_info": {
   "codemirror_mode": {
    "name": "ipython",
    "version": 3
   },
   "file_extension": ".py",
   "mimetype": "text/x-python",
   "name": "python",
   "nbconvert_exporter": "python",
   "pygments_lexer": "ipython3",
   "version": "3.7.3"
  }
 },
 "nbformat": 4,
 "nbformat_minor": 2
}
