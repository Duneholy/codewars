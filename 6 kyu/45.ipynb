{
 "cells": [
  {
   "cell_type": "code",
   "execution_count": null,
   "metadata": {},
   "outputs": [],
   "source": [
    "# The drawing below gives an idea of how to cut a given \"true\" rectangle into squares \n",
    "# (\"true\" rectangle meaning that the two dimensions are different).\n",
    "\n",
    "# alternative text\n",
    "\n",
    "# Can you translate this drawing into an algorithm?\n",
    "\n",
    "# You will be given two dimensions\n",
    "\n",
    "# a positive integer length (parameter named lng)\n",
    "# a positive integer width (parameter named wdth)"
   ]
  },
  {
   "cell_type": "code",
   "execution_count": 2,
   "metadata": {},
   "outputs": [],
   "source": [
    "def sqInRect(lng, wdth):\n",
    "    if lng!=wdth:\n",
    "        res = []\n",
    "        while lng:\n",
    "            if lng<wdth:\n",
    "                res.append(lng)\n",
    "                wdth = wdth-lng\n",
    "            elif wdth<lng:\n",
    "                res.append(wdth)\n",
    "                lng = lng-wdth\n",
    "            elif wdth==lng:\n",
    "                res.append(wdth)\n",
    "                lng=0\n",
    "        return res\n",
    "    else:\n",
    "        return None"
   ]
  },
  {
   "cell_type": "code",
   "execution_count": null,
   "metadata": {},
   "outputs": [],
   "source": [
    "#решение с кв, принцип тот же, просто чтоб два раза одно и то же не повторять, меняли местами lng и wdth\n",
    "def sqInRect(lng, wdth):\n",
    "    if lng == wdth:\n",
    "        return None\n",
    "    if lng < wdth:\n",
    "        wdth, lng = lng, wdth\n",
    "    res = []\n",
    "    while lng != wdth:\n",
    "        res.append(wdth)\n",
    "        lng = lng - wdth\n",
    "        if lng < wdth:\n",
    "            wdth, lng = lng, wdth\n",
    "    res.append(wdth)\n",
    "    return res"
   ]
  }
 ],
 "metadata": {
  "kernelspec": {
   "display_name": "Python 3",
   "language": "python",
   "name": "python3"
  },
  "language_info": {
   "codemirror_mode": {
    "name": "ipython",
    "version": 3
   },
   "file_extension": ".py",
   "mimetype": "text/x-python",
   "name": "python",
   "nbconvert_exporter": "python",
   "pygments_lexer": "ipython3",
   "version": "3.7.3"
  }
 },
 "nbformat": 4,
 "nbformat_minor": 2
}
