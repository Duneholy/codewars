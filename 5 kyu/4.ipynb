{
 "cells": [
  {
   "cell_type": "code",
   "execution_count": 79,
   "metadata": {},
   "outputs": [],
   "source": [
    "def move_zeros(array):\n",
    "    zeros = sum(1 for item in array if item==0 and not isinstance(i,bool))  \n",
    "    res = array.copy()\n",
    "    while len(res)!=len(array)-zeros:\n",
    "        for i in res:\n",
    "            if not isinstance(i,bool) and i==0:\n",
    "                res.remove(i)\n",
    "    res.extend([0]*zeros)\n",
    "    return res"
   ]
  },
  {
   "cell_type": "code",
   "execution_count": 81,
   "metadata": {},
   "outputs": [],
   "source": [
    "def move_zeros(array):\n",
    "    new = []\n",
    "    zeros = []\n",
    "    for i in range(len(array)):\n",
    "        if array[i] == 0 or array[i] == 0.0:\n",
    "            if type(array[i]) == int or type(array[i]) == float:\n",
    "                zeros.append(array[i])\n",
    "            else: new.append(array[i])\n",
    "        else:\n",
    "            new.append(array[i])\n",
    "    return new + zeros"
   ]
  },
  {
   "cell_type": "code",
   "execution_count": 1,
   "metadata": {},
   "outputs": [],
   "source": [
    "def move_zeros(arr):\n",
    "    l = [i for i in arr if isinstance(i, bool) or i!=0]\n",
    "    return l+[0]*(len(arr)-len(l))"
   ]
  },
  {
   "cell_type": "code",
   "execution_count": null,
   "metadata": {},
   "outputs": [],
   "source": []
  }
 ],
 "metadata": {
  "kernelspec": {
   "display_name": "Python 3",
   "language": "python",
   "name": "python3"
  },
  "language_info": {
   "codemirror_mode": {
    "name": "ipython",
    "version": 3
   },
   "file_extension": ".py",
   "mimetype": "text/x-python",
   "name": "python",
   "nbconvert_exporter": "python",
   "pygments_lexer": "ipython3",
   "version": "3.7.3"
  }
 },
 "nbformat": 4,
 "nbformat_minor": 2
}
