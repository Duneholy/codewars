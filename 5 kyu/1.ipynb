{
 "cells": [
  {
   "cell_type": "code",
   "execution_count": 1,
   "metadata": {},
   "outputs": [],
   "source": [
    "#Move the first letter of each word to the end of it, then add \"ay\" to the end of the word. \n",
    "#Leave punctuation marks untouched.\n",
    "\n",
    "#Examples\n",
    "#pig_it('Pig latin is cool') # igPay atinlay siay oolcay\n",
    "#pig_it('Hello world !')     # elloHay orldway !"
   ]
  },
  {
   "cell_type": "code",
   "execution_count": 8,
   "metadata": {},
   "outputs": [],
   "source": [
    "def pig_it(text):\n",
    "    res = ''\n",
    "    for i in text.split():\n",
    "        if i.isalpha():\n",
    "            res += i[1:]+i[0]+'ay '\n",
    "        else:\n",
    "            res += i\n",
    "    return res.rstrip()"
   ]
  },
  {
   "cell_type": "code",
   "execution_count": 9,
   "metadata": {},
   "outputs": [
    {
     "name": "stdout",
     "output_type": "stream",
     "text": [
      "elloHay orldway !\n"
     ]
    }
   ],
   "source": [
    "print (pig_it('Hello world !'))"
   ]
  },
  {
   "cell_type": "code",
   "execution_count": null,
   "metadata": {},
   "outputs": [],
   "source": []
  }
 ],
 "metadata": {
  "kernelspec": {
   "display_name": "Python 3",
   "language": "python",
   "name": "python3"
  },
  "language_info": {
   "codemirror_mode": {
    "name": "ipython",
    "version": 3
   },
   "file_extension": ".py",
   "mimetype": "text/x-python",
   "name": "python",
   "nbconvert_exporter": "python",
   "pygments_lexer": "ipython3",
   "version": "3.7.3"
  }
 },
 "nbformat": 4,
 "nbformat_minor": 2
}
