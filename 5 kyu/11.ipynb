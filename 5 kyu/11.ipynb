{
 "cells": [
  {
   "cell_type": "code",
   "execution_count": 1,
   "metadata": {},
   "outputs": [],
   "source": [
    "#https://www.codewars.com/kata/55c04b4cc56a697bb0000048\n",
    "\n",
    "# Complete the function scramble(str1, str2) that returns true if a portion of str1 characters \n",
    "# can be rearranged to match str2, otherwise returns false.\n",
    "\n",
    "# Notes:\n",
    "\n",
    "# Only lower case letters will be used (a-z). No punctuation or digits will be included.\n",
    "# Performance needs to be considered\n",
    "# Input strings s1 and s2 are null terminated.\n",
    "# Examples\n",
    "# scramble('rkqodlw', 'world') ==> True\n",
    "# scramble('cedewaraaossoqqyt', 'codewars') ==> True\n",
    "# scramble('katas', 'steak') ==> False"
   ]
  },
  {
   "cell_type": "code",
   "execution_count": 2,
   "metadata": {},
   "outputs": [],
   "source": [
    "# Test.assert_equals(scramble('rkqodlw', 'world'),  True)\n",
    "# Test.assert_equals(scramble('cedewaraaossoqqyt', 'codewars'), True)\n",
    "# Test.assert_equals(scramble('katas', 'steak'), False)\n",
    "# Test.assert_equals(scramble('scriptjava', 'javascript'), True)\n",
    "# Test.assert_equals(scramble('scriptingjava', 'javascript'), True)"
   ]
  },
  {
   "cell_type": "code",
   "execution_count": 24,
   "metadata": {},
   "outputs": [],
   "source": [
    "def scramble(s1, s2):\n",
    "    return all([s1.count(i)>=s2.count(i) for i in s2])"
   ]
  },
  {
   "cell_type": "code",
   "execution_count": 27,
   "metadata": {},
   "outputs": [
    {
     "data": {
      "text/plain": [
       "False"
      ]
     },
     "execution_count": 27,
     "metadata": {},
     "output_type": "execute_result"
    }
   ],
   "source": [
    "scramble('katas', 'steak')"
   ]
  },
  {
   "cell_type": "code",
   "execution_count": 63,
   "metadata": {},
   "outputs": [],
   "source": [
    "def scramble(s1, s2):\n",
    "    if len(s1)<len(s1):\n",
    "        return False\n",
    "    for i in set(s2):\n",
    "        if i not in set(s1):\n",
    "            return False\n",
    "        if s2.count(i)>s1.count(i):\n",
    "            return False\n",
    "    return True"
   ]
  },
  {
   "cell_type": "code",
   "execution_count": 64,
   "metadata": {},
   "outputs": [
    {
     "data": {
      "text/plain": [
       "True"
      ]
     },
     "execution_count": 64,
     "metadata": {},
     "output_type": "execute_result"
    }
   ],
   "source": [
    "scramble('scriptingjava', 'javascript')"
   ]
  },
  {
   "cell_type": "code",
   "execution_count": 60,
   "metadata": {},
   "outputs": [],
   "source": [
    "def scramble(s1, s2):\n",
    "    s1 = sorted (s1)\n",
    "    for i in s2:\n",
    "        if i in s1:\n",
    "            s1.remove(i)\n",
    "        else:\n",
    "            return False\n",
    "    return True"
   ]
  },
  {
   "cell_type": "code",
   "execution_count": 62,
   "metadata": {},
   "outputs": [
    {
     "data": {
      "text/plain": [
       "False"
      ]
     },
     "execution_count": 62,
     "metadata": {},
     "output_type": "execute_result"
    }
   ],
   "source": [
    "scramble('katas', 'steak')"
   ]
  },
  {
   "cell_type": "code",
   "execution_count": 65,
   "metadata": {},
   "outputs": [],
   "source": [
    "def scramble(s1,s2):\n",
    "    for c in set(s2):\n",
    "        if s1.count(c) < s2.count(c):\n",
    "            return False\n",
    "    return True"
   ]
  },
  {
   "cell_type": "code",
   "execution_count": null,
   "metadata": {},
   "outputs": [],
   "source": []
  }
 ],
 "metadata": {
  "kernelspec": {
   "display_name": "Python 3",
   "language": "python",
   "name": "python3"
  },
  "language_info": {
   "codemirror_mode": {
    "name": "ipython",
    "version": 3
   },
   "file_extension": ".py",
   "mimetype": "text/x-python",
   "name": "python",
   "nbconvert_exporter": "python",
   "pygments_lexer": "ipython3",
   "version": "3.7.3"
  }
 },
 "nbformat": 4,
 "nbformat_minor": 2
}
