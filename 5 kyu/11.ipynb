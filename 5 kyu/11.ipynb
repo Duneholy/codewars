{
 "cells": [
  {
   "cell_type": "code",
   "execution_count": 1,
   "metadata": {},
   "outputs": [],
   "source": [
    "#https://www.codewars.com/kata/55c04b4cc56a697bb0000048\n",
    "\n",
    "# Complete the function scramble(str1, str2) that returns true if a portion of str1 characters \n",
    "# can be rearranged to match str2, otherwise returns false.\n",
    "\n",
    "# Notes:\n",
    "\n",
    "# Only lower case letters will be used (a-z). No punctuation or digits will be included.\n",
    "# Performance needs to be considered\n",
    "# Input strings s1 and s2 are null terminated.\n",
    "# Examples\n",
    "# scramble('rkqodlw', 'world') ==> True\n",
    "# scramble('cedewaraaossoqqyt', 'codewars') ==> True\n",
    "# scramble('katas', 'steak') ==> False"
   ]
  },
  {
   "cell_type": "code",
   "execution_count": 2,
   "metadata": {},
   "outputs": [],
   "source": [
    "# Test.assert_equals(scramble('rkqodlw', 'world'),  True)\n",
    "# Test.assert_equals(scramble('cedewaraaossoqqyt', 'codewars'), True)\n",
    "# Test.assert_equals(scramble('katas', 'steak'), False)\n",
    "# Test.assert_equals(scramble('scriptjava', 'javascript'), True)\n",
    "# Test.assert_equals(scramble('scriptingjava', 'javascript'), True)"
   ]
  },
  {
   "cell_type": "code",
   "execution_count": null,
   "metadata": {},
   "outputs": [],
   "source": [
    "def scramble(s1, s2):\n",
    "    # your code here"
   ]
  }
 ],
 "metadata": {
  "kernelspec": {
   "display_name": "Python 3",
   "language": "python",
   "name": "python3"
  },
  "language_info": {
   "codemirror_mode": {
    "name": "ipython",
    "version": 3
   },
   "file_extension": ".py",
   "mimetype": "text/x-python",
   "name": "python",
   "nbconvert_exporter": "python",
   "pygments_lexer": "ipython3",
   "version": "3.7.3"
  }
 },
 "nbformat": 4,
 "nbformat_minor": 2
}
