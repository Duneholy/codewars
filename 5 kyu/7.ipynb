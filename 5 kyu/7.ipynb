{
 "cells": [
  {
   "cell_type": "code",
   "execution_count": null,
   "metadata": {},
   "outputs": [],
   "source": [
    "# My friend John and I are members of the \"Fat to Fit Club (FFC)\". \n",
    "# John is worried because each month a list with the weights of members \n",
    "# is published and each month he is the last on the list which means he is the heaviest.\n",
    "\n",
    "# I am the one who establishes the list so I told him: \"Don't worry any more, \n",
    "#     I will modify the order of the list\". It was decided to attribute a \"weight\" \n",
    "#     to numbers. The weight of a number will be from now on the sum of its digits.\n",
    "\n",
    "# For example 99 will have \"weight\" 18, 100 will have \"weight\" 1 so in the list 100 \n",
    "# will come before 99. Given a string with the weights of FFC members in normal order \n",
    "# can you give this string ordered by \"weights\" of these numbers?\n",
    "\n",
    "# Example:\n",
    "# \"56 65 74 100 99 68 86 180 90\" ordered by numbers weights becomes: \"100 180 90 56 65 74 68 86 99\"\n",
    "\n",
    "# When two numbers have the same \"weight\", let us class them as if they were strings \n",
    "# and not numbers: 100 is before 180 because its \"weight\" (1) is less than the one of 180 (9) \n",
    "#     and 180 is before 90 since, having the same \"weight\" (9), it comes before as a string.\n",
    "\n",
    "# All numbers in the list are positive numbers and the list can be empty."
   ]
  },
  {
   "cell_type": "code",
   "execution_count": 4,
   "metadata": {},
   "outputs": [],
   "source": [
    "def order_weight(strng):\n",
    "    ex = strng.split()\n",
    "    ex.sort()\n",
    "    d = []\n",
    "    for i in ex:\n",
    "        d.extend([[sum(int(a) for a in str(i)), i]])\n",
    "    d.sort(key=lambda x: x[0])\n",
    "    return ' '.join(i[1] for i in d)\n",
    "#мое решение - 874ms"
   ]
  },
  {
   "cell_type": "code",
   "execution_count": 5,
   "metadata": {},
   "outputs": [],
   "source": [
    "def order_weight(strng):\n",
    "    weights = sorted(strng.split(\" \"))\n",
    "    sorted_weights = sorted(weights, key=digit_sum);\n",
    "    return \" \".join(sorted_weights)\n",
    "\n",
    "def digit_sum(a_string):\n",
    "    return sum( [int(char) for char in a_string] )\n",
    "#решение с кв - 821ms"
   ]
  }
 ],
 "metadata": {
  "kernelspec": {
   "display_name": "Python 3",
   "language": "python",
   "name": "python3"
  },
  "language_info": {
   "codemirror_mode": {
    "name": "ipython",
    "version": 3
   },
   "file_extension": ".py",
   "mimetype": "text/x-python",
   "name": "python",
   "nbconvert_exporter": "python",
   "pygments_lexer": "ipython3",
   "version": "3.7.3"
  }
 },
 "nbformat": 4,
 "nbformat_minor": 2
}
