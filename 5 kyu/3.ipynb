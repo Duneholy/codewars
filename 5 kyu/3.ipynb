{
 "cells": [
  {
   "cell_type": "code",
   "execution_count": 1,
   "metadata": {},
   "outputs": [],
   "source": [
    "# Write a function called that takes a string of parentheses, and determines if the order \n",
    "# of the parentheses is valid. The function should return true if the string is valid, and false if it's invalid.\n",
    "\n",
    "# Examples\n",
    "# \"()\"              =>  true\n",
    "# \")(()))\"          =>  false\n",
    "# \"(\"               =>  false\n",
    "# \"(())((()())())\"  =>  true\n",
    "# Constraints\n",
    "# 0 <= input.length <= 100\n",
    "\n",
    "# Along with opening (() and closing ()) parenthesis, input may contain \n",
    "# any valid ASCII characters. Furthermore, the input string may be empty \n",
    "# and/or not contain any parentheses at all. Do not treat other \n",
    "# forms of brackets as parentheses (e.g. [], {}, <>)."
   ]
  },
  {
   "cell_type": "code",
   "execution_count": 12,
   "metadata": {},
   "outputs": [],
   "source": [
    "def valid_parentheses(string):\n",
    "    end = ')]}>'\n",
    "    start = '([{<'\n",
    "    stack = [] \n",
    "    for i in string: \n",
    "        if i in start: \n",
    "            stack.append(i) \n",
    "        elif i in end: \n",
    "            pos = end.index(i) \n",
    "            if ((len(stack) > 0) and (start[pos] == stack[len(stack)-1])): \n",
    "                stack.pop() \n",
    "            else: \n",
    "                return False\n",
    "    if len(stack) == 0: \n",
    "        return True\n",
    "    else:\n",
    "        return False"
   ]
  },
  {
   "cell_type": "code",
   "execution_count": 15,
   "metadata": {},
   "outputs": [
    {
     "name": "stdout",
     "output_type": "stream",
     "text": [
      "True\n"
     ]
    }
   ],
   "source": [
    "print (valid_parentheses(\"hi()\"))"
   ]
  },
  {
   "cell_type": "code",
   "execution_count": null,
   "metadata": {},
   "outputs": [],
   "source": [
    "def valid_parentheses(string):\n",
    "    cnt = 0\n",
    "    for char in string:\n",
    "        if char == '(': cnt += 1\n",
    "        if char == ')': cnt -= 1\n",
    "        if cnt < 0: return False\n",
    "    return True if cnt == 0 else False\n",
    "#простое решение, сначала так и хотел, но забыл что можно +-1 было сделать"
   ]
  }
 ],
 "metadata": {
  "kernelspec": {
   "display_name": "Python 3",
   "language": "python",
   "name": "python3"
  },
  "language_info": {
   "codemirror_mode": {
    "name": "ipython",
    "version": 3
   },
   "file_extension": ".py",
   "mimetype": "text/x-python",
   "name": "python",
   "nbconvert_exporter": "python",
   "pygments_lexer": "ipython3",
   "version": "3.7.3"
  }
 },
 "nbformat": 4,
 "nbformat_minor": 2
}
