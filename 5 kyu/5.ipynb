{
 "cells": [
  {
   "cell_type": "code",
   "execution_count": null,
   "metadata": {},
   "outputs": [],
   "source": [
    "# What is an anagram? Well, two words are anagrams of each other if they both contain the same letters. For example:\n",
    "\n",
    "# 'abba' & 'baab' == true\n",
    "\n",
    "# 'abba' & 'bbaa' == true\n",
    "\n",
    "# 'abba' & 'abbba' == false\n",
    "\n",
    "# 'abba' & 'abca' == false\n",
    "# Write a function that will find all the anagrams of a word from a list. \n",
    "# You will be given two inputs a word and an array with words. \n",
    "# You should return an array of all the anagrams or an empty array if there are none. For example:\n",
    "\n",
    "# anagrams('abba', ['aabb', 'abcd', 'bbaa', 'dada']) => ['aabb', 'bbaa']"
   ]
  },
  {
   "cell_type": "code",
   "execution_count": 1,
   "metadata": {},
   "outputs": [],
   "source": [
    "def anagrams(word, words):\n",
    "    return [i for i in words if sorted(i)==sorted(word)]"
   ]
  }
 ],
 "metadata": {
  "kernelspec": {
   "display_name": "Python 3",
   "language": "python",
   "name": "python3"
  },
  "language_info": {
   "codemirror_mode": {
    "name": "ipython",
    "version": 3
   },
   "file_extension": ".py",
   "mimetype": "text/x-python",
   "name": "python",
   "nbconvert_exporter": "python",
   "pygments_lexer": "ipython3",
   "version": "3.7.3"
  }
 },
 "nbformat": 4,
 "nbformat_minor": 2
}
