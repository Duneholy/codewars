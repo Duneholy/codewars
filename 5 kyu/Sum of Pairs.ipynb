{
 "cells": [
  {
   "cell_type": "code",
   "execution_count": 1,
   "metadata": {},
   "outputs": [],
   "source": [
    "# https://www.codewars.com/kata/sum-of-pairs/train/python"
   ]
  },
  {
   "cell_type": "code",
   "execution_count": 130,
   "metadata": {},
   "outputs": [],
   "source": [
    "def sum_pairs(ints, s):\n",
    "    res = []\n",
    "    for first in range(len(ints)):\n",
    "        for index, second in enumerate(ints[first+1:]):\n",
    "            if ints[first]+second == s:\n",
    "                res.append([ints[first], second, index+first+1])\n",
    "    #return sorted(res, key=lambda x: x[2])[0][:-1] if res else None\n",
    "    return res\n",
    "#работает, но не прошел проверку на скорость"
   ]
  },
  {
   "cell_type": "code",
   "execution_count": null,
   "metadata": {},
   "outputs": [],
   "source": [
    "def sum_pairs(ints, s):\n",
    "    d = { i[1]: i[0] for i in zip(ints,range(len(ints)))}\n",
    "    for i in range(len(ints)):\n",
    "        complement = s - ints[i]\n",
    "        d.pop(i)\n",
    "        if complement in d.values():\n",
    "            return [ints[i],complement]\n",
    "        \n",
    "# First Match From Left REDUX!: [10, 5, 2, 3, 7, 5] should return [3, 7] for sum = 10\n",
    "# Не проходит эту проверку, как решить? думаем"
   ]
  },
  {
   "cell_type": "code",
   "execution_count": 133,
   "metadata": {},
   "outputs": [
    {
     "data": {
      "text/plain": [
       "[3, 7]"
      ]
     },
     "execution_count": 133,
     "metadata": {},
     "output_type": "execute_result"
    }
   ],
   "source": [
    "l1= [1, 4, 8, 7, 3, 15]\n",
    "s1= 8\n",
    "l2= [1, -2, 3, 0, -6, 1]\n",
    "s2= -6\n",
    "l3= [20, -13, 40]\n",
    "s3= -7\n",
    "l4= [10, 5, 2, 3, 7, 5] \n",
    "s4= 10\n",
    "sum_pairs(l4,s4)"
   ]
  },
  {
   "cell_type": "code",
   "execution_count": null,
   "metadata": {},
   "outputs": [],
   "source": [
    "# решение с кв\n",
    "\n",
    "def sum_pairs(lst, s):\n",
    "    cache = set()\n",
    "    for i in lst:\n",
    "        if s - i in cache:\n",
    "            return [s - i, i]\n",
    "        cache.add(i)"
   ]
  }
 ],
 "metadata": {
  "kernelspec": {
   "display_name": "Python 3",
   "language": "python",
   "name": "python3"
  },
  "language_info": {
   "codemirror_mode": {
    "name": "ipython",
    "version": 3
   },
   "file_extension": ".py",
   "mimetype": "text/x-python",
   "name": "python",
   "nbconvert_exporter": "python",
   "pygments_lexer": "ipython3",
   "version": "3.7.3"
  }
 },
 "nbformat": 4,
 "nbformat_minor": 2
}
