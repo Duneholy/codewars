{
 "cells": [
  {
   "cell_type": "code",
   "execution_count": 1,
   "metadata": {},
   "outputs": [],
   "source": [
    "# https://www.codewars.com/kata/54a91a4883a7de5d7800009c\n",
    "\n",
    "# Your job is to write a function which increments a string, to create a new string.\n",
    "\n",
    "# If the string already ends with a number, the number should be incremented by 1.\n",
    "# If the string does not end with a number. the number 1 should be appended to the new string.\n",
    "# Examples:\n",
    "\n",
    "# foo -> foo1\n",
    "\n",
    "# foobar23 -> foobar24\n",
    "\n",
    "# foo0042 -> foo0043\n",
    "\n",
    "# foo9 -> foo10\n",
    "\n",
    "# foo099 -> foo100\n",
    "\n",
    "# Attention: If the number has leading zeros the amount of digits should be considered."
   ]
  },
  {
   "cell_type": "code",
   "execution_count": 2,
   "metadata": {},
   "outputs": [],
   "source": [
    "# Test.assert_equals(increment_string(\"foo\"), \"foo1\")\n",
    "# Test.assert_equals(increment_string(\"foobar001\"), \"foobar002\")\n",
    "# Test.assert_equals(increment_string(\"foobar1\"), \"foobar2\")\n",
    "# Test.assert_equals(increment_string(\"foobar00\"), \"foobar01\")\n",
    "# Test.assert_equals(increment_string(\"foobar99\"), \"foobar100\")\n",
    "# Test.assert_equals(increment_string(\"foobar099\"), \"foobar100\")\n",
    "# Test.assert_equals(increment_string(\"\"), \"1\")"
   ]
  },
  {
   "cell_type": "code",
   "execution_count": 67,
   "metadata": {},
   "outputs": [],
   "source": [
    "def increment_string(strng):\n",
    "    if strng=='' or not strng[-1].isdigit():\n",
    "        return strng+'1'\n",
    "    num = ''\n",
    "    for i in strng[::-1]:\n",
    "        if not i.isdigit():\n",
    "            break\n",
    "        else:\n",
    "            num+=i\n",
    "    res = str(int(num[::-1])+1)\n",
    "    if len(num)>len(res):\n",
    "        res = '0'*(len(num)-len(res))+res\n",
    "    return strng[:-len(num)]+res"
   ]
  },
  {
   "cell_type": "code",
   "execution_count": 71,
   "metadata": {},
   "outputs": [
    {
     "data": {
      "text/plain": [
       "'foo002'"
      ]
     },
     "execution_count": 71,
     "metadata": {},
     "output_type": "execute_result"
    }
   ],
   "source": [
    "increment_string(\"foo001\")"
   ]
  },
  {
   "cell_type": "code",
   "execution_count": 72,
   "metadata": {},
   "outputs": [],
   "source": [
    "def increment_string(strng):\n",
    "    head = strng.rstrip('0123456789')\n",
    "    tail = strng[len(head):]\n",
    "    if tail == \"\": return strng+\"1\" #все ясно, смарт стрип\n",
    "    return head + str(int(tail) + 1).zfill(len(tail)) #теперь я знаю про zfill"
   ]
  },
  {
   "cell_type": "code",
   "execution_count": 76,
   "metadata": {},
   "outputs": [
    {
     "data": {
      "text/plain": [
       "'0056'"
      ]
     },
     "execution_count": 76,
     "metadata": {},
     "output_type": "execute_result"
    }
   ],
   "source": [
    "str('56').zfill(4)"
   ]
  },
  {
   "cell_type": "code",
   "execution_count": null,
   "metadata": {},
   "outputs": [],
   "source": []
  }
 ],
 "metadata": {
  "kernelspec": {
   "display_name": "Python 3",
   "language": "python",
   "name": "python3"
  },
  "language_info": {
   "codemirror_mode": {
    "name": "ipython",
    "version": 3
   },
   "file_extension": ".py",
   "mimetype": "text/x-python",
   "name": "python",
   "nbconvert_exporter": "python",
   "pygments_lexer": "ipython3",
   "version": "3.7.3"
  }
 },
 "nbformat": 4,
 "nbformat_minor": 2
}
