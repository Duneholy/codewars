{
 "cells": [
  {
   "cell_type": "code",
   "execution_count": 1,
   "metadata": {},
   "outputs": [],
   "source": [
    "# https://www.codewars.com/kata/common-denominators/train/python"
   ]
  },
  {
   "cell_type": "code",
   "execution_count": 18,
   "metadata": {},
   "outputs": [
    {
     "data": {
      "text/plain": [
       "[[6, 12], [4, 12], [3, 12]]"
      ]
     },
     "execution_count": 18,
     "metadata": {},
     "output_type": "execute_result"
    }
   ],
   "source": [
    "from math import gcd\n",
    "from functools import reduce\n",
    "\n",
    "def lcm(a, b):\n",
    "    return (a * b) // gcd(a, b)\n",
    "    \n",
    "def convertFracts(lst):\n",
    "    den = []\n",
    "    tms = []\n",
    "    for i in lst:\n",
    "        den.append(i[1])\n",
    "        tms.append(i[0])\n",
    "    denom = reduce(lcm, den, 1)\n",
    "    return [[denom//a*b,denom] for a,b in zip(den,tms)]\n",
    "\n",
    "convertFracts([[1, 2], [1, 3], [1, 4]])\n",
    "\n",
    "# 908 ms"
   ]
  },
  {
   "cell_type": "code",
   "execution_count": null,
   "metadata": {},
   "outputs": [],
   "source": [
    "# решение с кв, 840 ms\n",
    "\n",
    "from fractions import gcd\n",
    "\n",
    "def convertFracts(lst):\n",
    "    D = 1\n",
    "    for _,d in lst:\n",
    "        D*= d//gcd(d,D) # общ множ умножает на: второе число//общий множ(второе число/общ множ). \n",
    "        #т.е. если нужно D больше, ты его получишь\n",
    "    return [[D*n//d,D] for n,d in lst]"
   ]
  }
 ],
 "metadata": {
  "kernelspec": {
   "display_name": "Python 3",
   "language": "python",
   "name": "python3"
  },
  "language_info": {
   "codemirror_mode": {
    "name": "ipython",
    "version": 3
   },
   "file_extension": ".py",
   "mimetype": "text/x-python",
   "name": "python",
   "nbconvert_exporter": "python",
   "pygments_lexer": "ipython3",
   "version": "3.7.3"
  }
 },
 "nbformat": 4,
 "nbformat_minor": 2
}
