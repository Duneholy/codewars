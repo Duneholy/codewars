{
 "cells": [
  {
   "cell_type": "code",
   "execution_count": 1,
   "metadata": {},
   "outputs": [],
   "source": [
    "# https://www.codewars.com/kata/common-denominators/train/python"
   ]
  },
  {
   "cell_type": "code",
   "execution_count": 15,
   "metadata": {},
   "outputs": [
    {
     "data": {
      "text/plain": [
       "[[2, 1], [3, 1], [4, 1]]"
      ]
     },
     "execution_count": 15,
     "metadata": {},
     "output_type": "execute_result"
    }
   ],
   "source": [
    "from math import gcd\n",
    "from functools import reduce\n",
    "\n",
    "def lcm(a, b):\n",
    "    return (a * b) // gcd(a, b)\n",
    "    \n",
    "def convertFracts(lst):\n",
    "    den = []\n",
    "    tms = []\n",
    "    for i in lst:\n",
    "        den.append(i[1])\n",
    "        tms.append(i[0])\n",
    "    denom = reduce(lcm, den, 1)\n",
    "    return [[,denom] for a,b in zip(den,tms)]\n",
    "\n",
    "convertFracts([[1, 2], [1, 3], [1, 4]])"
   ]
  },
  {
   "cell_type": "code",
   "execution_count": 13,
   "metadata": {},
   "outputs": [
    {
     "name": "stdout",
     "output_type": "stream",
     "text": [
      "[1, 1, 1] [2, 3, 4]\n"
     ]
    }
   ],
   "source": [
    "a = [[1, 2], [1, 3], [1, 4]]\n",
    "ls1 = []\n",
    "ls2 = []\n",
    "for i in a:\n",
    "    ls1.append(i[0])\n",
    "    ls2.append(i[1])\n",
    "print (ls1,ls2)\n"
   ]
  },
  {
   "cell_type": "code",
   "execution_count": null,
   "metadata": {},
   "outputs": [],
   "source": []
  }
 ],
 "metadata": {
  "kernelspec": {
   "display_name": "Python 3",
   "language": "python",
   "name": "python3"
  },
  "language_info": {
   "codemirror_mode": {
    "name": "ipython",
    "version": 3
   },
   "file_extension": ".py",
   "mimetype": "text/x-python",
   "name": "python",
   "nbconvert_exporter": "python",
   "pygments_lexer": "ipython3",
   "version": "3.7.3"
  }
 },
 "nbformat": 4,
 "nbformat_minor": 2
}
