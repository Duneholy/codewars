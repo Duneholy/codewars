{
 "cells": [
  {
   "cell_type": "code",
   "execution_count": 1,
   "metadata": {},
   "outputs": [],
   "source": [
    "# https://www.codewars.com/kata/greed-is-good/train/python\n",
    "\n",
    "#  Three 1's => 1000 points\n",
    "#  Three 6's =>  600 points\n",
    "#  Three 5's =>  500 points\n",
    "#  Three 4's =>  400 points\n",
    "#  Three 3's =>  300 points\n",
    "#  Three 2's =>  200 points\n",
    "#  One   1   =>  100 points\n",
    "#  One   5   =>   50 point"
   ]
  },
  {
   "cell_type": "code",
   "execution_count": 20,
   "metadata": {},
   "outputs": [],
   "source": [
    "def score(dice):\n",
    "    res = 0\n",
    "    d = {1:0, 2:0, 3:0, 4:0, 5:0, 6:0\n",
    "    }\n",
    "    for i in dice:\n",
    "        d[i]+=1\n",
    "    for k,v in d.items():\n",
    "        if k==1:\n",
    "            if v>=3:\n",
    "                res += 1000\n",
    "                v -= 3\n",
    "            if v>0:\n",
    "                res+=v*100\n",
    "        elif k==5:\n",
    "            if v>=3:\n",
    "                res += k*100\n",
    "                v -= 3\n",
    "            if v>0:\n",
    "                res+=v*50\n",
    "        else:\n",
    "            if v>=3:\n",
    "                res+=k*100\n",
    "    return res"
   ]
  },
  {
   "cell_type": "code",
   "execution_count": 21,
   "metadata": {},
   "outputs": [
    {
     "name": "stdout",
     "output_type": "stream",
     "text": [
      "400 400\n"
     ]
    }
   ],
   "source": [
    "print (score([4, 4, 4, 3, 3]), 400)"
   ]
  },
  {
   "cell_type": "code",
   "execution_count": null,
   "metadata": {},
   "outputs": [],
   "source": [
    "def score(dice): \n",
    "    sum = 0\n",
    "    counter = [0,0,0,0,0,0]\n",
    "    points = [1000, 200, 300, 400, 500, 600]\n",
    "    extra = [100,0,0,0,50,0]\n",
    "    for die in dice: \n",
    "        counter[die-1] += 1\n",
    "  \n",
    "    for (i, count) in enumerate(counter):\n",
    "        sum += (points[i] if count >= 3 else 0) + extra[i] * (count%3)\n",
    "\n",
    "    return sum "
   ]
  }
 ],
 "metadata": {
  "kernelspec": {
   "display_name": "Python 3",
   "language": "python",
   "name": "python3"
  },
  "language_info": {
   "codemirror_mode": {
    "name": "ipython",
    "version": 3
   },
   "file_extension": ".py",
   "mimetype": "text/x-python",
   "name": "python",
   "nbconvert_exporter": "python",
   "pygments_lexer": "ipython3",
   "version": "3.7.3"
  }
 },
 "nbformat": 4,
 "nbformat_minor": 2
}
