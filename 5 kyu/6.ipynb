{
 "cells": [
  {
   "cell_type": "code",
   "execution_count": null,
   "metadata": {},
   "outputs": [],
   "source": [
    "# Once upon a time, on a way through the old wild west,…\n",
    "# … a man was given directions to go from one point to another. \n",
    "# The directions were \"NORTH\", \"SOUTH\", \"WEST\", \"EAST\". Clearly \"NORTH\" and \"SOUTH\" \n",
    "# are opposite, \"WEST\" and \"EAST\" too. Going to one direction and coming back the opposite \n",
    "# direction is a needless effort. Since this is the wild west, with dreadfull weather and \n",
    "# not much water, it's important to save yourself some energy, otherwise you might die of thirst!\n",
    "\n",
    "# How I crossed the desert the smart way.\n",
    "# The directions given to the man are, for example, the following (depending on the language):\n",
    "\n",
    "# [\"NORTH\", \"SOUTH\", \"SOUTH\", \"EAST\", \"WEST\", \"NORTH\", \"WEST\"].\n",
    "# or\n",
    "\n",
    "# { \"NORTH\", \"SOUTH\", \"SOUTH\", \"EAST\", \"WEST\", \"NORTH\", \"WEST\" };\n",
    "# or\n",
    "\n",
    "# [North, South, South, East, West, North, West]\n",
    "# You can immediatly see that going \"NORTH\" and then \"SOUTH\" is not reasonable, \n",
    "# better stay to the same place! So the task is to give to the man a simplified \n",
    "# version of the plan. A better plan in this case is simply:\n",
    "\n",
    "# [\"WEST\"]"
   ]
  },
  {
   "cell_type": "code",
   "execution_count": 2,
   "metadata": {},
   "outputs": [],
   "source": [
    "def dirReduc(arr):\n",
    "    dict = {\"NORTH\":\"SOUTH\",\"SOUTH\":\"NORTH\",\"EAST\":\"WEST\",\"WEST\":\"EAST\"}\n",
    "    res = []\n",
    "    for i in arr:\n",
    "        if res and dict[i] == res[-1]:\n",
    "            res.pop()\n",
    "        else:\n",
    "            res.append(i)\n",
    "    return res"
   ]
  },
  {
   "cell_type": "code",
   "execution_count": null,
   "metadata": {},
   "outputs": [],
   "source": []
  }
 ],
 "metadata": {
  "kernelspec": {
   "display_name": "Python 3",
   "language": "python",
   "name": "python3"
  },
  "language_info": {
   "codemirror_mode": {
    "name": "ipython",
    "version": 3
   },
   "file_extension": ".py",
   "mimetype": "text/x-python",
   "name": "python",
   "nbconvert_exporter": "python",
   "pygments_lexer": "ipython3",
   "version": "3.7.3"
  }
 },
 "nbformat": 4,
 "nbformat_minor": 2
}
