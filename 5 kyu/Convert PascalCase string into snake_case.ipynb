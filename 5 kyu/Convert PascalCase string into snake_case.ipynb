{
 "cells": [
  {
   "cell_type": "code",
   "execution_count": 1,
   "metadata": {},
   "outputs": [],
   "source": [
    "# https://www.codewars.com/kata/convert-pascalcase-string-into-snake-case/train/python\n",
    "\n",
    "# returns test_controller\n",
    "# to_underscore('TestController')\n",
    "\n",
    "# returns movies_and_books\n",
    "# to_underscore('MoviesAndBooks')\n",
    "\n",
    "# returns app7_test\n",
    "# to_underscore('App7Test')\n",
    "\n",
    "# returns \"1\"\n",
    "# to_underscore(1)"
   ]
  },
  {
   "cell_type": "code",
   "execution_count": 8,
   "metadata": {},
   "outputs": [],
   "source": [
    "from re import sub\n",
    "\n",
    "\n",
    "def to_underscore(string):\n",
    "    if not isinstance(string, str):\n",
    "        string = str(string)\n",
    "    return '_'.join(i.lower() for i in sub(r\"([A-Z])\", r\" \\1\", string).split())"
   ]
  },
  {
   "cell_type": "code",
   "execution_count": 11,
   "metadata": {},
   "outputs": [],
   "source": [
    "# с кв, проще чем у меня\n",
    "\n",
    "import re\n",
    "\n",
    "def to_underscore(string):\n",
    "    return re.sub(r'(.)([A-Z])', r'\\1_\\2', str(string)).lower()    "
   ]
  },
  {
   "cell_type": "code",
   "execution_count": 13,
   "metadata": {},
   "outputs": [],
   "source": [
    "# сначала тоже так хотел сделать\n",
    "\n",
    "def to_underscore(string):\n",
    "    return ''.join('_'+c.lower() if c.isupper() else c for c in str(string)).lstrip('_')"
   ]
  },
  {
   "cell_type": "code",
   "execution_count": 14,
   "metadata": {},
   "outputs": [
    {
     "data": {
      "text/plain": [
       "'kek_ovsky'"
      ]
     },
     "execution_count": 14,
     "metadata": {},
     "output_type": "execute_result"
    }
   ],
   "source": [
    "to_underscore('KekOvsky')"
   ]
  },
  {
   "cell_type": "code",
   "execution_count": null,
   "metadata": {},
   "outputs": [],
   "source": []
  }
 ],
 "metadata": {
  "kernelspec": {
   "display_name": "Python 3",
   "language": "python",
   "name": "python3"
  },
  "language_info": {
   "codemirror_mode": {
    "name": "ipython",
    "version": 3
   },
   "file_extension": ".py",
   "mimetype": "text/x-python",
   "name": "python",
   "nbconvert_exporter": "python",
   "pygments_lexer": "ipython3",
   "version": "3.7.3"
  }
 },
 "nbformat": 4,
 "nbformat_minor": 2
}
