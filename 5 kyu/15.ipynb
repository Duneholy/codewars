{
 "cells": [
  {
   "cell_type": "code",
   "execution_count": null,
   "metadata": {},
   "outputs": [],
   "source": [
    "# https://www.codewars.com/kata/merged-string-checker/train/python"
   ]
  },
  {
   "cell_type": "code",
   "execution_count": null,
   "metadata": {},
   "outputs": [],
   "source": [
    "# Test.expect(is_merge('codewars', 'code', 'wars'));\n",
    "# Test.expect(is_merge('codewars', 'cdw', 'oears'));\n",
    "# Test.expect(not is_merge('codewars', 'cod', 'wars'));"
   ]
  },
  {
   "cell_type": "code",
   "execution_count": 57,
   "metadata": {},
   "outputs": [],
   "source": [
    "from collections import OrderedDict \n",
    "  \n",
    "def checkOrder(input, pattern): \n",
    "    dict = OrderedDict.fromkeys(input) \n",
    "    ptrlen = 0 \n",
    "    for key,value in dict.items(): \n",
    "        if (key == pattern[ptrlen]): \n",
    "            ptrlen = ptrlen + 1\n",
    "        if (ptrlen == (len(pattern))): \n",
    "            return True\n",
    "    return False\n",
    "\n",
    "def is_merge(s, part1, part2):\n",
    "    if len(part1)+len(part2)!=len(s):\n",
    "        return False\n",
    "    for i in s:\n",
    "        if i not in part1 and i not in part2:\n",
    "            return False\n",
    "        \n",
    "    if part1 and not checkOrder(s,part1):\n",
    "        return False\n",
    "    if part2 and not checkOrder(s,part2):\n",
    "        return False\n",
    "    return True \n",
    "\n",
    "#мое решение, но не прошло все тесты."
   ]
  },
  {
   "cell_type": "code",
   "execution_count": 58,
   "metadata": {},
   "outputs": [
    {
     "data": {
      "text/plain": [
       "True"
      ]
     },
     "execution_count": 58,
     "metadata": {},
     "output_type": "execute_result"
    }
   ],
   "source": [
    "is_merge('codewars', 'cdw', 'oears')"
   ]
  },
  {
   "cell_type": "code",
   "execution_count": 59,
   "metadata": {},
   "outputs": [],
   "source": [
    "def is_merge(s, part1, part2):\n",
    "    if not part1:\n",
    "        return s == part2\n",
    "    if not part2:\n",
    "        return s == part1\n",
    "    if not s:\n",
    "        return part1 + part2 == ''\n",
    "    ############ пока простые проверки, все ясно\n",
    "    if s[0] == part1[0] and is_merge(s[1:], part1[1:], part2):\n",
    "        return True #пошла проверка всех символов тк каждый цикл запускается функция\n",
    "    if s[0] == part2[0] and is_merge(s[1:], part1, part2[1:]):\n",
    "        return True #аналогично для ч2\n",
    "    return False\n",
    "#с кв, запускает последовательность "
   ]
  },
  {
   "cell_type": "code",
   "execution_count": 60,
   "metadata": {},
   "outputs": [
    {
     "data": {
      "text/plain": [
       "True"
      ]
     },
     "execution_count": 60,
     "metadata": {},
     "output_type": "execute_result"
    }
   ],
   "source": [
    "is_merge('codewars', 'cdw', 'oears')"
   ]
  },
  {
   "cell_type": "code",
   "execution_count": null,
   "metadata": {},
   "outputs": [],
   "source": []
  }
 ],
 "metadata": {
  "kernelspec": {
   "display_name": "Python 3",
   "language": "python",
   "name": "python3"
  },
  "language_info": {
   "codemirror_mode": {
    "name": "ipython",
    "version": 3
   },
   "file_extension": ".py",
   "mimetype": "text/x-python",
   "name": "python",
   "nbconvert_exporter": "python",
   "pygments_lexer": "ipython3",
   "version": "3.7.3"
  }
 },
 "nbformat": 4,
 "nbformat_minor": 2
}
