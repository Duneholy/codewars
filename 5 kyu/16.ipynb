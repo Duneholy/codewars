{
 "cells": [
  {
   "cell_type": "code",
   "execution_count": null,
   "metadata": {},
   "outputs": [],
   "source": [
    "# https://www.codewars.com/kata/longest-common-subsequence/python"
   ]
  },
  {
   "cell_type": "code",
   "execution_count": 17,
   "metadata": {},
   "outputs": [],
   "source": [
    "def lcs(xstr, ystr):\n",
    "\n",
    "    if not xstr or not ystr:\n",
    "        return \"\"\n",
    "    x,y = xstr[0], ystr[0] # берет 1 символ\n",
    "    xs, ys = xstr[1:],ystr[1:] # берет все после него\n",
    "    if x == y: #если символы совпадают, запускает еще раз функцию со всем, что осталось кроме 0 символа\n",
    "        return x + lcs(xs, ys) #сохраняет 1 совпадение по символам и прибавляет второе совпадение итд\n",
    "    else:\n",
    "        return max(lcs(xstr, ys), lcs(xs, ystr), key=len) #если совпадение не произошло, то возвращает самый длинный вариант\n",
    "    #от выполнения функции с оставшейся частью и оригинальной строки"
   ]
  },
  {
   "cell_type": "code",
   "execution_count": 18,
   "metadata": {},
   "outputs": [
    {
     "data": {
      "text/plain": [
       "'av'"
      ]
     },
     "execution_count": 18,
     "metadata": {},
     "output_type": "execute_result"
    }
   ],
   "source": [
    "lcs('avvaavav','av')"
   ]
  },
  {
   "cell_type": "code",
   "execution_count": 11,
   "metadata": {},
   "outputs": [],
   "source": [
    "from itertools import combinations\n",
    "\n",
    "def subsequences(s):\n",
    "    \"\"\"Returns set of all subsequences in s.\"\"\"\n",
    "    return set(''.join(c) for i in range(len(s) + 1) for c in combinations(s, i))\n",
    "\n",
    "def lcs(x, y):\n",
    "    \"\"\"Returns longest matching subsequence of two strings.\"\"\"\n",
    "    return max(subsequences(x).intersection(subsequences(y)), key=len)"
   ]
  },
  {
   "cell_type": "code",
   "execution_count": null,
   "metadata": {},
   "outputs": [],
   "source": []
  }
 ],
 "metadata": {
  "kernelspec": {
   "display_name": "Python 3",
   "language": "python",
   "name": "python3"
  },
  "language_info": {
   "codemirror_mode": {
    "name": "ipython",
    "version": 3
   },
   "file_extension": ".py",
   "mimetype": "text/x-python",
   "name": "python",
   "nbconvert_exporter": "python",
   "pygments_lexer": "ipython3",
   "version": "3.7.3"
  }
 },
 "nbformat": 4,
 "nbformat_minor": 2
}
