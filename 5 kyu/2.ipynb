{
 "cells": [
  {
   "cell_type": "code",
   "execution_count": null,
   "metadata": {},
   "outputs": [],
   "source": [
    "#Write a function, which takes a non-negative integer (seconds) as input and \n",
    "#returns the time in a human-readable format (HH:MM:SS)\n",
    "\n",
    "#HH = hours, padded to 2 digits, range: 00 - 99\n",
    "#MM = minutes, padded to 2 digits, range: 00 - 59\n",
    "#SS = seconds, padded to 2 digits, range: 00 - 59\n",
    "#The maximum time never exceeds 359999 (99:59:59)"
   ]
  },
  {
   "cell_type": "code",
   "execution_count": 56,
   "metadata": {},
   "outputs": [],
   "source": [
    "import datetime\n",
    "from time import strftime\n",
    "from time import gmtime\n",
    "def make_readable(seconds):\n",
    "    time1 = str(datetime.timedelta(seconds=seconds))\n",
    "    time2 = strftime(\"%H:%M:%S\", gmtime(seconds))\n",
    "    if seconds <= 86399:\n",
    "        return time2\n",
    "    else:\n",
    "        return str((int(time1[0])*24)+int(time2[0:2])) + time2[2:]"
   ]
  },
  {
   "cell_type": "code",
   "execution_count": 57,
   "metadata": {},
   "outputs": [
    {
     "name": "stdout",
     "output_type": "stream",
     "text": [
      "99:59:59\n"
     ]
    }
   ],
   "source": [
    "print (make_readable(359999))"
   ]
  },
  {
   "cell_type": "code",
   "execution_count": 60,
   "metadata": {},
   "outputs": [],
   "source": [
    "def make_readable(seconds):\n",
    "    hours, seconds = divmod(seconds, 60 ** 2)\n",
    "    minutes, seconds = divmod(seconds, 60)\n",
    "    return '{:02}:{:02}:{:02}'.format(hours, minutes, seconds)"
   ]
  },
  {
   "cell_type": "code",
   "execution_count": 61,
   "metadata": {},
   "outputs": [
    {
     "name": "stdout",
     "output_type": "stream",
     "text": [
      "99:59:59\n"
     ]
    }
   ],
   "source": [
    "print (make_readable(359999))"
   ]
  },
  {
   "cell_type": "code",
   "execution_count": 62,
   "metadata": {},
   "outputs": [],
   "source": [
    "#изучить divmod"
   ]
  },
  {
   "cell_type": "code",
   "execution_count": null,
   "metadata": {},
   "outputs": [],
   "source": []
  }
 ],
 "metadata": {
  "kernelspec": {
   "display_name": "Python 3",
   "language": "python",
   "name": "python3"
  },
  "language_info": {
   "codemirror_mode": {
    "name": "ipython",
    "version": 3
   },
   "file_extension": ".py",
   "mimetype": "text/x-python",
   "name": "python",
   "nbconvert_exporter": "python",
   "pygments_lexer": "ipython3",
   "version": "3.7.3"
  }
 },
 "nbformat": 4,
 "nbformat_minor": 2
}
