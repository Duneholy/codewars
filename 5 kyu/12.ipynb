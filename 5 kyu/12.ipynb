{
 "cells": [
  {
   "cell_type": "code",
   "execution_count": 1,
   "metadata": {},
   "outputs": [],
   "source": [
    "#https://www.codewars.com/kata/559a28007caad2ac4e000083\n",
    "\n",
    "# The drawing shows 6 squares the sides of which have a length of 1, 1, 2, 3, 5, 8. \n",
    "# It's easy to see that the sum of the perimeters of these squares is : 4 * (1 + 1 + 2 + 3 + 5 + 8) = 4 * 20 = 80\n",
    "\n",
    "# Could you give the sum of the perimeters of all the squares in a rectangle when there are n + 1 \n",
    "# squares disposed in the same manner as in the drawing:\n",
    "\n",
    "# alternative text\n",
    "\n",
    "# #Hint: See Fibonacci sequence\n",
    "\n",
    "# #Ref: http://oeis.org/A000045\n",
    "\n",
    "# The function perimeter has for parameter n where n + 1 is the number of squares (they are \n",
    "# numbered from 0 to n) and returns the total perimeter of all the squares.\n",
    "\n",
    "# perimeter(5)  should return 80\n",
    "# perimeter(7)  should return 216"
   ]
  },
  {
   "cell_type": "code",
   "execution_count": 2,
   "metadata": {},
   "outputs": [],
   "source": [
    "# test.assert_equals(perimeter(5), 80)\n",
    "# test.assert_equals(perimeter(7), 216)\n",
    "# test.assert_equals(perimeter(20), 114624)\n",
    "# test.assert_equals(perimeter(30), 14098308)\n",
    "# test.assert_equals(perimeter(100), 6002082144827584333104)"
   ]
  },
  {
   "cell_type": "code",
   "execution_count": null,
   "metadata": {},
   "outputs": [],
   "source": [
    "def perimeter(n):\n",
    "    # your code"
   ]
  }
 ],
 "metadata": {
  "kernelspec": {
   "display_name": "Python 3",
   "language": "python",
   "name": "python3"
  },
  "language_info": {
   "codemirror_mode": {
    "name": "ipython",
    "version": 3
   },
   "file_extension": ".py",
   "mimetype": "text/x-python",
   "name": "python",
   "nbconvert_exporter": "python",
   "pygments_lexer": "ipython3",
   "version": "3.7.3"
  }
 },
 "nbformat": 4,
 "nbformat_minor": 2
}
