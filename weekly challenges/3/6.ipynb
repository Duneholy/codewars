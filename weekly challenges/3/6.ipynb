{
 "cells": [
  {
   "cell_type": "code",
   "execution_count": 26,
   "metadata": {},
   "outputs": [],
   "source": [
    "def get_order(order):\n",
    "    ex = ['burger', 'fries', 'chicken', 'pizza', 'sandwich', 'onionrings', 'milkshake', 'coke']\n",
    "    res = []\n",
    "    start = 0\n",
    "    while order:\n",
    "        if order[:start] in ex:\n",
    "            res.append (order[:start])\n",
    "            order = order[start:]\n",
    "            start = 0\n",
    "        else:\n",
    "            start += 1\n",
    "    print (order)\n",
    "    return ' '.join(i.capitalize() for i in sorted(res, key=ex.index))"
   ]
  },
  {
   "cell_type": "code",
   "execution_count": 27,
   "metadata": {},
   "outputs": [
    {
     "name": "stdout",
     "output_type": "stream",
     "text": [
      "\n",
      "Burger Fries Chicken Pizza Pizza Pizza Sandwich Milkshake Milkshake Coke\n"
     ]
    }
   ],
   "source": [
    "print (get_order(\"milkshakepizzachickenfriescokeburgerpizzasandwichmilkshakepizza\"))"
   ]
  },
  {
   "cell_type": "code",
   "execution_count": null,
   "metadata": {},
   "outputs": [],
   "source": [
    "def get_order(order):\n",
    "    menu = ['burger', 'fries', 'chicken', 'pizza', 'sandwich', 'onionrings', 'milkshake', 'coke']\n",
    "    clean_order = ''\n",
    "    for i in menu:\n",
    "        clean_order += (i.capitalize() + ' ') * order.count(i)\n",
    "    return clean_order[:-1]"
   ]
  }
 ],
 "metadata": {
  "kernelspec": {
   "display_name": "Python 3",
   "language": "python",
   "name": "python3"
  },
  "language_info": {
   "codemirror_mode": {
    "name": "ipython",
    "version": 3
   },
   "file_extension": ".py",
   "mimetype": "text/x-python",
   "name": "python",
   "nbconvert_exporter": "python",
   "pygments_lexer": "ipython3",
   "version": "3.7.3"
  }
 },
 "nbformat": 4,
 "nbformat_minor": 2
}
