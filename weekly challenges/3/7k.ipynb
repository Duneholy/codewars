{
 "cells": [
  {
   "cell_type": "code",
   "execution_count": 3,
   "metadata": {},
   "outputs": [],
   "source": [
    "# Given an array/list [] of n integers , \n",
    "# Arrange them in a way similar to the to-and-fro movement of a Pendulum\n",
    "\n",
    "# The Smallest element of the list of integers , must come in center position of array/list.\n",
    "\n",
    "# The Higher than smallest , goes to the right .\n",
    "# The Next higher number goes to the left of minimum number and So on , \n",
    "# in a to-and-fro manner similar to that of a Pendulum.\n",
    "\n",
    "# Array/list size is at least *3*** .\n",
    "\n",
    "# In Even array size , The minimum element should be moved to (n-1)/2 index (considering that indexes start from 0)\n",
    "\n",
    "# Repetition of numbers in the array/list could occur , So (duplications are included when Arranging)."
   ]
  },
  {
   "cell_type": "code",
   "execution_count": 13,
   "metadata": {},
   "outputs": [],
   "source": [
    "def pendulum(values):\n",
    "    res = []\n",
    "    for i in sorted(values):\n",
    "        res = res[::-1]\n",
    "        res.append(i)\n",
    "    return res"
   ]
  },
  {
   "cell_type": "code",
   "execution_count": 14,
   "metadata": {},
   "outputs": [
    {
     "name": "stdout",
     "output_type": "stream",
     "text": [
      "[13, 3, -12, -18, -16, -11, 11, 18]\n"
     ]
    }
   ],
   "source": [
    "print (pendulum([11, -16, -18, 13, -11, -12, 3, 18 ]))"
   ]
  },
  {
   "cell_type": "code",
   "execution_count": 38,
   "metadata": {},
   "outputs": [
    {
     "name": "stdout",
     "output_type": "stream",
     "text": [
      "[13, 3, -12, -18, -16, -11, 11, 18]\n"
     ]
    }
   ],
   "source": [
    "x = [11, -16, -18, 13, -11, -12, 3, 18 ]\n",
    "xs = sorted(x)\n",
    "a = []\n",
    "for i in range(len(x)):\n",
    "    a = a[::-1]\n",
    "    a.append(xs.pop(0))\n",
    "print (a)"
   ]
  },
  {
   "cell_type": "code",
   "execution_count": null,
   "metadata": {},
   "outputs": [],
   "source": [
    "def pendulum(a):\n",
    "    a = sorted(a)\n",
    "    return a[::2][::-1] + a[1::2]"
   ]
  }
 ],
 "metadata": {
  "kernelspec": {
   "display_name": "Python 3",
   "language": "python",
   "name": "python3"
  },
  "language_info": {
   "codemirror_mode": {
    "name": "ipython",
    "version": 3
   },
   "file_extension": ".py",
   "mimetype": "text/x-python",
   "name": "python",
   "nbconvert_exporter": "python",
   "pygments_lexer": "ipython3",
   "version": "3.7.3"
  }
 },
 "nbformat": 4,
 "nbformat_minor": 2
}
