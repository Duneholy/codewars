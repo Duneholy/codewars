{
 "cells": [
  {
   "cell_type": "code",
   "execution_count": 1,
   "metadata": {},
   "outputs": [],
   "source": [
    "#https://www.codewars.com/kata/iterative-rotation-cipher\n",
    "\n",
    "# In this kata, your task is to implement what I call Iterative Rotation Cipher (IRC). \n",
    "# To complete the task, you will create an object with two methods, encode and decode. \n",
    "# (For non-JavaScript versions, you only need to write the two functions without the enclosing dict)\n",
    "\n",
    "# Input\n",
    "# The encode method will receive two arguments — a positive integer n and a string value.\n",
    "\n",
    "# The decode method will receive one argument — a string value.\n",
    "\n",
    "# Output\n",
    "# Each method will return a string value.\n",
    "\n",
    "# How It Works\n",
    "# Encoding and decoding are done by performing a series of character and substring rotations on a string input.\n",
    "\n",
    "# Encoding: The number of rotations is determined by the value of n. The sequence of rotations is \n",
    "#     applied in the following order:\n",
    "#  Step 1: remove all spaces in the string (but remember their positions)\n",
    "#  Step 2: shift the order of characters in the new string to the right by n characters\n",
    "#  Step 3: put the spaces back in their original positions\n",
    "#  Step 4: shift the characters of each substring (separated by one or more consecutive spaces) \n",
    "#     to the right by n\n",
    "# Repeat this process until it has been completed n times in total.\n",
    "# The value n is then prepended to the resulting string with a space.\n",
    "\n",
    "# Decoding: Decoding simply reverses the encoding process.\n",
    "\n",
    "# Test Example\n",
    "# quote = 'If you wish to make an apple pie from scratch, you must first invent the universe.'\n",
    "# solution = '10 hu fmo a,ys vi utie mr snehn rni tvte .ysushou teI fwea pmapi apfrok rei tnocsclet'\n",
    "# IterativeRotationCipher['encode'](10,quote) == solution; //True\n",
    "\n",
    "\n",
    "# '''Step-by-step breakdown:\n",
    "# Step 1 — remove all spaces:\n",
    "# 'Ifyouwishtomakeanapplepiefromscratch,youmustfirstinventtheuniverse.'\n",
    "\n",
    "# Step 2 — shift the order of string characters to the right by 10:\n",
    "# 'euniverse.Ifyouwishtomakeanapplepiefromscratch,youmustfirstinventth'\n",
    "\n",
    "# Step 3 — place the spaces back in their original positions:\n",
    "# 'eu niv erse .I fyou wi shtom ake anap plepiefr oms crat ch,yo umustf irs tinventth'\n",
    "\n",
    "# Step 4 — shift the order of characters for each space-separated substring to the right by 10:\n",
    "# 'eu vni seer .I oufy wi shtom eak apan frplepie som atcr ch,yo ustfum sir htinventt'\n",
    "\n",
    "# Repeat the steps 9 more times before returning the string with '10 ' prepended.\n",
    "# '''\n",
    "# Technical Details\n",
    "# Input will always be valid.\n",
    "# The characters used in the strings include any combination of alphanumeric characters, \n",
    "# the space character, the newline character, and any of the following _!@#$%^&()[]{}+-*/=\"'<>,.?:;."
   ]
  },
  {
   "cell_type": "code",
   "execution_count": 2,
   "metadata": {},
   "outputs": [],
   "source": [
    "# test.describe('Example Tests')\n",
    "# IterativeRotationCipher = {'encode':encode,'decode':decode}\n",
    "# encode_examples = [\n",
    "# \t[10,'If you wish to make an apple pie from scratch, you must first invent the universe.'],\n",
    "# \t[14,'True evil is a mundane bureaucracy.'],\n",
    "# \t[22,'There is nothing more atrociously cruel than an adored child.'],\n",
    "# \t[36,'As I was going up the stair\\nI met a man who wasn\\'t there!\\nHe wasn\\'t there again today,\\nOh how I wish he\\'d go away!'],\n",
    "# \t[29,'I avoid that bleak first hour of the working day during which my still sluggish senses and body make every chore a penance.\\nI find that in arriving later, the work which I do perform is of a much higher quality.']\n",
    "# ]\n",
    "# decode_examples = [\n",
    "# \t'10 hu fmo a,ys vi utie mr snehn rni tvte .ysushou teI fwea pmapi apfrok rei tnocsclet',\n",
    "# \t'14 daue ilev is a munbune Traurecracy.',\n",
    "# \t'22 tareu oo iucnaTr dled oldthser.hg hiarm nhcn se rliyet oincoa',\n",
    "# \t'36 ws h weA dgIaa ug owh n!asrit git \\n msm phw teaI\\'e tanantwhe reos\\ns ther! aHeae \\'gwadin\\nt haw n htoo ,I\\'i sy aohOy',\n",
    "# \t'29 a r.lht niou gwryd aoshg gIsi mk lei adwhfci isd seensn rdohy mo kleie oltbyhes a\\naneu p.n rndr tehh irnne yifav t eo,raclhtc frpw IIti im gwkaidhv aicufh ima doea eruhi y io qshhcoa kr ef l btah gtrrse otnvugrt'\n",
    "# ]\n",
    "# for i,v in enumerate(encode_examples):\n",
    "# \ttest.assert_equals(IterativeRotationCipher['encode'](v[0],v[1]),decode_examples[i])\n",
    "# for i,v in enumerate(decode_examples):\n",
    "# \ttest.assert_equals(IterativeRotationCipher['decode'](v),encode_examples[i][1])"
   ]
  },
  {
   "cell_type": "code",
   "execution_count": 80,
   "metadata": {},
   "outputs": [],
   "source": [
    "def encode(n,strng):\n",
    "    for cycle in range (n):\n",
    "        res = []\n",
    "        test = strng.replace(' ','')\n",
    "        test = test[-n:]+test[:-n]\n",
    "        for a,b in enumerate(strng):\n",
    "            if b==' ':\n",
    "                test = test[:a]+' '+test[a:]\n",
    "        for i in test.split():\n",
    "            filler = i\n",
    "            for x in range(n):\n",
    "                filler = filler[-1]+filler[:-1]\n",
    "            res.append(filler)\n",
    "        strng = ' '.join(res)\n",
    "    return strng\n",
    "\n",
    "def decode(strng):\n",
    "    strng = strng.split(\" \")\n",
    "    n = int(strng[0])\n",
    "    strng = \" \".join(strng[1:])\n",
    "    space_pos = [i for i in range(len(strng)) if strng[i] == \" \"] #we can do this here since the space positions dont change\n",
    "    \n",
    "    for j in range(n):\n",
    "        strng = strng.split(\" \")\n",
    "        #step 1 - shift all substrings left\n",
    "        for i in range(len(strng)):\n",
    "            if len(strng[i]) != 0 and n % len(strng[i]) != 0:\n",
    "                shft = n % len(strng[i])\n",
    "                strng[i] = strng[i][shft:] + strng[i][0:shft]\n",
    "\n",
    "        #step 2 - generate string without spaces\n",
    "        strng = \"\".join(strng)\n",
    "        \n",
    "        #step 3 - left shift\n",
    "        strng = strng[n:] + strng[0:n]\n",
    "        strng = list(strng)\n",
    "\n",
    "        #step 4 - put back spaces\n",
    "        for i in range(len(space_pos)):\n",
    "            strng.insert(space_pos[i], chr(32))\n",
    "        strng = \"\".join(strng)    \n",
    "        \n",
    "    return(strng)"
   ]
  },
  {
   "cell_type": "code",
   "execution_count": 83,
   "metadata": {},
   "outputs": [
    {
     "data": {
      "text/plain": [
       "'ma rie topp su h,mc ut rcyni srt tfin vesshnee eio wurt vIisu fh.yma aon lakpteeof'"
      ]
     },
     "execution_count": 83,
     "metadata": {},
     "output_type": "execute_result"
    }
   ],
   "source": [
    "encode (10,'If you wish to make an apple pie from scratch, you must first invent the universe.')\n",
    "decode ('10 eu vni seer .I oufy wi shtom eak apan frplepie som atcr ch,yo ustfum sir htinventt')"
   ]
  },
  {
   "cell_type": "code",
   "execution_count": 42,
   "metadata": {},
   "outputs": [],
   "source": [
    "# Step 1 — remove all spaces:\n",
    "# 'Ifyouwishtomakeanapplepiefromscratch,youmustfirstinventtheuniverse.'\n",
    "\n",
    "# Step 2 — shift the order of string characters to the right by 10:\n",
    "# 'euniverse.Ifyouwishtomakeanapplepiefromscratch,youmustfirstinventth'\n",
    "\n",
    "# Step 3 — place the spaces back in their original positions:\n",
    "# 'eu niv erse .I fyou wi shtom ake anap plepiefr oms crat ch,yo umustf irs tinventth'\n",
    "\n",
    "# Step 4 — shift the order of characters for each space-separated substring to the right by 10:\n",
    "# 'eu vni seer .I oufy wi shtom eak apan frplepie som atcr ch,yo ustfum sir htinventt'"
   ]
  },
  {
   "cell_type": "code",
   "execution_count": 56,
   "metadata": {},
   "outputs": [
    {
     "name": "stdout",
     "output_type": "stream",
     "text": [
      "htinventt\n",
      "thtinvent\n",
      "tthtinven\n",
      "ntthtinve\n",
      "entthtinv\n",
      "ventthtin\n",
      "nventthti\n",
      "inventtht\n",
      "tinventth\n",
      "htinventt\n"
     ]
    },
    {
     "data": {
      "text/plain": [
       "'htinventt'"
      ]
     },
     "execution_count": 56,
     "metadata": {},
     "output_type": "execute_result"
    }
   ],
   "source": [
    "a = 'tinventth'\n",
    "for i in range(10):\n",
    "    a = a[-1]+a[:-1]\n",
    "    print(a)\n",
    "a"
   ]
  },
  {
   "cell_type": "code",
   "execution_count": null,
   "metadata": {},
   "outputs": [],
   "source": []
  }
 ],
 "metadata": {
  "kernelspec": {
   "display_name": "Python 3",
   "language": "python",
   "name": "python3"
  },
  "language_info": {
   "codemirror_mode": {
    "name": "ipython",
    "version": 3
   },
   "file_extension": ".py",
   "mimetype": "text/x-python",
   "name": "python",
   "nbconvert_exporter": "python",
   "pygments_lexer": "ipython3",
   "version": "3.7.3"
  }
 },
 "nbformat": 4,
 "nbformat_minor": 2
}
