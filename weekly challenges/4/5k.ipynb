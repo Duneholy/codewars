{
 "cells": [
  {
   "cell_type": "code",
   "execution_count": 1,
   "metadata": {},
   "outputs": [],
   "source": [
    "#https://www.codewars.com/kata/iterative-rotation-cipher\n",
    "\n",
    "# In this kata, your task is to implement what I call Iterative Rotation Cipher (IRC). \n",
    "# To complete the task, you will create an object with two methods, encode and decode. \n",
    "# (For non-JavaScript versions, you only need to write the two functions without the enclosing dict)\n",
    "\n",
    "# Input\n",
    "# The encode method will receive two arguments — a positive integer n and a string value.\n",
    "\n",
    "# The decode method will receive one argument — a string value.\n",
    "\n",
    "# Output\n",
    "# Each method will return a string value.\n",
    "\n",
    "# How It Works\n",
    "# Encoding and decoding are done by performing a series of character and substring rotations on a string input.\n",
    "\n",
    "# Encoding: The number of rotations is determined by the value of n. The sequence of rotations is \n",
    "#     applied in the following order:\n",
    "#  Step 1: remove all spaces in the string (but remember their positions)\n",
    "#  Step 2: shift the order of characters in the new string to the right by n characters\n",
    "#  Step 3: put the spaces back in their original positions\n",
    "#  Step 4: shift the characters of each substring (separated by one or more consecutive spaces) \n",
    "#     to the right by n\n",
    "# Repeat this process until it has been completed n times in total.\n",
    "# The value n is then prepended to the resulting string with a space.\n",
    "\n",
    "# Decoding: Decoding simply reverses the encoding process.\n",
    "\n",
    "# Test Example\n",
    "# quote = 'If you wish to make an apple pie from scratch, you must first invent the universe.'\n",
    "# solution = '10 hu fmo a,ys vi utie mr snehn rni tvte .ysushou teI fwea pmapi apfrok rei tnocsclet'\n",
    "# IterativeRotationCipher['encode'](10,quote) == solution; //True\n",
    "\n",
    "\n",
    "# '''Step-by-step breakdown:\n",
    "# Step 1 — remove all spaces:\n",
    "# 'Ifyouwishtomakeanapplepiefromscratch,youmustfirstinventtheuniverse.'\n",
    "\n",
    "# Step 2 — shift the order of string characters to the right by 10:\n",
    "# 'euniverse.Ifyouwishtomakeanapplepiefromscratch,youmustfirstinventth'\n",
    "\n",
    "# Step 3 — place the spaces back in their original positions:\n",
    "# 'eu niv erse .I fyou wi shtom ake anap plepiefr oms crat ch,yo umustf irs tinventth'\n",
    "\n",
    "# Step 4 — shift the order of characters for each space-separated substring to the right by 10:\n",
    "# 'eu vni seer .I oufy wi shtom eak apan frplepie som atcr ch,yo ustfum sir htinventt'\n",
    "\n",
    "# Repeat the steps 9 more times before returning the string with '10 ' prepended.\n",
    "# '''\n",
    "# Technical Details\n",
    "# Input will always be valid.\n",
    "# The characters used in the strings include any combination of alphanumeric characters, \n",
    "# the space character, the newline character, and any of the following _!@#$%^&()[]{}+-*/=\"'<>,.?:;."
   ]
  },
  {
   "cell_type": "code",
   "execution_count": null,
   "metadata": {},
   "outputs": [],
   "source": []
  }
 ],
 "metadata": {
  "kernelspec": {
   "display_name": "Python 3",
   "language": "python",
   "name": "python3"
  },
  "language_info": {
   "codemirror_mode": {
    "name": "ipython",
    "version": 3
   },
   "file_extension": ".py",
   "mimetype": "text/x-python",
   "name": "python",
   "nbconvert_exporter": "python",
   "pygments_lexer": "ipython3",
   "version": "3.7.3"
  }
 },
 "nbformat": 4,
 "nbformat_minor": 2
}
