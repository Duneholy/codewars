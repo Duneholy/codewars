{
 "cells": [
  {
   "cell_type": "code",
   "execution_count": 1,
   "metadata": {},
   "outputs": [],
   "source": [
    "#https://www.codewars.com/kata/simplifying\n",
    "\n",
    "# You are given a list/array of example formulas such as:\n",
    "\n",
    "# [ \"a + a = b\", \"b - d = c \", \"a + b = d\" ]\n",
    "# Use this information to solve a formula in terms of the remaining symbol such as:\n",
    "\n",
    "# \"c + a + b\" = ?\n",
    "# in this example:\n",
    "\n",
    "# \"c + a + b\" = \"2a\"\n",
    "# Notes:\n",
    "\n",
    "# Variables names are case sensitive\n",
    "# There might be whitespaces between the different characters. Or not...\n",
    "# There should be support for parenthesis and their coefficient. Example: a + 3 (6b - c).\n",
    "# You might encounter several imbricated levels of parenthesis but you'll never get a variable \n",
    "# as coefficient for parenthesis, only constant terms.\n",
    "# All equations will be linear\n",
    "# See the sample tests for clarification of what exactly the input/ouput formatting should be.\n",
    "\n",
    "# Without giving away too many hints, the idea is to substitute the examples into the formula \n",
    "# and reduce the resulting equation to one unique term. Look carefully at the example tests: \n",
    "#     you'll have to identify the pattern used to replace variables in the formula/other equations. \n",
    "#     Only one solution is possible for each test, using this pattern, so if you keep asking yourself \n",
    "#     \"but what if I do that instead of...\", that is you missed the thing."
   ]
  },
  {
   "cell_type": "code",
   "execution_count": 2,
   "metadata": {},
   "outputs": [],
   "source": [
    "# examples=[[\"a + a = b\", \"b - d = c\", \"a + b = d\"],\n",
    "#           [\"a + 3g = k\", \"-70a = g\"],\n",
    "#           [\"-j -j -j + j = b\"]\n",
    "#          ]\n",
    "# formula=[\"c + a + b\",\n",
    "#          \"-k + a\",\n",
    "#          \"-j - b\"\n",
    "#         ]\n",
    "# answer=[\"2a\",\n",
    "#         \"210a\",\n",
    "#         \"1j\"\n",
    "#        ]\n",
    "\n",
    "# for i in range(len(answer)):\n",
    "#     print('examples:' + str(examples[i]))\n",
    "#     print('formula:' + str(formula[i]))\n",
    "#     print('expected answer:'+str(answer[i]))\n",
    "#     Test.assert_equals(simplify(examples[i],formula[i]),answer[i])"
   ]
  },
  {
   "cell_type": "code",
   "execution_count": null,
   "metadata": {},
   "outputs": [],
   "source": [
    "def simplify(examples,formula):\n",
    "    return formula[0]"
   ]
  }
 ],
 "metadata": {
  "kernelspec": {
   "display_name": "Python 3",
   "language": "python",
   "name": "python3"
  },
  "language_info": {
   "codemirror_mode": {
    "name": "ipython",
    "version": 3
   },
   "file_extension": ".py",
   "mimetype": "text/x-python",
   "name": "python",
   "nbconvert_exporter": "python",
   "pygments_lexer": "ipython3",
   "version": "3.7.3"
  }
 },
 "nbformat": 4,
 "nbformat_minor": 2
}
