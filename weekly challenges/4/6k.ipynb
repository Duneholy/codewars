{
 "cells": [
  {
   "cell_type": "code",
   "execution_count": 1,
   "metadata": {},
   "outputs": [],
   "source": [
    "#https://www.codewars.com/kata/reverse-fizzbuzz\n",
    "\n",
    "# FizzBuzz is often one of the first programming puzzle people learn. Now undo it with reverse FizzBuzz!\n",
    "\n",
    "# Write a function that accepts a string, which will always be a valid section of FizzBuzz. \n",
    "# Your function must return an array that contains the numbers in order to generate the given section of FizzBuzz.\n",
    "\n",
    "# Notes:\n",
    "\n",
    "# If the sequence can appear multiple times within FizzBuzz, return the numbers that generate the \n",
    "# first instance of that sequence.\n",
    "# All numbers in the sequence will be greater than zero.\n",
    "# You will never receive an empty sequence.\n",
    "# Examples\n",
    "# reverse_fizzbuzz(\"1 2 Fizz 4 Buzz\")        -->  [1, 2, 3, 4, 5]\n",
    "# reverse_fizzbuzz(\"Fizz 688 689 FizzBuzz\")  -->  [687, 688, 689, 690]\n",
    "# reverse_fizzbuzz(\"Fizz Buzz\")              -->  [9, 10]"
   ]
  },
  {
   "cell_type": "code",
   "execution_count": null,
   "metadata": {},
   "outputs": [],
   "source": []
  }
 ],
 "metadata": {
  "kernelspec": {
   "display_name": "Python 3",
   "language": "python",
   "name": "python3"
  },
  "language_info": {
   "codemirror_mode": {
    "name": "ipython",
    "version": 3
   },
   "file_extension": ".py",
   "mimetype": "text/x-python",
   "name": "python",
   "nbconvert_exporter": "python",
   "pygments_lexer": "ipython3",
   "version": "3.7.3"
  }
 },
 "nbformat": 4,
 "nbformat_minor": 2
}
