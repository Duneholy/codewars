{
 "cells": [
  {
   "cell_type": "code",
   "execution_count": 1,
   "metadata": {},
   "outputs": [],
   "source": [
    "#https://www.codewars.com/kata/reverse-fizzbuzz\n",
    "\n",
    "# FizzBuzz is often one of the first programming puzzle people learn. Now undo it with reverse FizzBuzz!\n",
    "\n",
    "# Write a function that accepts a string, which will always be a valid section of FizzBuzz. \n",
    "# Your function must return an array that contains the numbers in order to generate the given section of FizzBuzz.\n",
    "\n",
    "# Notes:\n",
    "\n",
    "# If the sequence can appear multiple times within FizzBuzz, return the numbers that generate the \n",
    "# first instance of that sequence.\n",
    "# All numbers in the sequence will be greater than zero.\n",
    "# You will never receive an empty sequence.\n",
    "# Examples\n",
    "# reverse_fizzbuzz(\"1 2 Fizz 4 Buzz\")        -->  [1, 2, 3, 4, 5]\n",
    "# reverse_fizzbuzz(\"Fizz 688 689 FizzBuzz\")  -->  [687, 688, 689, 690]\n",
    "# reverse_fizzbuzz(\"Fizz Buzz\")              -->  [9, 10]"
   ]
  },
  {
   "cell_type": "code",
   "execution_count": 2,
   "metadata": {},
   "outputs": [],
   "source": [
    "# test.describe(\"Sample tests\")\n",
    "\n",
    "# test.assert_equals(reverse_fizzbuzz(\"1 2 Fizz 4 Buzz\"), [1, 2, 3, 4, 5])\n",
    "# test.assert_equals(reverse_fizzbuzz(\"Fizz 688 689 FizzBuzz\"), [687, 688, 689, 690])\n",
    "# test.assert_equals(reverse_fizzbuzz(\"Fizz Buzz\"), [9, 10])"
   ]
  },
  {
   "cell_type": "code",
   "execution_count": 64,
   "metadata": {},
   "outputs": [],
   "source": [
    "def fizzbuzz(n):\n",
    "    return ['Fizz'*(not i%3) + 'Buzz'*(not i%5) or i for i in range(1, n+1)]\n",
    "\n",
    "def reverse_fizzbuzz(st):\n",
    "    res = [int(i) if i.isdigit() else i for i in st.split()]\n",
    "    length = len(res)\n",
    "    lst = fizzbuzz(length)\n",
    "    while lst[-len(res):]!=res:\n",
    "        length+=1\n",
    "        lst = fizzbuzz(length)\n",
    "    return [i for i in range(length+1)][-len(res):]"
   ]
  },
  {
   "cell_type": "code",
   "execution_count": 66,
   "metadata": {},
   "outputs": [
    {
     "name": "stdout",
     "output_type": "stream",
     "text": [
      "[1, 2, 'Fizz', 4, 'Buzz', 'Fizz', 7, 8, 'Fizz', 'Buzz', 11, 'Fizz', 13, 14, 'FizzBuzz']\n",
      "[687, 688, 689, 690]\n"
     ]
    }
   ],
   "source": [
    "test = 15\n",
    "print(fizzbuzz(test))\n",
    "#print(reverse_fizzbuzz(' '.join(str(i) for i in fizzbuzz(test))))\n",
    "print(reverse_fizzbuzz(\"Fizz 688 689 FizzBuzz\"))"
   ]
  },
  {
   "cell_type": "code",
   "execution_count": 93,
   "metadata": {},
   "outputs": [],
   "source": [
    "def reverse_fizzbuzz(st):\n",
    "    res = [int(i) if i.isdigit() else i for i in st.split()]\n",
    "    d = {'Fizz Buzz':[9,10],'Fizz':[3],'Buzz':[5],'Buzz Fizz':[5, 6],'FizzBuzz':[15]}\n",
    "    for a,b in enumerate(res):\n",
    "        if isinstance(b,int):\n",
    "            print (b-a)\n",
    "            return [i for i in range (b-a,b+len(res)-a)]\n",
    "    return d[st]"
   ]
  },
  {
   "cell_type": "code",
   "execution_count": 92,
   "metadata": {},
   "outputs": [
    {
     "name": "stdout",
     "output_type": "stream",
     "text": [
      "[3]\n"
     ]
    }
   ],
   "source": [
    "print(reverse_fizzbuzz(\"Fizz\"))"
   ]
  },
  {
   "cell_type": "code",
   "execution_count": null,
   "metadata": {},
   "outputs": [],
   "source": []
  }
 ],
 "metadata": {
  "kernelspec": {
   "display_name": "Python 3",
   "language": "python",
   "name": "python3"
  },
  "language_info": {
   "codemirror_mode": {
    "name": "ipython",
    "version": 3
   },
   "file_extension": ".py",
   "mimetype": "text/x-python",
   "name": "python",
   "nbconvert_exporter": "python",
   "pygments_lexer": "ipython3",
   "version": "3.7.3"
  }
 },
 "nbformat": 4,
 "nbformat_minor": 2
}
