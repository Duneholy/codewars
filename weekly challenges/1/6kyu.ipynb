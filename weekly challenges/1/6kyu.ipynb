{
 "cells": [
  {
   "cell_type": "code",
   "execution_count": 1,
   "metadata": {},
   "outputs": [],
   "source": [
    "#Given a number, num, return the shortest amount of steps it would take from 1, to land exactly on that number.\n",
    "\n",
    "#Description:\n",
    "#A step is defined as:\n",
    "\n",
    "#Adding 1 to the number: num += 1\n",
    "#Doubling the number: num *= 2\n",
    "#You will always start from the number 1 and you will have to return \n",
    "#the shortest count of steps it would take to land exactly on that number.\n",
    "\n",
    "#1 <= num <= 10000\n",
    "\n",
    "#Examples:\n",
    "\n",
    "#num == 3 would return 2 steps:\n",
    "#1 -- +1 --> 2:        1 step\n",
    "#2 -- +1 --> 3:        2 steps\n",
    "#2 steps\n",
    "\n",
    "#num == 12 would return 4 steps:\n",
    "#1 -- +1 --> 2:        1 step\n",
    "#2 -- +1 --> 3:        2 steps\n",
    "#3 -- x2 --> 6:        3 steps\n",
    "#6 -- x2 --> 12:       4 steps\n",
    "#4 steps\n",
    "\n",
    "#num == 16 would return 4 steps:\n",
    "#1 -- +1 --> 2:        1 step\n",
    "#2 -- x2 --> 4:        2 steps\n",
    "#4 -- x2 --> 8:        3 steps\n",
    "#8 -- x2 --> 16:       4 steps\n",
    "#4 steps"
   ]
  },
  {
   "cell_type": "code",
   "execution_count": 2,
   "metadata": {},
   "outputs": [],
   "source": [
    "#думаю что нужно сначала получить число /2, затем опустить его до 2 и -1. например\n",
    "#71-1 = 70 70/2 = 35 35-1 = 34 34/2 = 17 17-2 = 16 16/2 = 8 8/2 = 4 4/2 = 2 2-1 = 1 \n",
    "#итого 9 шагов в примере с кв тоже 9 значит все верно"
   ]
  },
  {
   "cell_type": "code",
   "execution_count": 6,
   "metadata": {},
   "outputs": [
    {
     "name": "stdout",
     "output_type": "stream",
     "text": [
      "4\n"
     ]
    }
   ],
   "source": [
    "def shortest_steps_to_num(num):\n",
    "    steps = 0\n",
    "    while num != 1:\n",
    "        if num%2==0:\n",
    "            num = num/2\n",
    "            steps += 1\n",
    "        else:\n",
    "            num = num-1\n",
    "            steps += 1\n",
    "    return steps\n",
    "\n",
    "print (shortest_steps_to_num(16))"
   ]
  },
  {
   "cell_type": "code",
   "execution_count": 12,
   "metadata": {},
   "outputs": [],
   "source": [
    "#решение с кв через бинарные числа нет спс, пока рано этим заниматься"
   ]
  },
  {
   "cell_type": "code",
   "execution_count": 7,
   "metadata": {},
   "outputs": [],
   "source": [
    "def shortest_steps_to_num(num):\n",
    "    return num.bit_length() + bin(num).count('1') - 2"
   ]
  },
  {
   "cell_type": "code",
   "execution_count": null,
   "metadata": {},
   "outputs": [],
   "source": []
  }
 ],
 "metadata": {
  "kernelspec": {
   "display_name": "Python 3",
   "language": "python",
   "name": "python3"
  },
  "language_info": {
   "codemirror_mode": {
    "name": "ipython",
    "version": 3
   },
   "file_extension": ".py",
   "mimetype": "text/x-python",
   "name": "python",
   "nbconvert_exporter": "python",
   "pygments_lexer": "ipython3",
   "version": "3.7.3"
  }
 },
 "nbformat": 4,
 "nbformat_minor": 2
}
