{
 "cells": [
  {
   "cell_type": "code",
   "execution_count": 3,
   "metadata": {},
   "outputs": [],
   "source": [
    "#You are given array of integers, your task will be to count all pairs in that array and return their count.\n",
    "\n",
    "#Notes:\n",
    "\n",
    "#Array can be empty or contain only one value; in this case return 0\n",
    "#If there are more pairs of a certain number, count each pair only once. \n",
    "#E.g.: for [0, 0, 0, 0] the return value is 2 (= 2 pairs of 0s)\n",
    "\n",
    "#Random tests: maximum array length is 1000, range of values in array is between 0 and 1000\n",
    "#Examples\n",
    "#[1, 2, 5, 6, 5, 2]  -->  2\n",
    "#...because there are 2 pairs: 2 and 5\n",
    "\n",
    "#[1, 2, 2, 20, 6, 20, 2, 6, 2]  -->  4\n",
    "#...because there are 4 pairs: 2, 20, 6 and 2 (again)"
   ]
  },
  {
   "cell_type": "code",
   "execution_count": 54,
   "metadata": {},
   "outputs": [
    {
     "name": "stdout",
     "output_type": "stream",
     "text": [
      "check1\n",
      "1\n",
      "check2\n",
      "2\n",
      "check20\n",
      "1\n",
      "check6\n",
      "1\n"
     ]
    },
    {
     "data": {
      "text/plain": [
       "5"
      ]
     },
     "execution_count": 54,
     "metadata": {},
     "output_type": "execute_result"
    }
   ],
   "source": [
    "arr = [1, 2, 2, 20, 6, 20, 2, 6, 2,1,1]\n",
    "res = 0\n",
    "while arr:\n",
    "    for i in arr:\n",
    "        print ('check'+str(i))\n",
    "        res += arr.count(i)//2\n",
    "        print (arr.count(i)//2)\n",
    "        while i in arr:\n",
    "            arr.remove(i)\n",
    "res"
   ]
  },
  {
   "cell_type": "code",
   "execution_count": 55,
   "metadata": {},
   "outputs": [],
   "source": [
    "#не особо красиво решил, вот вариант с кв:"
   ]
  },
  {
   "cell_type": "code",
   "execution_count": 56,
   "metadata": {},
   "outputs": [],
   "source": [
    "def duplicates(arr):\n",
    "    return sum(arr.count(i)//2 for i in set(arr))\n",
    "#та же логика, только вместо удаления использован set() про который я забыл"
   ]
  },
  {
   "cell_type": "code",
   "execution_count": 57,
   "metadata": {},
   "outputs": [
    {
     "data": {
      "text/plain": [
       "{1, 2, 6, 20}"
      ]
     },
     "execution_count": 57,
     "metadata": {},
     "output_type": "execute_result"
    }
   ],
   "source": [
    "arr = [1, 2, 2, 20, 6, 20, 2, 6, 2,1,1]\n",
    "set(arr)"
   ]
  },
  {
   "cell_type": "code",
   "execution_count": null,
   "metadata": {},
   "outputs": [],
   "source": []
  }
 ],
 "metadata": {
  "kernelspec": {
   "display_name": "Python 3",
   "language": "python",
   "name": "python3"
  },
  "language_info": {
   "codemirror_mode": {
    "name": "ipython",
    "version": 3
   },
   "file_extension": ".py",
   "mimetype": "text/x-python",
   "name": "python",
   "nbconvert_exporter": "python",
   "pygments_lexer": "ipython3",
   "version": "3.7.3"
  }
 },
 "nbformat": 4,
 "nbformat_minor": 2
}
