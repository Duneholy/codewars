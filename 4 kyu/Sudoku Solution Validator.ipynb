{
 "cells": [
  {
   "cell_type": "code",
   "execution_count": 1,
   "metadata": {},
   "outputs": [],
   "source": [
    "# https://www.codewars.com/kata/sudoku-solution-validator/train/python\n",
    "\n",
    "# validSolution([\n",
    "#   [5, 3, 4, 6, 7, 8, 9, 1, 2],\n",
    "#   [6, 7, 2, 1, 9, 5, 3, 4, 8],\n",
    "#   [1, 9, 8, 3, 4, 2, 5, 6, 7],\n",
    "#   [8, 5, 9, 7, 6, 1, 4, 2, 3],\n",
    "#   [4, 2, 6, 8, 5, 3, 7, 9, 1],\n",
    "#   [7, 1, 3, 9, 2, 4, 8, 5, 6],\n",
    "#   [9, 6, 1, 5, 3, 7, 2, 8, 4],\n",
    "#   [2, 8, 7, 4, 1, 9, 6, 3, 5],\n",
    "#   [3, 4, 5, 2, 8, 6, 1, 7, 9]\n",
    "# ]); // => true"
   ]
  },
  {
   "cell_type": "markdown",
   "metadata": {},
   "source": [
    "1 проверка: длина строки должна делиться на 3 <br/>\n",
    "2 проверка: в строке кол-во всех символов должно быть 1 и не должно быть не \"123456789\". <br/>\n",
    "3 проверка:  <br/>\n",
    "    1)создаем список res <br/>\n",
    "    2)в список добавляем на позицию текущего индекса текущую цифру <br/>\n",
    "    3)весь первоначальный список был пройден и в списке res есть опред. кол-во списков, в каждом из них должны работать 1 и 2 проверка. <br/>"
   ]
  },
  {
   "cell_type": "code",
   "execution_count": 184,
   "metadata": {},
   "outputs": [],
   "source": [
    "def validSolution(board):\n",
    "    res = []\n",
    "    for i in board:\n",
    "        res.append('')\n",
    "        \n",
    "    for i in board:\n",
    "        if len(i)%3==0:\n",
    "            for num in i:\n",
    "                if str(num) not in '123456789' and str(i).count(str(num))!=1:\n",
    "                    return False\n",
    "                else:\n",
    "                    res[i.index(num)]+=str(num)\n",
    "        else:\n",
    "            return False\n",
    "    print (res)\n",
    "    return len(res)%3==0 and all(x in '123456789' and i.count(x)==1 for i in res for x in i)"
   ]
  },
  {
   "cell_type": "code",
   "execution_count": 186,
   "metadata": {},
   "outputs": [
    {
     "name": "stdout",
     "output_type": "stream",
     "text": [
      "['147659238', '395428167', '286317459', '523174986', '768592314', '914836572', '432785691', '671943823', '859261745']\n"
     ]
    },
    {
     "data": {
      "text/plain": [
       "False"
      ]
     },
     "execution_count": 186,
     "metadata": {},
     "output_type": "execute_result"
    }
   ],
   "source": [
    "validSolution([[1, 3, 2, 5, 7, 9, 4, 6, 8], \n",
    " [4, 9, 8, 2, 6, 1, 3, 7, 5], \n",
    " [7, 5, 6, 3, 8, 4, 2, 1, 9], \n",
    " [6, 4, 3, 1, 5, 8, 7, 9, 2], \n",
    " [5, 2, 1, 7, 9, 3, 8, 4, 6], \n",
    " [9, 8, 7, 4, 2, 6, 5, 3, 1], \n",
    " [2, 1, 4, 9, 3, 5, 6, 8, 7], \n",
    " [3, 6, 5, 8, 1, 7, 9, 2, 4], \n",
    " [8, 7, 9, 6, 4, 2, 1, 3, 5]])"
   ]
  },
  {
   "cell_type": "code",
   "execution_count": 49,
   "metadata": {},
   "outputs": [],
   "source": [
    "#                         ([[5, 3, 4, 6, 7, 8, 9, 1, 2], \n",
    "#                          [6, 7, 2, 1, 9, 5, 3, 4, 8],\n",
    "#                          [1, 9, 8, 3, 4, 2, 5, 6, 7],\n",
    "#                          [8, 5, 9, 7, 6, 1, 4, 2, 3],\n",
    "#                          [4, 2, 6, 8, 5, 3, 7, 9, 1],\n",
    "#                          [7, 1, 3, 9, 2, 4, 8, 5, 6],\n",
    "#                          [9, 6, 1, 5, 3, 7, 2, 8, 4],\n",
    "#                          [2, 8, 7, 4, 1, 9, 6, 3, 5],\n",
    "#                          [3, 4, 5, 2, 8, 6, 1, 7, 9]])\n",
    "\n",
    "#                          ['5 6 1 8 4 7 9 2 3', \n",
    "#                          '3 7 9 5 2 1 6 8 4', \n",
    "#                          '4 2 8 9 6 3 1 7 5', \n",
    "#                          '6 1 3 7 8 9 5 4 2', \n",
    "#                          '7 9 4 6 5 2 3 1 8', \n",
    "#                          '8 5 2 1 3 4 7 9 6', \n",
    "#                          '9 3 5 4 7 8 2 6 1', \n",
    "#                          '1 4 6 2 9 5 8 3 7', \n",
    "#                          '2 8 7 3 1 6 4 5 9']"
   ]
  },
  {
   "cell_type": "code",
   "execution_count": 182,
   "metadata": {},
   "outputs": [],
   "source": [
    "def validSolution(board):\n",
    "    res = []\n",
    "    for i in range (0,len(board),3):\n",
    "        res.append(board[i:i+3])\n",
    "    testing = []\n",
    "    for line in res:\n",
    "        print(line, 'end')\n",
    "        ex = []\n",
    "        for y in range (len(line)):\n",
    "            for i in range (len(line)):\n",
    "                for a in range(0,len(line),3):\n",
    "                    ex.append(line[i][a+(y*3):a+3+(y*3)])\n",
    "        testing.extend(ex)\n",
    "    res = []\n",
    "    for three in range(0,len(testing),3):\n",
    "        m = []\n",
    "        for i in testing[three:three+3]:\n",
    "            m.extend(i)\n",
    "        res.append(m)\n",
    "    return len(res)%3==0 and all(str(x) in '123456789' and i.count(x)==1 for i in res for x in i)"
   ]
  },
  {
   "cell_type": "code",
   "execution_count": 183,
   "metadata": {},
   "outputs": [
    {
     "name": "stdout",
     "output_type": "stream",
     "text": [
      "[[5, 3, 4, 6, 7, 8, 9, 1, 2], [6, 7, 2, 1, 9, 5, 3, 4, 8], [1, 9, 8, 3, 4, 2, 5, 6, 7]] end\n",
      "[[8, 5, 9, 7, 6, 1, 4, 2, 3], [4, 2, 6, 8, 5, 3, 7, 9, 1], [7, 1, 3, 9, 2, 4, 8, 5, 6]] end\n",
      "[[9, 6, 1, 5, 3, 7, 2, 8, 4], [2, 8, 7, 4, 1, 9, 6, 3, 5], [3, 4, 5, 2, 8, 6, 1, 7, 9]] end\n"
     ]
    },
    {
     "data": {
      "text/plain": [
       "True"
      ]
     },
     "execution_count": 183,
     "metadata": {},
     "output_type": "execute_result"
    }
   ],
   "source": [
    "validSolution([[5, 3, 4, 6, 7, 8, 9, 1, 2], \n",
    "                         [6, 7, 2, 1, 9, 5, 3, 4, 8],\n",
    "                         [1, 9, 8, 3, 4, 2, 5, 6, 7],\n",
    "                         [8, 5, 9, 7, 6, 1, 4, 2, 3],\n",
    "                         [4, 2, 6, 8, 5, 3, 7, 9, 1],\n",
    "                         [7, 1, 3, 9, 2, 4, 8, 5, 6],\n",
    "                         [9, 6, 1, 5, 3, 7, 2, 8, 4],\n",
    "                         [2, 8, 7, 4, 1, 9, 6, 3, 5],\n",
    "                         [3, 4, 5, 2, 8, 6, 1, 7, 9]])"
   ]
  },
  {
   "cell_type": "code",
   "execution_count": 187,
   "metadata": {},
   "outputs": [],
   "source": [
    "def validSolution(board):\n",
    "    res = []\n",
    "    for i in board:\n",
    "        res.append('')\n",
    "        \n",
    "    for i in board:\n",
    "        if len(i)%3==0:\n",
    "            for num in i:\n",
    "                if str(num) not in '123456789' and str(i).count(str(num))!=1:\n",
    "                    return False\n",
    "                else:\n",
    "                    res[i.index(num)]+=str(num)\n",
    "        else:\n",
    "            return False\n",
    "    if not all(x in '123456789' and i.count(x)==1 for i in res for x in i):\n",
    "        return False\n",
    "    res = []\n",
    "    for i in range (0,len(board),3):\n",
    "        res.append(board[i:i+3])\n",
    "    testing = []\n",
    "    for line in res:\n",
    "        ex = []\n",
    "        for y in range (len(line)):\n",
    "            for i in range (len(line)):\n",
    "                for a in range(0,len(line),3):\n",
    "                    ex.append(line[i][a+(y*3):a+3+(y*3)])\n",
    "        testing.extend(ex)\n",
    "    res = []\n",
    "    for three in range(0,len(testing),3):\n",
    "        m = []\n",
    "        for i in testing[three:three+3]:\n",
    "            m.extend(i)\n",
    "        res.append(m)\n",
    "    return len(res)%3==0 and all(x!=0 and i.count(x)==1 for i in res for x in i)"
   ]
  },
  {
   "cell_type": "markdown",
   "metadata": {},
   "source": [
    "# Я создал монстра."
   ]
  },
  {
   "cell_type": "markdown",
   "metadata": {},
   "source": [
    "Варианты решений с кв:"
   ]
  },
  {
   "cell_type": "code",
   "execution_count": 188,
   "metadata": {},
   "outputs": [],
   "source": [
    "def validSolution(board):\n",
    "    blocks = [[board[x+a][y+b] for a in (0, 1, 2) for b in (0, 1, 2)] for x in (0, 3, 6) for y in (0, 3, 6)]\n",
    "    return not filter(lambda x: set(x) != set(range(1, 10)), board + zip(*board) + blocks)"
   ]
  },
  {
   "cell_type": "code",
   "execution_count": 189,
   "metadata": {},
   "outputs": [],
   "source": [
    "def validSolution(board):\n",
    "    boxes = validate_boxes(board)\n",
    "    cols = validate_cols(board)\n",
    "    rows = validate_rows(board)\n",
    "    return boxes and cols and rows\n",
    "\n",
    "def validate_boxes(board):\n",
    "    for i in range(0, 9, 3):\n",
    "        for j in range(0, 9, 3):\n",
    "            nums = board[i][j:j+3] + board[i+1][j:j+3] + board[i+2][j:j+3]\n",
    "            if not check_one_to_nine(nums):\n",
    "                return False\n",
    "    return True\n",
    "\n",
    "def validate_cols(board):\n",
    "    transposed = zip(*board)\n",
    "    for row in transposed:\n",
    "        if not check_one_to_nine(row):\n",
    "            return False\n",
    "    return True\n",
    "    \n",
    "def validate_rows(board):\n",
    "    for row in board:\n",
    "        if not check_one_to_nine(row):\n",
    "            return False\n",
    "    return True\n",
    "            \n",
    "\n",
    "def check_one_to_nine(lst):\n",
    "    check = range(1,10)\n",
    "    return sorted(lst) == check"
   ]
  },
  {
   "cell_type": "code",
   "execution_count": 190,
   "metadata": {},
   "outputs": [],
   "source": [
    "from itertools import product\n",
    "\n",
    "def validSolution(board):\n",
    "    rows = board\n",
    "    columns = map(list, zip(*board))\n",
    "    blocks = [[board[i][j] for (i, j) in product(xrange(x, x+3), xrange(y, y+3))] for (x, y) in product((0, 3, 6), repeat=2)]\n",
    "    \n",
    "    return all(sorted(line) == range(1, 10) for lines in (rows, columns, blocks) for line in lines)"
   ]
  },
  {
   "cell_type": "code",
   "execution_count": null,
   "metadata": {},
   "outputs": [],
   "source": []
  }
 ],
 "metadata": {
  "kernelspec": {
   "display_name": "Python 3",
   "language": "python",
   "name": "python3"
  },
  "language_info": {
   "codemirror_mode": {
    "name": "ipython",
    "version": 3
   },
   "file_extension": ".py",
   "mimetype": "text/x-python",
   "name": "python",
   "nbconvert_exporter": "python",
   "pygments_lexer": "ipython3",
   "version": "3.7.3"
  }
 },
 "nbformat": 4,
 "nbformat_minor": 2
}
