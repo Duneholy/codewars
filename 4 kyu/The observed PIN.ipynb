{
 "cells": [
  {
   "cell_type": "code",
   "execution_count": 1,
   "metadata": {},
   "outputs": [],
   "source": [
    "# https://www.codewars.com/kata/the-observed-pin/train/python\n",
    "# ┌───┬───┬───┐\n",
    "# │ 1 │ 2 │ 3 │\n",
    "# ├───┼───┼───┤\n",
    "# │ 4 │ 5 │ 6 │\n",
    "# ├───┼───┼───┤\n",
    "# │ 7 │ 8 │ 9 │\n",
    "# └───┼───┼───┘\n",
    "#     │ 0 │\n",
    "#     └───┘"
   ]
  },
  {
   "cell_type": "code",
   "execution_count": 133,
   "metadata": {},
   "outputs": [],
   "source": [
    "import itertools as it\n",
    "\n",
    "\n",
    "def get_pins(ob):\n",
    "    d = {\n",
    "        1: [1, 2, 4], 2: [1, 2, 3, 5], 3: [2, 3, 6], 4: [1, 4, 5, 7],\n",
    "        5: [2, 4, 5, 6, 8], 6: [3, 5, 6, 9], 7: [4, 7, 8],\n",
    "        8: [5, 7, 8, 9, 0], 9: [6, 8, 9], 0: [8, 0]\n",
    "    }\n",
    "    res = []\n",
    "    for i in str(ob):\n",
    "        res.append(d[int(i)])\n",
    "    combinations = [s for s in it.product(*res)]\n",
    "    res.clear()\n",
    "    for i in combinations:\n",
    "        kek = ''\n",
    "        for a in i:\n",
    "            kek += str(a)\n",
    "        res.append(kek)\n",
    "    return res"
   ]
  },
  {
   "cell_type": "code",
   "execution_count": 134,
   "metadata": {},
   "outputs": [
    {
     "name": "stdout",
     "output_type": "stream",
     "text": [
      "['1', '2', '4']\n"
     ]
    }
   ],
   "source": [
    "print(get_pins(1))"
   ]
  },
  {
   "cell_type": "code",
   "execution_count": 135,
   "metadata": {},
   "outputs": [],
   "source": [
    "# решение с кв\n",
    "from itertools import product\n",
    "\n",
    "ADJACENTS = ('08', '124', '2135', '326', '4157', '52468', '6359', '748', '85790', '968')\n",
    "\n",
    "def get_pins(observed):\n",
    "    return [''.join(p) for p in product(*(ADJACENTS[int(d)] for d in observed))]"
   ]
  },
  {
   "cell_type": "code",
   "execution_count": null,
   "metadata": {},
   "outputs": [],
   "source": [
    "from itertools import product\n",
    "\n",
    "\n",
    "PIN = {'1': ('1', '2', '4'), \n",
    "       '2': ('1', '2', '3', '5'), \n",
    "       '3': ('2', '3', '6'), \n",
    "       '4': ('1', '4', '5', '7'), \n",
    "       '5': ('2', '4', '5', '6', '8'), \n",
    "       '6': ('5', '6', '9', '3'), \n",
    "       '7': ('4', '7', '8'), \n",
    "       '8': ('7', '5', '8', '9', '0'), \n",
    "       '9': ('6', '8', '9'), '0': ('0', '8')}\n",
    "\n",
    "\n",
    "def get_pins(observed):\n",
    "    return [''.join(a) for a in product(*(PIN[b] for b in observed))]"
   ]
  }
 ],
 "metadata": {
  "kernelspec": {
   "display_name": "Python 3",
   "language": "python",
   "name": "python3"
  },
  "language_info": {
   "codemirror_mode": {
    "name": "ipython",
    "version": 3
   },
   "file_extension": ".py",
   "mimetype": "text/x-python",
   "name": "python",
   "nbconvert_exporter": "python",
   "pygments_lexer": "ipython3",
   "version": "3.7.3"
  }
 },
 "nbformat": 4,
 "nbformat_minor": 2
}
