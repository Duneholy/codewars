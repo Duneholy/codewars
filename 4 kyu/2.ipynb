{
 "cells": [
  {
   "cell_type": "code",
   "execution_count": null,
   "metadata": {},
   "outputs": [],
   "source": [
    "# Your task in order to complete this Kata is to write a function which formats a duration, \n",
    "# given as a number of seconds, in a human-friendly way.\n",
    "\n",
    "# The function must accept a non-negative integer. If it is zero, it just returns \"now\". \n",
    "# Otherwise, the duration is expressed as a combination of years, days, hours, minutes and seconds.\n",
    "\n",
    "# It is much easier to understand with an example:\n",
    "\n",
    "# format_duration(62)    # returns \"1 minute and 2 seconds\"\n",
    "# format_duration(3662)  # returns \"1 hour, 1 minute and 2 seconds\""
   ]
  },
  {
   "cell_type": "code",
   "execution_count": 2,
   "metadata": {},
   "outputs": [],
   "source": [
    "intervals = (\n",
    "    ('years', 31536000),\n",
    "    ('days', 86400),\n",
    "    ('hours', 3600),\n",
    "    ('minutes', 60),\n",
    "    ('seconds', 1),\n",
    "    )\n",
    "\n",
    "def format_duration(seconds):\n",
    "    result = []\n",
    "    if seconds == 0 or seconds == '':\n",
    "        return 'now'\n",
    "    for name, count in intervals:\n",
    "        value = seconds // count\n",
    "        if value:\n",
    "            seconds -= value * count\n",
    "            if value == 1:\n",
    "                name = name.rstrip('s')\n",
    "            result.append(\"{} {}\".format(value, name))\n",
    "            \n",
    "    if len(result)>1:\n",
    "        return ', '.join(result[:-1])+' and '+result[-1]\n",
    "    else:\n",
    "        return ', '.join(result)"
   ]
  },
  {
   "cell_type": "code",
   "execution_count": null,
   "metadata": {},
   "outputs": [],
   "source": []
  }
 ],
 "metadata": {
  "kernelspec": {
   "display_name": "Python 3",
   "language": "python",
   "name": "python3"
  },
  "language_info": {
   "codemirror_mode": {
    "name": "ipython",
    "version": 3
   },
   "file_extension": ".py",
   "mimetype": "text/x-python",
   "name": "python",
   "nbconvert_exporter": "python",
   "pygments_lexer": "ipython3",
   "version": "3.7.3"
  }
 },
 "nbformat": 4,
 "nbformat_minor": 2
}
