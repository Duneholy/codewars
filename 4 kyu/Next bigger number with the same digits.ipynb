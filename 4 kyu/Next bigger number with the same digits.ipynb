{
 "cells": [
  {
   "cell_type": "code",
   "execution_count": 1,
   "metadata": {},
   "outputs": [],
   "source": [
    "# https://www.codewars.com/kata/55983863da40caa2c900004e"
   ]
  },
  {
   "cell_type": "code",
   "execution_count": 13,
   "metadata": {},
   "outputs": [
    {
     "data": {
      "text/plain": [
       "99987632"
      ]
     },
     "execution_count": 13,
     "metadata": {},
     "output_type": "execute_result"
    }
   ],
   "source": [
    "# 1 вариант, самый простой и очевидный это через строку\n",
    "def next_bigger(n):\n",
    "    return int(''.join(sorted(str(n),reverse=True)))\n",
    "\n",
    "next_bigger(92876399)\n",
    "# здесь я прокололся, потому что нужно СЛЕДУЮЩЕЕ число, а не максимальное"
   ]
  },
  {
   "cell_type": "code",
   "execution_count": 16,
   "metadata": {},
   "outputs": [
    {
     "data": {
      "text/plain": [
       "92876939"
      ]
     },
     "execution_count": 16,
     "metadata": {},
     "output_type": "execute_result"
    }
   ],
   "source": [
    "# попробуем перебором чисел\n",
    "def next_bigger(n):\n",
    "    res = n\n",
    "    while res:\n",
    "        res+=1\n",
    "        if sorted(str(res))==sorted(str(n)):\n",
    "            break\n",
    "    return res\n",
    "\n",
    "next_bigger(92876399)\n",
    "# код работает, но слишком медленно для решения задачи"
   ]
  },
  {
   "cell_type": "code",
   "execution_count": 77,
   "metadata": {},
   "outputs": [
    {
     "data": {
      "text/plain": [
       "92876939"
      ]
     },
     "execution_count": 77,
     "metadata": {},
     "output_type": "execute_result"
    }
   ],
   "source": [
    "# что, если из данного числа создать список всех возможных вариаций, отсторитровать и вывести следующее после n?\n",
    "import itertools\n",
    "\n",
    "def next_bigger(n):\n",
    "    res = list(set(itertools.permutations(str(n))))\n",
    "    res.sort()\n",
    "    return int(''.join(res[res.index(tuple(str(n)))+1]))\n",
    "\n",
    "next_bigger(92876399)\n",
    "# тоже слишком медленно"
   ]
  },
  {
   "cell_type": "code",
   "execution_count": 108,
   "metadata": {},
   "outputs": [
    {
     "data": {
      "text/plain": [
       "92876939"
      ]
     },
     "execution_count": 108,
     "metadata": {},
     "output_type": "execute_result"
    }
   ],
   "source": [
    "import itertools\n",
    "\n",
    "def next_bigger(n):\n",
    "    res = set(itertools.permutations(str(n)))\n",
    "# скорость 1617 ms, max 2000\n",
    "    lst = []\n",
    "    for i in res:\n",
    "        if int(''.join(i))>n:\n",
    "            lst.append(int(''.join(i)))\n",
    "#скорость 1611\n",
    "    return min(lst)\n",
    "\n",
    "next_bigger(92876399)\n",
    "#не прошел"
   ]
  },
  {
   "cell_type": "code",
   "execution_count": 109,
   "metadata": {},
   "outputs": [
    {
     "data": {
      "text/plain": [
       "92876939"
      ]
     },
     "execution_count": 109,
     "metadata": {},
     "output_type": "execute_result"
    }
   ],
   "source": [
    "import itertools\n",
    "\n",
    "def next_bigger(n):\n",
    "    lst = []\n",
    "    res = []\n",
    "    for i in set(itertools.permutations(str(n))):\n",
    "        lst.append(int(''.join(i)))\n",
    "    for num in lst:\n",
    "        if num>n:\n",
    "            res.append(num)\n",
    "    return min(res)\n",
    "\n",
    "next_bigger(92876399)\n",
    "# тоже нет"
   ]
  },
  {
   "cell_type": "code",
   "execution_count": null,
   "metadata": {},
   "outputs": [],
   "source": [
    "# You are not supposed to use itertools at all, actually: they are just a hindrance \n",
    "# and you cannot achieve good performances with them in this case.\n",
    "\n",
    "# this kata is meant to let you compute permutations with a logic on your own and, possibly, \n",
    "# to let you think that pre-made tools are not life-savers working in every situation.\n",
    "\n",
    "# прочитал комменты, попробуем по-другому."
   ]
  },
  {
   "cell_type": "code",
   "execution_count": 170,
   "metadata": {},
   "outputs": [
    {
     "data": {
      "text/plain": [
       "125659899"
      ]
     },
     "execution_count": 170,
     "metadata": {},
     "output_type": "execute_result"
    }
   ],
   "source": [
    "def next_bigger(n):\n",
    "    n = list(str(n))\n",
    "    for i in range(len(n)-1,-1,-1):\n",
    "        try:\n",
    "            if n[i]!=n[i-1]:\n",
    "                return int(''.join(n[:i-1])+n[i]+n[i-1]+''.join(n[i+1:]))\n",
    "        except:\n",
    "            return -1\n",
    "    \n",
    "next_bigger(125658999)\n",
    "\n",
    "#отрабатывает все, работает быстро, но не работет, если нет повторяющихся чисел."
   ]
  },
  {
   "cell_type": "code",
   "execution_count": 237,
   "metadata": {},
   "outputs": [
    {
     "data": {
      "text/plain": [
       "414"
      ]
     },
     "execution_count": 237,
     "metadata": {},
     "output_type": "execute_result"
    }
   ],
   "source": [
    "def next_bigger(n):\n",
    "    n = str(n)\n",
    "    if sorted(n,reverse=True)==list(n):\n",
    "        return -1\n",
    "    for i in range(len(n)-1,-1,-1):\n",
    "        if n[i]>n[i-1]:\n",
    "            print(i)\n",
    "            return int(n[:i-1]+n[i]+n[i-1]+n[i+1:])\n",
    "        else:\n",
    "            if n[i]=='0':\n",
    "                return int(n[:i-2]+n[i-1]+n[i]+n[i-2])\n",
    "            else:\n",
    "                return int(n[:i-2]+n[i-1]+n[i-2]+n[i:])\n",
    "                       \n",
    "next_bigger(144)"
   ]
  },
  {
   "cell_type": "code",
   "execution_count": 213,
   "metadata": {},
   "outputs": [],
   "source": [
    "\n",
    "# 1234567890 : should equal 1234567908\n",
    "# 144 => 414"
   ]
  },
  {
   "cell_type": "code",
   "execution_count": 255,
   "metadata": {},
   "outputs": [
    {
     "data": {
      "text/plain": [
       "41116"
      ]
     },
     "execution_count": 255,
     "metadata": {},
     "output_type": "execute_result"
    }
   ],
   "source": [
    "# 860 ms\n",
    "\n",
    "def next_bigger(n):\n",
    "    n = list(str(n))\n",
    "    if sorted(n,reverse=True)==list(n):\n",
    "        return -1\n",
    "    for i in range(len(n) -1, 0, -1):\n",
    "        if n[i] > n[i-1]:     \n",
    "            A=n[:i]\n",
    "            B=n[i:]\n",
    "            break                 \n",
    "# сделали 2 списка - начало и конец. Прим: 136883523, A=[13688352] , B=[3]\n",
    "    B_list_for_min_num=sorted(list(B))   \n",
    "# вторую часть делаем самой минимальной \n",
    "\n",
    "    while B_list_for_min_num[0] <= A[-1]:    \n",
    "        del B_list_for_min_num[0]  \n",
    "# если первое число второй части меньше или равно последнего первой части: удаляем его и проверяем снова. Ищем короче число,\n",
    "# которое будет больше, чем последнее в A.\n",
    "# пример с 16411: A = 1, B = 6411. Sorted B = 1146. Нам нужно оставить в B 46 и удалить 11\n",
    "    B[B.index(min(B_list_for_min_num))], A[-1] = A[-1], B[B.index(min(B_list_for_min_num))]\n",
    "# вместо самого меньшего числа в B ставим последнее число A. Вместо последнего A ставим меньшее число B.\n",
    "# короче, меняем местами\n",
    "    B = sorted(B)\n",
    "    finish = A + B\n",
    "    return int(''.join(map(str, finish)))\n",
    "\n",
    "next_bigger(16411)"
   ]
  },
  {
   "cell_type": "code",
   "execution_count": 263,
   "metadata": {},
   "outputs": [],
   "source": [
    "def next_bigger(n):\n",
    "    n = list(str(n))\n",
    "    if sorted(n,reverse=True)==list(n):\n",
    "        return -1\n",
    "    for i in range(len(n) -1, 0, -1):\n",
    "        if n[i] > n[i-1]:     \n",
    "            A=n[:i]\n",
    "            B=n[i:]\n",
    "            break   \n",
    "            \n",
    "    B_min = sorted(B)\n",
    "    \n",
    "    while B_min[0] <= A[-1]:    \n",
    "        del B_min[0] \n",
    "            \n",
    "    B[B.index(min(B_min))], A[-1] = A[-1], B[B.index(min(B_min))]\n",
    "    return int(''.join(map(str, A + sorted(B))))\n",
    "# 795 ms"
   ]
  },
  {
   "cell_type": "code",
   "execution_count": 264,
   "metadata": {},
   "outputs": [
    {
     "data": {
      "text/plain": [
       "41116"
      ]
     },
     "execution_count": 264,
     "metadata": {},
     "output_type": "execute_result"
    }
   ],
   "source": [
    "#860 ms\n",
    "def next_bigger(n):\n",
    "    n = str(n)[::-1]\n",
    "    try:\n",
    "        i = min(i+1 for i in range(len(n[:-1])) if n[i] > n[i+1])\n",
    "        j = n[:i].index(min([a for a in n[:i] if a > n[i]]))\n",
    "        return int(n[i+1::][::-1]+n[j]+''.join(sorted(n[j+1:i+1]+n[:j]))) \n",
    "    except:\n",
    "        return -1\n",
    "    \n",
    "next_bigger(16411)"
   ]
  },
  {
   "cell_type": "code",
   "execution_count": null,
   "metadata": {},
   "outputs": [],
   "source": []
  }
 ],
 "metadata": {
  "kernelspec": {
   "display_name": "Python 3",
   "language": "python",
   "name": "python3"
  },
  "language_info": {
   "codemirror_mode": {
    "name": "ipython",
    "version": 3
   },
   "file_extension": ".py",
   "mimetype": "text/x-python",
   "name": "python",
   "nbconvert_exporter": "python",
   "pygments_lexer": "ipython3",
   "version": "3.7.3"
  }
 },
 "nbformat": 4,
 "nbformat_minor": 2
}
