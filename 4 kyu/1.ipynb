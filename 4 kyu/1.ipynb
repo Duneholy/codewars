{
 "cells": [
  {
   "cell_type": "code",
   "execution_count": 1,
   "metadata": {},
   "outputs": [],
   "source": [
    "# Given an n x n array, return the array elements arranged from \n",
    "# outermost elements to the middle element, traveling clockwise.\n",
    "\n",
    "# array = [[1,2,3,4],\n",
    "#          [4,5,6,7],\n",
    "#          [7,8,9,10],\n",
    "#       [10,11,12,13]]\n",
    "# snail(array) #=> [1,2,3,4,7,10,13,12,11,10,7,4,5,6,9,8]\n",
    "# For better understanding, please follow the numbers of the \n",
    "# next array consecutively:\n",
    "\n",
    "# array = [[1,2,3],\n",
    "#          [8,9,4],\n",
    "#          [7,6,5]\n",
    "# snail(array) #=> [1,2,3,4,5,6,7,8,9]"
   ]
  },
  {
   "cell_type": "code",
   "execution_count": 27,
   "metadata": {},
   "outputs": [],
   "source": [
    "def snail(array):\n",
    "    l = len(array) #4\n",
    "    l_2 = len(array[0]) #3\n",
    "    p_1 = 1 #цикл правый шаг вниг\n",
    "    p_2 = 0 #цикл левый шаг вверг\n",
    "    a_1 = array[0] #1,2,3,4 - фиксед\n",
    "    a_2 = [i[l_2-p_1] for i in array[1:-1]] #7,10\n",
    "    a_3 = array[-1][::-1] #13,12,11,10 - фиксед\n",
    "    a_4 = [i[p_2] for i in array[1:-1]][::-1] #6,9\n",
    "    a_5 = array[1]\n",
    "    return a_1+a_2+a_3+a_4"
   ]
  },
  {
   "cell_type": "code",
   "execution_count": 28,
   "metadata": {},
   "outputs": [
    {
     "name": "stdout",
     "output_type": "stream",
     "text": [
      "[1, 2, 3, 4, 7, 10, 13, 12, 11, 10, 7, 4]\n"
     ]
    }
   ],
   "source": [
    "print (snail([[1,2,3,4],[4,5,6,7],[7,8,9,10],[10,11,12,13]]))"
   ]
  },
  {
   "cell_type": "code",
   "execution_count": 43,
   "metadata": {},
   "outputs": [
    {
     "data": {
      "text/plain": [
       "[5, 6]"
      ]
     },
     "execution_count": 43,
     "metadata": {},
     "output_type": "execute_result"
    }
   ],
   "source": [
    "array = [[1,2,3,4],[4,5,6,7],[7,8,9,10],[10,11,12,13]]\n",
    "a = 0\n",
    "b = 0\n",
    "c = 0\n",
    "array[a][b:]\n",
    "#next step:\n",
    "a +=1\n",
    "b +=1\n",
    "c -=1\n",
    "array[a][b:c] #шаг вправо"
   ]
  },
  {
   "cell_type": "code",
   "execution_count": 50,
   "metadata": {},
   "outputs": [
    {
     "data": {
      "text/plain": [
       "[9, 12, 3, 6]"
      ]
     },
     "execution_count": 50,
     "metadata": {},
     "output_type": "execute_result"
    }
   ],
   "source": [
    "array = [[1,2,3,4],[4,5,6,7],[7,8,9,10],[10,11,12,13],[1,2,3,4],[4,5,6,7],[7,8,9,10],[10,11,12,13]]\n",
    "d = 1\n",
    "e = -1\n",
    "f = -1\n",
    "[i[f] for i in array[d:e]] #1\n",
    "d += 1\n",
    "e -= 1\n",
    "f -= 1\n",
    "[i[f] for i in array[d:e]] #2 шаг вниз"
   ]
  },
  {
   "cell_type": "code",
   "execution_count": 54,
   "metadata": {},
   "outputs": [
    {
     "data": {
      "text/plain": [
       "[8, 5, 2, 11, 8, 5]"
      ]
     },
     "execution_count": 54,
     "metadata": {},
     "output_type": "execute_result"
    }
   ],
   "source": [
    "array = [[1,2,3,4],[4,5,6,7],[7,8,9,10],[10,11,12,13],[1,2,3,4],[4,5,6,7],[7,8,9,10],[10,11,12,13]]\n",
    "g = 1\n",
    "h = -1\n",
    "j = 0\n",
    "[i[j] for i in array[g:h]][::-1] #1\n",
    "g += 1\n",
    "g -= 1\n",
    "j += 1\n",
    "[i[j] for i in array[g:h]][::-1] #2 шаг вверх"
   ]
  },
  {
   "cell_type": "code",
   "execution_count": 59,
   "metadata": {},
   "outputs": [
    {
     "data": {
      "text/plain": [
       "[9, 8]"
      ]
     },
     "execution_count": 59,
     "metadata": {},
     "output_type": "execute_result"
    }
   ],
   "source": [
    "array = [[1,2,3,4],[4,5,6,7],[7,8,9,10],[10,11,12,13]]\n",
    "k = -1\n",
    "l = 0\n",
    "m = 0\n",
    "array[k][l:][::-1]\n",
    "#next step:\n",
    "k -=1\n",
    "l +=1\n",
    "m -=1\n",
    "array[k][l:m][::-1] #шаг влево"
   ]
  },
  {
   "cell_type": "code",
   "execution_count": 98,
   "metadata": {},
   "outputs": [],
   "source": [
    "array = [[1,2,3,4],[4,5,6,7],[7,8,9,10],[10,11,12,13]]\n",
    "def snail(array):\n",
    "    a = 0\n",
    "    c = 0\n",
    "    d = 1\n",
    "    k = -1\n",
    "    res = array[a][a:] + [i[k] for i in array[d:k]] + array[k][a:][::-1] + [i[a] for i in array[d:k]][::-1]\n",
    "    while len(res)<len(array)*len(array[0]):\n",
    "        a +=1\n",
    "        c -=1\n",
    "        d += 1\n",
    "        k -=1\n",
    "        if len(res)<len(array)*len(array[0]):\n",
    "            res.extend(array[a][a:c])\n",
    "        if len(res)<len(array)*len(array[0]):\n",
    "            res.extend(i[k] for i in array[d:k])\n",
    "        if len(res)<len(array)*len(array[0]):\n",
    "            res.extend(array[k][a:c][::-1])\n",
    "        if len(res)<len(array)*len(array[0]):\n",
    "            res.extend([i[a] for i in array[d:k]][::-1])\n",
    "    return [res[0]] if len(res)==2 else res"
   ]
  },
  {
   "cell_type": "code",
   "execution_count": 99,
   "metadata": {},
   "outputs": [],
   "source": [
    "#на это ушло два часа. Решение с кв:\n",
    "def snail(array):\n",
    "    return list(array[0]) + snail(zip(*array[1:])[::-1]) if array else []"
   ]
  },
  {
   "cell_type": "code",
   "execution_count": null,
   "metadata": {},
   "outputs": [],
   "source": []
  }
 ],
 "metadata": {
  "kernelspec": {
   "display_name": "Python 3",
   "language": "python",
   "name": "python3"
  },
  "language_info": {
   "codemirror_mode": {
    "name": "ipython",
    "version": 3
   },
   "file_extension": ".py",
   "mimetype": "text/x-python",
   "name": "python",
   "nbconvert_exporter": "python",
   "pygments_lexer": "ipython3",
   "version": "3.7.3"
  }
 },
 "nbformat": 4,
 "nbformat_minor": 2
}
