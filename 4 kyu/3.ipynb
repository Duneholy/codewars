{
 "cells": [
  {
   "cell_type": "code",
   "execution_count": null,
   "metadata": {},
   "outputs": [],
   "source": [
    "#https://www.codewars.com/kata/strings-mix/"
   ]
  },
  {
   "cell_type": "code",
   "execution_count": 1,
   "metadata": {},
   "outputs": [],
   "source": [
    "def mix(s1, s2):\n",
    "    s = set.union(set(s1),set(s2))\n",
    "    res = []\n",
    "    for i in s:\n",
    "        if i.isalpha() and i.islower():\n",
    "            if s1.count(i)>s2.count(i) and s1.count(i)>1:\n",
    "                res.append('1:'+i*s1.count(i)+'/')\n",
    "            elif s2.count(i)>s1.count(i) and s2.count(i)>1:\n",
    "                res.append('2:'+i*s2.count(i)+'/')\n",
    "            elif s2.count(i)==s1.count(i) and s2.count(i)>1:\n",
    "                res.append('=:'+i*s2.count(i)+'/')      \n",
    "                \n",
    "    return ''.join(sorted(res, key=lambda item: (-len(item), item)))[:-1]"
   ]
  }
 ],
 "metadata": {
  "kernelspec": {
   "display_name": "Python 3",
   "language": "python",
   "name": "python3"
  },
  "language_info": {
   "codemirror_mode": {
    "name": "ipython",
    "version": 3
   },
   "file_extension": ".py",
   "mimetype": "text/x-python",
   "name": "python",
   "nbconvert_exporter": "python",
   "pygments_lexer": "ipython3",
   "version": "3.7.3"
  }
 },
 "nbformat": 4,
 "nbformat_minor": 2
}
