{
 "cells": [
  {
   "cell_type": "code",
   "execution_count": 1,
   "metadata": {},
   "outputs": [],
   "source": [
    "# https://www.codewars.com/kata/range-extraction/train/python"
   ]
  },
  {
   "cell_type": "code",
   "execution_count": 44,
   "metadata": {},
   "outputs": [
    {
     "data": {
      "text/plain": [
       "'-6,-3-1,3-5,7-11,14,15,17-20'"
      ]
     },
     "execution_count": 44,
     "metadata": {},
     "output_type": "execute_result"
    }
   ],
   "source": [
    "from operator import itemgetter\n",
    "from itertools import *\n",
    "\n",
    "def solution(args):\n",
    "    lst = sorted(list(args))\n",
    "    groups = []\n",
    "    for k, g in groupby(enumerate(lst), lambda x: x[0]-x[1]):\n",
    "        groups.append(list(map(itemgetter(1), g)))\n",
    "    res = []\n",
    "    for i in groups:\n",
    "        if len(i)==1:\n",
    "            res.append(str(i[0]))\n",
    "        elif len(i)==2:\n",
    "            res.extend([str(i[0]), str(i[1])])\n",
    "        else:\n",
    "            res.append(str(i[0])+'-'+str(i[-1]))\n",
    "    return ','.join(res)\n",
    "\n",
    "solution([-6,-3,-2,-1,0,1,3,4,5,7,8,9,10,11,14,15,17,18,19,20])\n",
    "\n",
    "# returns \"-6,-3-1,3-5,7-11,14,15,17-20\""
   ]
  },
  {
   "cell_type": "code",
   "execution_count": 47,
   "metadata": {},
   "outputs": [
    {
     "data": {
      "text/plain": [
       "'-6,-3-1,3-5,7-11,14,15,17-20'"
      ]
     },
     "execution_count": 47,
     "metadata": {},
     "output_type": "execute_result"
    }
   ],
   "source": [
    "# решение с кв\n",
    "def solution(arr):\n",
    "    ranges = []\n",
    "    a = b = arr[0]\n",
    "# тут у нас а и б == -6.\n",
    "\n",
    "    for n in arr[1:] + [None]: # чекаем список всего кроме первой цифры\n",
    "        if n != b+1: # если цифра не следующая за б, не в последовательности:\n",
    "            ranges.append(str(a) if a == b else \"{}{}{}\".format(a, \",\" if a+1 == b else \"-\", b))\n",
    "        # присоединяем к рейнжес а, если а==б, т.е. -6. если же они разные, то a,б ,если не идут друг за другом, а если идут\n",
    "        # то а-б\n",
    "            a = n #если цифра не была в последовательности, то а==эта цифра теперь\n",
    "        b = n\n",
    "    return \",\".join(ranges)\n",
    "\n",
    "solution([-6,-3,-2,-1,0,1,3,4,5,7,8,9,10,11,14,15,17,18,19,20])"
   ]
  },
  {
   "cell_type": "code",
   "execution_count": null,
   "metadata": {},
   "outputs": [],
   "source": []
  }
 ],
 "metadata": {
  "kernelspec": {
   "display_name": "Python 3",
   "language": "python",
   "name": "python3"
  },
  "language_info": {
   "codemirror_mode": {
    "name": "ipython",
    "version": 3
   },
   "file_extension": ".py",
   "mimetype": "text/x-python",
   "name": "python",
   "nbconvert_exporter": "python",
   "pygments_lexer": "ipython3",
   "version": "3.7.3"
  }
 },
 "nbformat": 4,
 "nbformat_minor": 2
}
