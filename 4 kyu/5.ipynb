{
 "cells": [
  {
   "cell_type": "code",
   "execution_count": 1,
   "metadata": {},
   "outputs": [],
   "source": [
    "#https://www.codewars.com/kata/strip-comments/train/python"
   ]
  },
  {
   "cell_type": "code",
   "execution_count": 63,
   "metadata": {},
   "outputs": [],
   "source": [
    "def solution(string,markers):\n",
    "    res = []\n",
    "    for spl in string.split('\\n'):\n",
    "        comb = ''\n",
    "        for letter in spl:\n",
    "            if letter not in markers:\n",
    "                comb+=letter\n",
    "            else:\n",
    "                comb = comb[:-1]\n",
    "                break\n",
    "        res.append(comb)\n",
    "    return '\\n'.join(res)"
   ]
  },
  {
   "cell_type": "code",
   "execution_count": 64,
   "metadata": {},
   "outputs": [
    {
     "data": {
      "text/plain": [
       "'pears strawberries\\nstrawberries strawberries\\nbananas ^ apples\\nbananas cherries oranges\\n'"
      ]
     },
     "execution_count": 64,
     "metadata": {},
     "output_type": "execute_result"
    }
   ],
   "source": [
    "solution('pears strawberries\\nstrawberries strawberries ! avocados cherries\\nbananas ^ apples\\nbananas cherries oranges\\n, bananas apples', ['!', ',', '='])"
   ]
  },
  {
   "cell_type": "code",
   "execution_count": 65,
   "metadata": {},
   "outputs": [],
   "source": [
    "#вариант короче с кв:\n",
    "def solution(string,markers):\n",
    "    parts = string.split('\\n')\n",
    "    for s in markers:\n",
    "        parts = [v.split(s)[0].rstrip() for v in parts]\n",
    "    return '\\n'.join(parts)"
   ]
  },
  {
   "cell_type": "code",
   "execution_count": null,
   "metadata": {},
   "outputs": [],
   "source": []
  }
 ],
 "metadata": {
  "kernelspec": {
   "display_name": "Python 3",
   "language": "python",
   "name": "python3"
  },
  "language_info": {
   "codemirror_mode": {
    "name": "ipython",
    "version": 3
   },
   "file_extension": ".py",
   "mimetype": "text/x-python",
   "name": "python",
   "nbconvert_exporter": "python",
   "pygments_lexer": "ipython3",
   "version": "3.7.3"
  }
 },
 "nbformat": 4,
 "nbformat_minor": 2
}
